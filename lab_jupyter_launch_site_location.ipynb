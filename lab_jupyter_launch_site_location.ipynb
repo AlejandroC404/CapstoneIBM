{
 "cells": [
  {
   "cell_type": "markdown",
   "metadata": {
    "id": "3n3ltmfnrqpi",
    "outputId": "a2d4f52a-2fb7-4668-f5f0-fe862aab8eb0",
    "papermill": {
     "duration": 1.489571,
     "end_time": "2020-09-19T06:26:57.168979",
     "exception": false,
     "start_time": "2020-09-19T06:26:55.679408",
     "status": "completed"
    },
    "tags": []
   },
   "source": [
    "<p style=\"text-align:center\">\n",
    "    <a href=\"https://skills.network/?utm_medium=Exinfluencer&utm_source=Exinfluencer&utm_content=000026UJ&utm_term=10006555&utm_id=NA-SkillsNetwork-Channel-SkillsNetworkCoursesIBMDS0321ENSkillsNetwork865-2023-01-01\">\n",
    "    <img src=\"https://cf-courses-data.s3.us.cloud-object-storage.appdomain.cloud/assets/logos/SN_web_lightmode.png\" width=\"200\" alt=\"Skills Network Logo\"  />\n",
    "    </a>\n",
    "</p>\n"
   ]
  },
  {
   "cell_type": "markdown",
   "metadata": {},
   "source": [
    "# **Launch Sites Locations Analysis with Folium**\n"
   ]
  },
  {
   "cell_type": "markdown",
   "metadata": {},
   "source": [
    "Estimated time needed: **40** minutes\n"
   ]
  },
  {
   "cell_type": "markdown",
   "metadata": {},
   "source": [
    "The launch success rate may depend on many factors such as payload mass, orbit type, and so on. It may also depend on the location and proximities of a launch site, i.e., the initial position of rocket trajectories. Finding an optimal location for building a launch site certainly involves many factors and hopefully we could discover some of the factors by analyzing the existing launch site locations.\n"
   ]
  },
  {
   "cell_type": "markdown",
   "metadata": {},
   "source": [
    "In the previous exploratory data analysis labs, you have visualized the SpaceX launch dataset using `matplotlib` and `seaborn` and discovered some preliminary correlations between the launch site and success rates. In this lab, you will be performing more interactive visual analytics using `Folium`.\n"
   ]
  },
  {
   "cell_type": "markdown",
   "metadata": {},
   "source": [
    "## Objectives\n"
   ]
  },
  {
   "cell_type": "markdown",
   "metadata": {},
   "source": [
    "This lab contains the following tasks:\n",
    "- **TASK 1:** Mark all launch sites on a map\n",
    "- **TASK 2:** Mark the success/failed launches for each site on the map\n",
    "- **TASK 3:** Calculate the distances between a launch site to its proximities\n",
    "\n",
    "After completed the above tasks, you should be able to find some geographical patterns about launch sites.\n"
   ]
  },
  {
   "cell_type": "markdown",
   "metadata": {},
   "source": [
    "Let's first import required Python packages for this lab:\n"
   ]
  },
  {
   "cell_type": "code",
   "execution_count": 1,
   "metadata": {
    "ExecuteTime": {
     "end_time": "2024-09-06T15:53:27.664988Z",
     "start_time": "2024-09-06T15:53:13.794623Z"
    }
   },
   "outputs": [
    {
     "name": "stdout",
     "output_type": "stream",
     "text": [
      "Collecting folium\n",
      "  Downloading folium-0.17.0-py2.py3-none-any.whl.metadata (3.8 kB)\n",
      "Collecting branca>=0.6.0 (from folium)\n",
      "  Downloading branca-0.7.2-py3-none-any.whl.metadata (1.5 kB)\n",
      "Requirement already satisfied: jinja2>=2.9 in c:\\users\\alejandro\\appdata\\local\\programs\\python\\python312\\lib\\site-packages (from folium) (3.1.3)\n",
      "Requirement already satisfied: numpy in c:\\users\\alejandro\\appdata\\local\\programs\\python\\python312\\lib\\site-packages (from folium) (1.26.3)\n",
      "Requirement already satisfied: requests in c:\\users\\alejandro\\appdata\\local\\programs\\python\\python312\\lib\\site-packages (from folium) (2.32.2)\n",
      "Collecting xyzservices (from folium)\n",
      "  Downloading xyzservices-2024.9.0-py3-none-any.whl.metadata (4.1 kB)\n",
      "Requirement already satisfied: MarkupSafe>=2.0 in c:\\users\\alejandro\\appdata\\local\\programs\\python\\python312\\lib\\site-packages (from jinja2>=2.9->folium) (2.1.5)\n",
      "Requirement already satisfied: charset-normalizer<4,>=2 in c:\\users\\alejandro\\appdata\\local\\programs\\python\\python312\\lib\\site-packages (from requests->folium) (3.3.2)\n",
      "Requirement already satisfied: idna<4,>=2.5 in c:\\users\\alejandro\\appdata\\local\\programs\\python\\python312\\lib\\site-packages (from requests->folium) (2.10)\n",
      "Requirement already satisfied: urllib3<3,>=1.21.1 in c:\\users\\alejandro\\appdata\\local\\programs\\python\\python312\\lib\\site-packages (from requests->folium) (1.26.18)\n",
      "Requirement already satisfied: certifi>=2017.4.17 in c:\\users\\alejandro\\appdata\\local\\programs\\python\\python312\\lib\\site-packages (from requests->folium) (2024.2.2)\n",
      "Downloading folium-0.17.0-py2.py3-none-any.whl (108 kB)\n",
      "Downloading branca-0.7.2-py3-none-any.whl (25 kB)\n",
      "Downloading xyzservices-2024.9.0-py3-none-any.whl (85 kB)\n",
      "Installing collected packages: xyzservices, branca, folium\n",
      "Successfully installed branca-0.7.2 folium-0.17.0 xyzservices-2024.9.0\n",
      "Collecting wget\n",
      "  Downloading wget-3.2.zip (10 kB)\n",
      "  Installing build dependencies: started\n",
      "  Installing build dependencies: finished with status 'done'\n",
      "  Getting requirements to build wheel: started\n",
      "  Getting requirements to build wheel: finished with status 'done'\n",
      "  Preparing metadata (pyproject.toml): started\n",
      "  Preparing metadata (pyproject.toml): finished with status 'done'\n",
      "Building wheels for collected packages: wget\n",
      "  Building wheel for wget (pyproject.toml): started\n",
      "  Building wheel for wget (pyproject.toml): finished with status 'done'\n",
      "  Created wheel for wget: filename=wget-3.2-py3-none-any.whl size=9680 sha256=b3c30a82dcdb653cf59e88bc4c6c35f5286f96b5373cb29fb270953eaf8f0501\n",
      "  Stored in directory: c:\\users\\alejandro\\appdata\\local\\pip\\cache\\wheels\\01\\46\\3b\\e29ffbe4ebe614ff224bad40fc6a5773a67a163251585a13a9\n",
      "Successfully built wget\n",
      "Installing collected packages: wget\n",
      "Successfully installed wget-3.2\n"
     ]
    }
   ],
   "source": [
    "!pip3 install folium\n",
    "!pip3 install wget"
   ]
  },
  {
   "cell_type": "code",
   "execution_count": 23,
   "metadata": {
    "ExecuteTime": {
     "end_time": "2024-09-06T16:09:26.409326Z",
     "start_time": "2024-09-06T16:09:26.406523Z"
    }
   },
   "outputs": [],
   "source": [
    "import folium\n",
    "import wget\n",
    "import pandas as pd\n",
    "import numpy as np"
   ]
  },
  {
   "cell_type": "code",
   "execution_count": 5,
   "metadata": {
    "ExecuteTime": {
     "end_time": "2024-09-06T15:55:29.402849Z",
     "start_time": "2024-09-06T15:55:29.191537Z"
    }
   },
   "outputs": [],
   "source": [
    "# Import folium MarkerCluster plugin\n",
    "from folium.plugins import MarkerCluster\n",
    "# Import folium MousePosition plugin\n",
    "from folium.plugins import MousePosition\n",
    "# Import folium DivIcon plugin\n",
    "from folium.features import DivIcon"
   ]
  },
  {
   "cell_type": "markdown",
   "metadata": {},
   "source": [
    "If you need to refresh your memory about folium, you may download and refer to this previous folium lab:\n"
   ]
  },
  {
   "cell_type": "markdown",
   "metadata": {},
   "source": [
    "[Generating Maps with Python](https://cf-courses-data.s3.us.cloud-object-storage.appdomain.cloud/IBM-DS0321EN-SkillsNetwork/labs/module_3/DV0101EN-3-5-1-Generating-Maps-in-Python-py-v2.0.ipynb)\n"
   ]
  },
  {
   "cell_type": "markdown",
   "metadata": {},
   "source": [
    "## Task 1: Mark all launch sites on a map\n"
   ]
  },
  {
   "cell_type": "markdown",
   "metadata": {},
   "source": [
    "First, let's try to add each site's location on a map using site's latitude and longitude coordinates\n"
   ]
  },
  {
   "cell_type": "markdown",
   "metadata": {},
   "source": [
    "The following dataset with the name `spacex_launch_geo.csv` is an augmented dataset with latitude and longitude added for each site. \n"
   ]
  },
  {
   "cell_type": "code",
   "execution_count": 6,
   "metadata": {
    "ExecuteTime": {
     "end_time": "2024-09-06T15:55:47.025570Z",
     "start_time": "2024-09-06T15:55:44.211595Z"
    }
   },
   "outputs": [],
   "source": [
    "# Download and read the `spacex_launch_geo.csv`\n",
    "spacex_csv_file = wget.download('https://cf-courses-data.s3.us.cloud-object-storage.appdomain.cloud/IBM-DS0321EN-SkillsNetwork/datasets/spacex_launch_geo.csv')\n",
    "spacex_df=pd.read_csv(spacex_csv_file)"
   ]
  },
  {
   "cell_type": "markdown",
   "metadata": {},
   "source": [
    "Now, you can take a look at what are the coordinates for each site.\n"
   ]
  },
  {
   "cell_type": "code",
   "execution_count": 7,
   "metadata": {
    "ExecuteTime": {
     "end_time": "2024-09-06T15:55:54.450156Z",
     "start_time": "2024-09-06T15:55:54.426637Z"
    }
   },
   "outputs": [
    {
     "data": {
      "text/plain": "    Launch Site        Lat        Long\n0   CCAFS LC-40  28.562302  -80.577356\n1  CCAFS SLC-40  28.563197  -80.576820\n2    KSC LC-39A  28.573255  -80.646895\n3   VAFB SLC-4E  34.632834 -120.610745",
      "text/html": "<div>\n<style scoped>\n    .dataframe tbody tr th:only-of-type {\n        vertical-align: middle;\n    }\n\n    .dataframe tbody tr th {\n        vertical-align: top;\n    }\n\n    .dataframe thead th {\n        text-align: right;\n    }\n</style>\n<table border=\"1\" class=\"dataframe\">\n  <thead>\n    <tr style=\"text-align: right;\">\n      <th></th>\n      <th>Launch Site</th>\n      <th>Lat</th>\n      <th>Long</th>\n    </tr>\n  </thead>\n  <tbody>\n    <tr>\n      <th>0</th>\n      <td>CCAFS LC-40</td>\n      <td>28.562302</td>\n      <td>-80.577356</td>\n    </tr>\n    <tr>\n      <th>1</th>\n      <td>CCAFS SLC-40</td>\n      <td>28.563197</td>\n      <td>-80.576820</td>\n    </tr>\n    <tr>\n      <th>2</th>\n      <td>KSC LC-39A</td>\n      <td>28.573255</td>\n      <td>-80.646895</td>\n    </tr>\n    <tr>\n      <th>3</th>\n      <td>VAFB SLC-4E</td>\n      <td>34.632834</td>\n      <td>-120.610745</td>\n    </tr>\n  </tbody>\n</table>\n</div>"
     },
     "execution_count": 7,
     "metadata": {},
     "output_type": "execute_result"
    }
   ],
   "source": [
    "# Select relevant sub-columns: `Launch Site`, `Lat(Latitude)`, `Long(Longitude)`, `class`\n",
    "spacex_df = spacex_df[['Launch Site', 'Lat', 'Long', 'class']]\n",
    "launch_sites_df = spacex_df.groupby(['Launch Site'], as_index=False).first()\n",
    "launch_sites_df = launch_sites_df[['Launch Site', 'Lat', 'Long']]\n",
    "launch_sites_df"
   ]
  },
  {
   "cell_type": "markdown",
   "metadata": {},
   "source": [
    "Above coordinates are just plain numbers that can not give you any intuitive insights about where are those launch sites. If you are very good at geography, you can interpret those numbers directly in your mind. If not, that's fine too. Let's visualize those locations by pinning them on a map.\n"
   ]
  },
  {
   "cell_type": "markdown",
   "metadata": {},
   "source": [
    "We first need to create a folium `Map` object, with an initial center location to be NASA Johnson Space Center at Houston, Texas.\n"
   ]
  },
  {
   "cell_type": "code",
   "execution_count": 8,
   "metadata": {
    "ExecuteTime": {
     "end_time": "2024-09-06T15:56:09.102747Z",
     "start_time": "2024-09-06T15:56:09.094173Z"
    }
   },
   "outputs": [],
   "source": [
    "# Start location is NASA Johnson Space Center\n",
    "nasa_coordinate = [29.559684888503615, -95.0830971930759]\n",
    "site_map = folium.Map(location=nasa_coordinate, zoom_start=10)"
   ]
  },
  {
   "cell_type": "markdown",
   "metadata": {},
   "source": [
    "We could use `folium.Circle` to add a highlighted circle area with a text label on a specific coordinate. For example, \n"
   ]
  },
  {
   "cell_type": "code",
   "execution_count": 9,
   "metadata": {
    "ExecuteTime": {
     "end_time": "2024-09-06T15:56:29.482657Z",
     "start_time": "2024-09-06T15:56:29.472593Z"
    }
   },
   "outputs": [
    {
     "data": {
      "text/plain": "<folium.folium.Map at 0x1f65e89ef90>",
      "text/html": "<div style=\"width:100%;\"><div style=\"position:relative;width:100%;height:0;padding-bottom:60%;\"><span style=\"color:#565656\">Make this Notebook Trusted to load map: File -> Trust Notebook</span><iframe srcdoc=\"&lt;!DOCTYPE html&gt;\n&lt;html&gt;\n&lt;head&gt;\n    \n    &lt;meta http-equiv=&quot;content-type&quot; content=&quot;text/html; charset=UTF-8&quot; /&gt;\n    \n        &lt;script&gt;\n            L_NO_TOUCH = false;\n            L_DISABLE_3D = false;\n        &lt;/script&gt;\n    \n    &lt;style&gt;html, body {width: 100%;height: 100%;margin: 0;padding: 0;}&lt;/style&gt;\n    &lt;style&gt;#map {position:absolute;top:0;bottom:0;right:0;left:0;}&lt;/style&gt;\n    &lt;script src=&quot;https://cdn.jsdelivr.net/npm/leaflet@1.9.3/dist/leaflet.js&quot;&gt;&lt;/script&gt;\n    &lt;script src=&quot;https://code.jquery.com/jquery-3.7.1.min.js&quot;&gt;&lt;/script&gt;\n    &lt;script src=&quot;https://cdn.jsdelivr.net/npm/bootstrap@5.2.2/dist/js/bootstrap.bundle.min.js&quot;&gt;&lt;/script&gt;\n    &lt;script src=&quot;https://cdnjs.cloudflare.com/ajax/libs/Leaflet.awesome-markers/2.0.2/leaflet.awesome-markers.js&quot;&gt;&lt;/script&gt;\n    &lt;link rel=&quot;stylesheet&quot; href=&quot;https://cdn.jsdelivr.net/npm/leaflet@1.9.3/dist/leaflet.css&quot;/&gt;\n    &lt;link rel=&quot;stylesheet&quot; href=&quot;https://cdn.jsdelivr.net/npm/bootstrap@5.2.2/dist/css/bootstrap.min.css&quot;/&gt;\n    &lt;link rel=&quot;stylesheet&quot; href=&quot;https://netdna.bootstrapcdn.com/bootstrap/3.0.0/css/bootstrap-glyphicons.css&quot;/&gt;\n    &lt;link rel=&quot;stylesheet&quot; href=&quot;https://cdn.jsdelivr.net/npm/@fortawesome/fontawesome-free@6.2.0/css/all.min.css&quot;/&gt;\n    &lt;link rel=&quot;stylesheet&quot; href=&quot;https://cdnjs.cloudflare.com/ajax/libs/Leaflet.awesome-markers/2.0.2/leaflet.awesome-markers.css&quot;/&gt;\n    &lt;link rel=&quot;stylesheet&quot; href=&quot;https://cdn.jsdelivr.net/gh/python-visualization/folium/folium/templates/leaflet.awesome.rotate.min.css&quot;/&gt;\n    \n            &lt;meta name=&quot;viewport&quot; content=&quot;width=device-width,\n                initial-scale=1.0, maximum-scale=1.0, user-scalable=no&quot; /&gt;\n            &lt;style&gt;\n                #map_57850fee5fb592884ebddc04028fd229 {\n                    position: relative;\n                    width: 100.0%;\n                    height: 100.0%;\n                    left: 0.0%;\n                    top: 0.0%;\n                }\n                .leaflet-container { font-size: 1rem; }\n            &lt;/style&gt;\n        \n&lt;/head&gt;\n&lt;body&gt;\n    \n    \n            &lt;div class=&quot;folium-map&quot; id=&quot;map_57850fee5fb592884ebddc04028fd229&quot; &gt;&lt;/div&gt;\n        \n&lt;/body&gt;\n&lt;script&gt;\n    \n    \n            var map_57850fee5fb592884ebddc04028fd229 = L.map(\n                &quot;map_57850fee5fb592884ebddc04028fd229&quot;,\n                {\n                    center: [29.559684888503615, -95.0830971930759],\n                    crs: L.CRS.EPSG3857,\n                    zoom: 10,\n                    zoomControl: true,\n                    preferCanvas: false,\n                }\n            );\n\n            \n\n        \n    \n            var tile_layer_621057d59ceb267bb6b719bcf5eb31a6 = L.tileLayer(\n                &quot;https://tile.openstreetmap.org/{z}/{x}/{y}.png&quot;,\n                {&quot;attribution&quot;: &quot;\\u0026copy; \\u003ca href=\\&quot;https://www.openstreetmap.org/copyright\\&quot;\\u003eOpenStreetMap\\u003c/a\\u003e contributors&quot;, &quot;detectRetina&quot;: false, &quot;maxNativeZoom&quot;: 19, &quot;maxZoom&quot;: 19, &quot;minZoom&quot;: 0, &quot;noWrap&quot;: false, &quot;opacity&quot;: 1, &quot;subdomains&quot;: &quot;abc&quot;, &quot;tms&quot;: false}\n            );\n        \n    \n            tile_layer_621057d59ceb267bb6b719bcf5eb31a6.addTo(map_57850fee5fb592884ebddc04028fd229);\n        \n    \n            var circle_e07ea8df91f59c2b35ff4df255cc1222 = L.circle(\n                [29.559684888503615, -95.0830971930759],\n                {&quot;bubblingMouseEvents&quot;: true, &quot;color&quot;: &quot;#d35400&quot;, &quot;dashArray&quot;: null, &quot;dashOffset&quot;: null, &quot;fill&quot;: true, &quot;fillColor&quot;: &quot;#d35400&quot;, &quot;fillOpacity&quot;: 0.2, &quot;fillRule&quot;: &quot;evenodd&quot;, &quot;lineCap&quot;: &quot;round&quot;, &quot;lineJoin&quot;: &quot;round&quot;, &quot;opacity&quot;: 1.0, &quot;radius&quot;: 1000, &quot;stroke&quot;: true, &quot;weight&quot;: 3}\n            ).addTo(map_57850fee5fb592884ebddc04028fd229);\n        \n    \n        var popup_df03e10ae3cd3538343e943e263a8535 = L.popup({&quot;maxWidth&quot;: &quot;100%&quot;});\n\n        \n            \n                var html_586f3a09dbd3f1596f1b1c69bcfcf211 = $(`&lt;div id=&quot;html_586f3a09dbd3f1596f1b1c69bcfcf211&quot; style=&quot;width: 100.0%; height: 100.0%;&quot;&gt;NASA Johnson Space Center&lt;/div&gt;`)[0];\n                popup_df03e10ae3cd3538343e943e263a8535.setContent(html_586f3a09dbd3f1596f1b1c69bcfcf211);\n            \n        \n\n        circle_e07ea8df91f59c2b35ff4df255cc1222.bindPopup(popup_df03e10ae3cd3538343e943e263a8535)\n        ;\n\n        \n    \n    \n            var marker_94ee6346b6f873557723067ecbffe3a6 = L.marker(\n                [29.559684888503615, -95.0830971930759],\n                {}\n            ).addTo(map_57850fee5fb592884ebddc04028fd229);\n        \n    \n            var div_icon_bd5f0b02584eced149d8d54340da2a03 = L.divIcon({&quot;className&quot;: &quot;empty&quot;, &quot;html&quot;: &quot;\\u003cdiv style=\\&quot;font-size: 12; color:#d35400;\\&quot;\\u003e\\u003cb\\u003eNASA JSC\\u003c/b\\u003e\\u003c/div\\u003e&quot;, &quot;iconAnchor&quot;: [0, 0], &quot;iconSize&quot;: [20, 20]});\n            marker_94ee6346b6f873557723067ecbffe3a6.setIcon(div_icon_bd5f0b02584eced149d8d54340da2a03);\n        \n&lt;/script&gt;\n&lt;/html&gt;\" style=\"position:absolute;width:100%;height:100%;left:0;top:0;border:none !important;\" allowfullscreen webkitallowfullscreen mozallowfullscreen></iframe></div></div>"
     },
     "execution_count": 9,
     "metadata": {},
     "output_type": "execute_result"
    }
   ],
   "source": [
    "# Create a blue circle at NASA Johnson Space Center's coordinate with a popup label showing its name\n",
    "circle = folium.Circle(nasa_coordinate, radius=1000, color='#d35400', fill=True).add_child(folium.Popup('NASA Johnson Space Center'))\n",
    "# Create a blue circle at NASA Johnson Space Center's coordinate with a icon showing its name\n",
    "marker = folium.map.Marker(\n",
    "    nasa_coordinate,\n",
    "    # Create an icon as a text label\n",
    "    icon=DivIcon(\n",
    "        icon_size=(20,20),\n",
    "        icon_anchor=(0,0),\n",
    "        html='<div style=\"font-size: 12; color:#d35400;\"><b>%s</b></div>' % 'NASA JSC',\n",
    "        )\n",
    "    )\n",
    "site_map.add_child(circle)\n",
    "site_map.add_child(marker)"
   ]
  },
  {
   "cell_type": "markdown",
   "metadata": {},
   "source": [
    "and you should find a small yellow circle near the city of Houston and you can zoom-in to see a larger circle. \n"
   ]
  },
  {
   "cell_type": "markdown",
   "metadata": {},
   "source": [
    "Now, let's add a circle for each launch site in data frame `launch_sites`\n"
   ]
  },
  {
   "cell_type": "markdown",
   "metadata": {},
   "source": [
    "_TODO:_  Create and add `folium.Circle` and `folium.Marker` for each launch site on the site map\n"
   ]
  },
  {
   "cell_type": "markdown",
   "metadata": {},
   "source": [
    "An example of folium.Circle:\n"
   ]
  },
  {
   "cell_type": "markdown",
   "metadata": {},
   "source": [
    "`folium.Circle(coordinate, radius=1000, color='#000000', fill=True).add_child(folium.Popup(...))`\n"
   ]
  },
  {
   "cell_type": "markdown",
   "metadata": {},
   "source": [
    "An example of folium.Marker:\n"
   ]
  },
  {
   "cell_type": "markdown",
   "metadata": {},
   "source": [
    "`folium.map.Marker(coordinate, icon=DivIcon(icon_size=(20,20),icon_anchor=(0,0), html='<div style=\"font-size: 12; color:#d35400;\"><b>%s</b></div>' % 'label', ))`\n"
   ]
  },
  {
   "cell_type": "code",
   "outputs": [],
   "source": [
    "launch_sites_df = launch_sites_df._append({'Launch Site':'Nasa Johnson Space Center', 'Lat':nasa_coordinate[0], 'Long':nasa_coordinate[1]}, ignore_index=True)"
   ],
   "metadata": {
    "collapsed": false,
    "ExecuteTime": {
     "end_time": "2024-09-06T16:35:21.266986Z",
     "start_time": "2024-09-06T16:35:21.262960Z"
    }
   },
   "execution_count": 84
  },
  {
   "cell_type": "code",
   "outputs": [
    {
     "data": {
      "text/plain": "                 Launch Site        Lat        Long\n0                CCAFS LC-40  28.562302  -80.577356\n1               CCAFS SLC-40  28.563197  -80.576820\n2                 KSC LC-39A  28.573255  -80.646895\n3                VAFB SLC-4E  34.632834 -120.610745\n4  Nasa Johnson Space Center  29.559685  -95.083097",
      "text/html": "<div>\n<style scoped>\n    .dataframe tbody tr th:only-of-type {\n        vertical-align: middle;\n    }\n\n    .dataframe tbody tr th {\n        vertical-align: top;\n    }\n\n    .dataframe thead th {\n        text-align: right;\n    }\n</style>\n<table border=\"1\" class=\"dataframe\">\n  <thead>\n    <tr style=\"text-align: right;\">\n      <th></th>\n      <th>Launch Site</th>\n      <th>Lat</th>\n      <th>Long</th>\n    </tr>\n  </thead>\n  <tbody>\n    <tr>\n      <th>0</th>\n      <td>CCAFS LC-40</td>\n      <td>28.562302</td>\n      <td>-80.577356</td>\n    </tr>\n    <tr>\n      <th>1</th>\n      <td>CCAFS SLC-40</td>\n      <td>28.563197</td>\n      <td>-80.576820</td>\n    </tr>\n    <tr>\n      <th>2</th>\n      <td>KSC LC-39A</td>\n      <td>28.573255</td>\n      <td>-80.646895</td>\n    </tr>\n    <tr>\n      <th>3</th>\n      <td>VAFB SLC-4E</td>\n      <td>34.632834</td>\n      <td>-120.610745</td>\n    </tr>\n    <tr>\n      <th>4</th>\n      <td>Nasa Johnson Space Center</td>\n      <td>29.559685</td>\n      <td>-95.083097</td>\n    </tr>\n  </tbody>\n</table>\n</div>"
     },
     "execution_count": 99,
     "metadata": {},
     "output_type": "execute_result"
    }
   ],
   "source": [
    "launch_sites_df"
   ],
   "metadata": {
    "collapsed": false,
    "ExecuteTime": {
     "end_time": "2024-09-06T16:48:29.009458Z",
     "start_time": "2024-09-06T16:48:29.001460Z"
    }
   },
   "execution_count": 99
  },
  {
   "cell_type": "code",
   "outputs": [
    {
     "data": {
      "text/plain": "'VAFB SLC-4E'"
     },
     "execution_count": 109,
     "metadata": {},
     "output_type": "execute_result"
    }
   ],
   "source": [
    "name = str(launch_sites_df.loc[3,['Launch Site']].values).strip(\"['']\")\n",
    "name"
   ],
   "metadata": {
    "collapsed": false,
    "ExecuteTime": {
     "end_time": "2024-09-06T16:54:03.259841Z",
     "start_time": "2024-09-06T16:54:03.251559Z"
    }
   },
   "execution_count": 109
  },
  {
   "cell_type": "code",
   "execution_count": 145,
   "metadata": {
    "ExecuteTime": {
     "end_time": "2024-09-06T17:06:45.618191Z",
     "start_time": "2024-09-06T17:06:45.606432Z"
    }
   },
   "outputs": [],
   "source": [
    "# Initial the map\n",
    "site_map = folium.Map(location=nasa_coordinate, zoom_start=5)\n",
    "# For each launch site, add a Circle object based on its coordinate (Lat, Long) values. In addition, add Launch site name as a popup label\n",
    "# Create a blue circle at NASA Johnson Space Center's coordinate with a popup label showing its name\n",
    "\n",
    "for i in range(len(launch_sites_df)):\n",
    "    coordinates = launch_sites_df.loc[i,['Lat','Long']].values\n",
    "    name = str(launch_sites_df.loc[i,['Launch Site']].values).strip(\"['']\")\n",
    "    circle = folium.Circle(coordinates, radius=1000, color='#d35400', fill=True).add_child(folium.Popup(str(launch_sites_df.loc[i,['Launch Site']].values)))\n",
    "    # Create a blue circle at NASA Johnson Space Center's coordinate with a icon showing its name\n",
    "    \n",
    "    marker = folium.map.Marker(\n",
    "        coordinates,\n",
    "        # Create an icon as a text label\n",
    "        icon=DivIcon(\n",
    "            icon_size=(20,20),\n",
    "            icon_anchor=(0,0),\n",
    "            html='<div style=\"font-size: 12; color:#d35400;\"><b>%s</b></div>' % name,\n",
    "            )\n",
    "        )\n",
    "    site_map.add_child(circle)\n",
    "    site_map.add_child(marker)"
   ]
  },
  {
   "cell_type": "code",
   "outputs": [
    {
     "data": {
      "text/plain": "<folium.folium.Map at 0x1f6628f71a0>",
      "text/html": "<div style=\"width:100%;\"><div style=\"position:relative;width:100%;height:0;padding-bottom:60%;\"><span style=\"color:#565656\">Make this Notebook Trusted to load map: File -> Trust Notebook</span><iframe srcdoc=\"&lt;!DOCTYPE html&gt;\n&lt;html&gt;\n&lt;head&gt;\n    \n    &lt;meta http-equiv=&quot;content-type&quot; content=&quot;text/html; charset=UTF-8&quot; /&gt;\n    \n        &lt;script&gt;\n            L_NO_TOUCH = false;\n            L_DISABLE_3D = false;\n        &lt;/script&gt;\n    \n    &lt;style&gt;html, body {width: 100%;height: 100%;margin: 0;padding: 0;}&lt;/style&gt;\n    &lt;style&gt;#map {position:absolute;top:0;bottom:0;right:0;left:0;}&lt;/style&gt;\n    &lt;script src=&quot;https://cdn.jsdelivr.net/npm/leaflet@1.9.3/dist/leaflet.js&quot;&gt;&lt;/script&gt;\n    &lt;script src=&quot;https://code.jquery.com/jquery-3.7.1.min.js&quot;&gt;&lt;/script&gt;\n    &lt;script src=&quot;https://cdn.jsdelivr.net/npm/bootstrap@5.2.2/dist/js/bootstrap.bundle.min.js&quot;&gt;&lt;/script&gt;\n    &lt;script src=&quot;https://cdnjs.cloudflare.com/ajax/libs/Leaflet.awesome-markers/2.0.2/leaflet.awesome-markers.js&quot;&gt;&lt;/script&gt;\n    &lt;link rel=&quot;stylesheet&quot; href=&quot;https://cdn.jsdelivr.net/npm/leaflet@1.9.3/dist/leaflet.css&quot;/&gt;\n    &lt;link rel=&quot;stylesheet&quot; href=&quot;https://cdn.jsdelivr.net/npm/bootstrap@5.2.2/dist/css/bootstrap.min.css&quot;/&gt;\n    &lt;link rel=&quot;stylesheet&quot; href=&quot;https://netdna.bootstrapcdn.com/bootstrap/3.0.0/css/bootstrap-glyphicons.css&quot;/&gt;\n    &lt;link rel=&quot;stylesheet&quot; href=&quot;https://cdn.jsdelivr.net/npm/@fortawesome/fontawesome-free@6.2.0/css/all.min.css&quot;/&gt;\n    &lt;link rel=&quot;stylesheet&quot; href=&quot;https://cdnjs.cloudflare.com/ajax/libs/Leaflet.awesome-markers/2.0.2/leaflet.awesome-markers.css&quot;/&gt;\n    &lt;link rel=&quot;stylesheet&quot; href=&quot;https://cdn.jsdelivr.net/gh/python-visualization/folium/folium/templates/leaflet.awesome.rotate.min.css&quot;/&gt;\n    \n            &lt;meta name=&quot;viewport&quot; content=&quot;width=device-width,\n                initial-scale=1.0, maximum-scale=1.0, user-scalable=no&quot; /&gt;\n            &lt;style&gt;\n                #map_1298baed41ed76cd537ab47a7301608c {\n                    position: relative;\n                    width: 100.0%;\n                    height: 100.0%;\n                    left: 0.0%;\n                    top: 0.0%;\n                }\n                .leaflet-container { font-size: 1rem; }\n            &lt;/style&gt;\n        \n&lt;/head&gt;\n&lt;body&gt;\n    \n    \n            &lt;div class=&quot;folium-map&quot; id=&quot;map_1298baed41ed76cd537ab47a7301608c&quot; &gt;&lt;/div&gt;\n        \n&lt;/body&gt;\n&lt;script&gt;\n    \n    \n            var map_1298baed41ed76cd537ab47a7301608c = L.map(\n                &quot;map_1298baed41ed76cd537ab47a7301608c&quot;,\n                {\n                    center: [29.559684888503615, -95.0830971930759],\n                    crs: L.CRS.EPSG3857,\n                    zoom: 5,\n                    zoomControl: true,\n                    preferCanvas: false,\n                }\n            );\n\n            \n\n        \n    \n            var tile_layer_9365d3100fd9ccc282e33799c00cddc6 = L.tileLayer(\n                &quot;https://tile.openstreetmap.org/{z}/{x}/{y}.png&quot;,\n                {&quot;attribution&quot;: &quot;\\u0026copy; \\u003ca href=\\&quot;https://www.openstreetmap.org/copyright\\&quot;\\u003eOpenStreetMap\\u003c/a\\u003e contributors&quot;, &quot;detectRetina&quot;: false, &quot;maxNativeZoom&quot;: 19, &quot;maxZoom&quot;: 19, &quot;minZoom&quot;: 0, &quot;noWrap&quot;: false, &quot;opacity&quot;: 1, &quot;subdomains&quot;: &quot;abc&quot;, &quot;tms&quot;: false}\n            );\n        \n    \n            tile_layer_9365d3100fd9ccc282e33799c00cddc6.addTo(map_1298baed41ed76cd537ab47a7301608c);\n        \n    \n            var circle_b409720fbb27972a3f14e9edfff85998 = L.circle(\n                [28.56230197, -80.57735648],\n                {&quot;bubblingMouseEvents&quot;: true, &quot;color&quot;: &quot;#d35400&quot;, &quot;dashArray&quot;: null, &quot;dashOffset&quot;: null, &quot;fill&quot;: true, &quot;fillColor&quot;: &quot;#d35400&quot;, &quot;fillOpacity&quot;: 0.2, &quot;fillRule&quot;: &quot;evenodd&quot;, &quot;lineCap&quot;: &quot;round&quot;, &quot;lineJoin&quot;: &quot;round&quot;, &quot;opacity&quot;: 1.0, &quot;radius&quot;: 1000, &quot;stroke&quot;: true, &quot;weight&quot;: 3}\n            ).addTo(map_1298baed41ed76cd537ab47a7301608c);\n        \n    \n        var popup_f0f049354001b3501c34b039f2ff58f8 = L.popup({&quot;maxWidth&quot;: &quot;100%&quot;});\n\n        \n            \n                var html_c6765dee520ea92e0e9a4fc87e0e0560 = $(`&lt;div id=&quot;html_c6765dee520ea92e0e9a4fc87e0e0560&quot; style=&quot;width: 100.0%; height: 100.0%;&quot;&gt;[&#x27;CCAFS LC-40&#x27;]&lt;/div&gt;`)[0];\n                popup_f0f049354001b3501c34b039f2ff58f8.setContent(html_c6765dee520ea92e0e9a4fc87e0e0560);\n            \n        \n\n        circle_b409720fbb27972a3f14e9edfff85998.bindPopup(popup_f0f049354001b3501c34b039f2ff58f8)\n        ;\n\n        \n    \n    \n            var marker_a7983dc92d158acdeafcc740c4a5f621 = L.marker(\n                [28.56230197, -80.57735648],\n                {}\n            ).addTo(map_1298baed41ed76cd537ab47a7301608c);\n        \n    \n            var div_icon_0b1f96a08f21789852780e47a8b43908 = L.divIcon({&quot;className&quot;: &quot;empty&quot;, &quot;html&quot;: &quot;\\u003cdiv style=\\&quot;font-size: 12; color:#d35400;\\&quot;\\u003e\\u003cb\\u003eCCAFS LC-40\\u003c/b\\u003e\\u003c/div\\u003e&quot;, &quot;iconAnchor&quot;: [0, 0], &quot;iconSize&quot;: [20, 20]});\n            marker_a7983dc92d158acdeafcc740c4a5f621.setIcon(div_icon_0b1f96a08f21789852780e47a8b43908);\n        \n    \n            var circle_7343f6ceebf3d1ac7cdaca149d36999b = L.circle(\n                [28.56319718, -80.57682003],\n                {&quot;bubblingMouseEvents&quot;: true, &quot;color&quot;: &quot;#d35400&quot;, &quot;dashArray&quot;: null, &quot;dashOffset&quot;: null, &quot;fill&quot;: true, &quot;fillColor&quot;: &quot;#d35400&quot;, &quot;fillOpacity&quot;: 0.2, &quot;fillRule&quot;: &quot;evenodd&quot;, &quot;lineCap&quot;: &quot;round&quot;, &quot;lineJoin&quot;: &quot;round&quot;, &quot;opacity&quot;: 1.0, &quot;radius&quot;: 1000, &quot;stroke&quot;: true, &quot;weight&quot;: 3}\n            ).addTo(map_1298baed41ed76cd537ab47a7301608c);\n        \n    \n        var popup_f47f4fc18316c13cb6fa4ad2aaf64376 = L.popup({&quot;maxWidth&quot;: &quot;100%&quot;});\n\n        \n            \n                var html_005a61db319afb61c095cdd4c2d94211 = $(`&lt;div id=&quot;html_005a61db319afb61c095cdd4c2d94211&quot; style=&quot;width: 100.0%; height: 100.0%;&quot;&gt;[&#x27;CCAFS SLC-40&#x27;]&lt;/div&gt;`)[0];\n                popup_f47f4fc18316c13cb6fa4ad2aaf64376.setContent(html_005a61db319afb61c095cdd4c2d94211);\n            \n        \n\n        circle_7343f6ceebf3d1ac7cdaca149d36999b.bindPopup(popup_f47f4fc18316c13cb6fa4ad2aaf64376)\n        ;\n\n        \n    \n    \n            var marker_834771443481e04abe6ac2d3c62539d5 = L.marker(\n                [28.56319718, -80.57682003],\n                {}\n            ).addTo(map_1298baed41ed76cd537ab47a7301608c);\n        \n    \n            var div_icon_4a576a4f7e2a08159719fb7e48de56b4 = L.divIcon({&quot;className&quot;: &quot;empty&quot;, &quot;html&quot;: &quot;\\u003cdiv style=\\&quot;font-size: 12; color:#d35400;\\&quot;\\u003e\\u003cb\\u003eCCAFS SLC-40\\u003c/b\\u003e\\u003c/div\\u003e&quot;, &quot;iconAnchor&quot;: [0, 0], &quot;iconSize&quot;: [20, 20]});\n            marker_834771443481e04abe6ac2d3c62539d5.setIcon(div_icon_4a576a4f7e2a08159719fb7e48de56b4);\n        \n    \n            var circle_79b1406d0351c9685de7e040d877c13b = L.circle(\n                [28.57325457, -80.64689529],\n                {&quot;bubblingMouseEvents&quot;: true, &quot;color&quot;: &quot;#d35400&quot;, &quot;dashArray&quot;: null, &quot;dashOffset&quot;: null, &quot;fill&quot;: true, &quot;fillColor&quot;: &quot;#d35400&quot;, &quot;fillOpacity&quot;: 0.2, &quot;fillRule&quot;: &quot;evenodd&quot;, &quot;lineCap&quot;: &quot;round&quot;, &quot;lineJoin&quot;: &quot;round&quot;, &quot;opacity&quot;: 1.0, &quot;radius&quot;: 1000, &quot;stroke&quot;: true, &quot;weight&quot;: 3}\n            ).addTo(map_1298baed41ed76cd537ab47a7301608c);\n        \n    \n        var popup_f37cefe1f63a79098141cd4be145b147 = L.popup({&quot;maxWidth&quot;: &quot;100%&quot;});\n\n        \n            \n                var html_8e75a46cdb26cc99c4598ffd241f68bb = $(`&lt;div id=&quot;html_8e75a46cdb26cc99c4598ffd241f68bb&quot; style=&quot;width: 100.0%; height: 100.0%;&quot;&gt;[&#x27;KSC LC-39A&#x27;]&lt;/div&gt;`)[0];\n                popup_f37cefe1f63a79098141cd4be145b147.setContent(html_8e75a46cdb26cc99c4598ffd241f68bb);\n            \n        \n\n        circle_79b1406d0351c9685de7e040d877c13b.bindPopup(popup_f37cefe1f63a79098141cd4be145b147)\n        ;\n\n        \n    \n    \n            var marker_97e80de01a925b7db56b65021cfaeda2 = L.marker(\n                [28.57325457, -80.64689529],\n                {}\n            ).addTo(map_1298baed41ed76cd537ab47a7301608c);\n        \n    \n            var div_icon_1a882a098ad73f600fdf79ecc050c362 = L.divIcon({&quot;className&quot;: &quot;empty&quot;, &quot;html&quot;: &quot;\\u003cdiv style=\\&quot;font-size: 12; color:#d35400;\\&quot;\\u003e\\u003cb\\u003eKSC LC-39A\\u003c/b\\u003e\\u003c/div\\u003e&quot;, &quot;iconAnchor&quot;: [0, 0], &quot;iconSize&quot;: [20, 20]});\n            marker_97e80de01a925b7db56b65021cfaeda2.setIcon(div_icon_1a882a098ad73f600fdf79ecc050c362);\n        \n    \n            var circle_6a015ea5368cda5fbdf8339bee1dc00b = L.circle(\n                [34.63283416, -120.6107455],\n                {&quot;bubblingMouseEvents&quot;: true, &quot;color&quot;: &quot;#d35400&quot;, &quot;dashArray&quot;: null, &quot;dashOffset&quot;: null, &quot;fill&quot;: true, &quot;fillColor&quot;: &quot;#d35400&quot;, &quot;fillOpacity&quot;: 0.2, &quot;fillRule&quot;: &quot;evenodd&quot;, &quot;lineCap&quot;: &quot;round&quot;, &quot;lineJoin&quot;: &quot;round&quot;, &quot;opacity&quot;: 1.0, &quot;radius&quot;: 1000, &quot;stroke&quot;: true, &quot;weight&quot;: 3}\n            ).addTo(map_1298baed41ed76cd537ab47a7301608c);\n        \n    \n        var popup_177a63d6bc086966d6dbf51496992c20 = L.popup({&quot;maxWidth&quot;: &quot;100%&quot;});\n\n        \n            \n                var html_4f3cc8f605c8ebf9cc1883b11cedcf84 = $(`&lt;div id=&quot;html_4f3cc8f605c8ebf9cc1883b11cedcf84&quot; style=&quot;width: 100.0%; height: 100.0%;&quot;&gt;[&#x27;VAFB SLC-4E&#x27;]&lt;/div&gt;`)[0];\n                popup_177a63d6bc086966d6dbf51496992c20.setContent(html_4f3cc8f605c8ebf9cc1883b11cedcf84);\n            \n        \n\n        circle_6a015ea5368cda5fbdf8339bee1dc00b.bindPopup(popup_177a63d6bc086966d6dbf51496992c20)\n        ;\n\n        \n    \n    \n            var marker_2cf67a69f7547b943352a468d679525b = L.marker(\n                [34.63283416, -120.6107455],\n                {}\n            ).addTo(map_1298baed41ed76cd537ab47a7301608c);\n        \n    \n            var div_icon_921ec2acaef491f7161b14d06f63b916 = L.divIcon({&quot;className&quot;: &quot;empty&quot;, &quot;html&quot;: &quot;\\u003cdiv style=\\&quot;font-size: 12; color:#d35400;\\&quot;\\u003e\\u003cb\\u003eVAFB SLC-4E\\u003c/b\\u003e\\u003c/div\\u003e&quot;, &quot;iconAnchor&quot;: [0, 0], &quot;iconSize&quot;: [20, 20]});\n            marker_2cf67a69f7547b943352a468d679525b.setIcon(div_icon_921ec2acaef491f7161b14d06f63b916);\n        \n    \n            var circle_00b6529015a2e3c84bc77f545090a9c9 = L.circle(\n                [29.559684888503615, -95.0830971930759],\n                {&quot;bubblingMouseEvents&quot;: true, &quot;color&quot;: &quot;#d35400&quot;, &quot;dashArray&quot;: null, &quot;dashOffset&quot;: null, &quot;fill&quot;: true, &quot;fillColor&quot;: &quot;#d35400&quot;, &quot;fillOpacity&quot;: 0.2, &quot;fillRule&quot;: &quot;evenodd&quot;, &quot;lineCap&quot;: &quot;round&quot;, &quot;lineJoin&quot;: &quot;round&quot;, &quot;opacity&quot;: 1.0, &quot;radius&quot;: 1000, &quot;stroke&quot;: true, &quot;weight&quot;: 3}\n            ).addTo(map_1298baed41ed76cd537ab47a7301608c);\n        \n    \n        var popup_f45bbc01f6852b9a09b1d4935f2beb40 = L.popup({&quot;maxWidth&quot;: &quot;100%&quot;});\n\n        \n            \n                var html_356f6ed36b3ca906265844ecb1443b16 = $(`&lt;div id=&quot;html_356f6ed36b3ca906265844ecb1443b16&quot; style=&quot;width: 100.0%; height: 100.0%;&quot;&gt;[&#x27;Nasa Johnson Space Center&#x27;]&lt;/div&gt;`)[0];\n                popup_f45bbc01f6852b9a09b1d4935f2beb40.setContent(html_356f6ed36b3ca906265844ecb1443b16);\n            \n        \n\n        circle_00b6529015a2e3c84bc77f545090a9c9.bindPopup(popup_f45bbc01f6852b9a09b1d4935f2beb40)\n        ;\n\n        \n    \n    \n            var marker_0f00829319e9b0292ea567c466b15b3f = L.marker(\n                [29.559684888503615, -95.0830971930759],\n                {}\n            ).addTo(map_1298baed41ed76cd537ab47a7301608c);\n        \n    \n            var div_icon_048efba5508921ae3bc626fedfad194b = L.divIcon({&quot;className&quot;: &quot;empty&quot;, &quot;html&quot;: &quot;\\u003cdiv style=\\&quot;font-size: 12; color:#d35400;\\&quot;\\u003e\\u003cb\\u003eNasa Johnson Space Center\\u003c/b\\u003e\\u003c/div\\u003e&quot;, &quot;iconAnchor&quot;: [0, 0], &quot;iconSize&quot;: [20, 20]});\n            marker_0f00829319e9b0292ea567c466b15b3f.setIcon(div_icon_048efba5508921ae3bc626fedfad194b);\n        \n&lt;/script&gt;\n&lt;/html&gt;\" style=\"position:absolute;width:100%;height:100%;left:0;top:0;border:none !important;\" allowfullscreen webkitallowfullscreen mozallowfullscreen></iframe></div></div>"
     },
     "execution_count": 146,
     "metadata": {},
     "output_type": "execute_result"
    }
   ],
   "source": [
    "site_map"
   ],
   "metadata": {
    "collapsed": false,
    "ExecuteTime": {
     "end_time": "2024-09-06T17:06:47.650259Z",
     "start_time": "2024-09-06T17:06:47.635271Z"
    }
   },
   "execution_count": 146
  },
  {
   "cell_type": "markdown",
   "metadata": {},
   "source": [
    "The generated map with marked launch sites should look similar to the following:\n"
   ]
  },
  {
   "cell_type": "markdown",
   "metadata": {},
   "source": [
    "<center>\n",
    "    <img src=\"https://cf-courses-data.s3.us.cloud-object-storage.appdomain.cloud/IBM-DS0321EN-SkillsNetwork/labs/module_3/images/launch_site_markers.png\">\n",
    "</center>"
   ]
  },
  {
   "cell_type": "markdown",
   "metadata": {},
   "source": [
    "Now, you can explore the map by zoom-in/out the marked areas\n",
    ", and try to answer the following questions:\n",
    "- Are all launch sites in proximity to the Equator line?\n",
    "- Are all launch sites in very close proximity to the coast?\n",
    "\n",
    "Also please try to explain your findings.\n"
   ]
  },
  {
   "cell_type": "markdown",
   "metadata": {},
   "source": [
    "# Task 2: Mark the success/failed launches for each site on the map\n"
   ]
  },
  {
   "cell_type": "markdown",
   "metadata": {},
   "source": [
    "Next, let's try to enhance the map by adding the launch outcomes for each site, and see which sites have high success rates.\n",
    "Recall that data frame spacex_df has detailed launch records, and the `class` column indicates if this launch was successful or not\n"
   ]
  },
  {
   "cell_type": "code",
   "execution_count": 97,
   "metadata": {
    "ExecuteTime": {
     "end_time": "2024-09-06T16:39:55.090650Z",
     "start_time": "2024-09-06T16:39:55.082618Z"
    }
   },
   "outputs": [
    {
     "data": {
      "text/plain": "     Launch Site        Lat       Long  class\n46    KSC LC-39A  28.573255 -80.646895      1\n47    KSC LC-39A  28.573255 -80.646895      1\n48    KSC LC-39A  28.573255 -80.646895      1\n49  CCAFS SLC-40  28.563197 -80.576820      1\n50  CCAFS SLC-40  28.563197 -80.576820      1\n51  CCAFS SLC-40  28.563197 -80.576820      0\n52  CCAFS SLC-40  28.563197 -80.576820      0\n53  CCAFS SLC-40  28.563197 -80.576820      0\n54  CCAFS SLC-40  28.563197 -80.576820      1\n55  CCAFS SLC-40  28.563197 -80.576820      0",
      "text/html": "<div>\n<style scoped>\n    .dataframe tbody tr th:only-of-type {\n        vertical-align: middle;\n    }\n\n    .dataframe tbody tr th {\n        vertical-align: top;\n    }\n\n    .dataframe thead th {\n        text-align: right;\n    }\n</style>\n<table border=\"1\" class=\"dataframe\">\n  <thead>\n    <tr style=\"text-align: right;\">\n      <th></th>\n      <th>Launch Site</th>\n      <th>Lat</th>\n      <th>Long</th>\n      <th>class</th>\n    </tr>\n  </thead>\n  <tbody>\n    <tr>\n      <th>46</th>\n      <td>KSC LC-39A</td>\n      <td>28.573255</td>\n      <td>-80.646895</td>\n      <td>1</td>\n    </tr>\n    <tr>\n      <th>47</th>\n      <td>KSC LC-39A</td>\n      <td>28.573255</td>\n      <td>-80.646895</td>\n      <td>1</td>\n    </tr>\n    <tr>\n      <th>48</th>\n      <td>KSC LC-39A</td>\n      <td>28.573255</td>\n      <td>-80.646895</td>\n      <td>1</td>\n    </tr>\n    <tr>\n      <th>49</th>\n      <td>CCAFS SLC-40</td>\n      <td>28.563197</td>\n      <td>-80.576820</td>\n      <td>1</td>\n    </tr>\n    <tr>\n      <th>50</th>\n      <td>CCAFS SLC-40</td>\n      <td>28.563197</td>\n      <td>-80.576820</td>\n      <td>1</td>\n    </tr>\n    <tr>\n      <th>51</th>\n      <td>CCAFS SLC-40</td>\n      <td>28.563197</td>\n      <td>-80.576820</td>\n      <td>0</td>\n    </tr>\n    <tr>\n      <th>52</th>\n      <td>CCAFS SLC-40</td>\n      <td>28.563197</td>\n      <td>-80.576820</td>\n      <td>0</td>\n    </tr>\n    <tr>\n      <th>53</th>\n      <td>CCAFS SLC-40</td>\n      <td>28.563197</td>\n      <td>-80.576820</td>\n      <td>0</td>\n    </tr>\n    <tr>\n      <th>54</th>\n      <td>CCAFS SLC-40</td>\n      <td>28.563197</td>\n      <td>-80.576820</td>\n      <td>1</td>\n    </tr>\n    <tr>\n      <th>55</th>\n      <td>CCAFS SLC-40</td>\n      <td>28.563197</td>\n      <td>-80.576820</td>\n      <td>0</td>\n    </tr>\n  </tbody>\n</table>\n</div>"
     },
     "execution_count": 97,
     "metadata": {},
     "output_type": "execute_result"
    }
   ],
   "source": [
    "spacex_df.tail(10)"
   ]
  },
  {
   "cell_type": "markdown",
   "metadata": {},
   "source": [
    "Next, let's create markers for all launch records. \n",
    "If a launch was successful `(class=1)`, then we use a green marker and if a launch was failed, we use a red marker `(class=0)`\n"
   ]
  },
  {
   "cell_type": "markdown",
   "metadata": {},
   "source": [
    "Note that a launch only happens in one of the four launch sites, which means many launch records will have the exact same coordinate. Marker clusters can be a good way to simplify a map containing many markers having the same coordinate.\n"
   ]
  },
  {
   "cell_type": "markdown",
   "metadata": {},
   "source": [
    "Let's first create a `MarkerCluster` object\n"
   ]
  },
  {
   "cell_type": "code",
   "execution_count": 147,
   "metadata": {
    "id": "wP9PVUZ7Jfjt",
    "outputId": "6a3b8164-940c-4b93-9f3d-c655c4a0c683",
    "papermill": {
     "duration": 0.904519,
     "end_time": "2020-09-19T06:27:38.357041",
     "exception": false,
     "start_time": "2020-09-19T06:27:37.452522",
     "status": "completed"
    },
    "tags": [],
    "ExecuteTime": {
     "end_time": "2024-09-06T17:06:54.963617Z",
     "start_time": "2024-09-06T17:06:54.960407Z"
    }
   },
   "outputs": [],
   "source": [
    "marker_cluster = MarkerCluster()\n"
   ]
  },
  {
   "cell_type": "markdown",
   "metadata": {},
   "source": [
    "_TODO:_ Create a new column in `launch_sites` dataframe called `marker_color` to store the marker colors based on the `class` value\n"
   ]
  },
  {
   "cell_type": "code",
   "execution_count": null,
   "metadata": {},
   "outputs": [],
   "source": [
    "\n",
    "# Apply a function to check the value of `class` column\n",
    "# If class=1, marker_color value will be green\n",
    "# If class=0, marker_color value will be red\n"
   ]
  },
  {
   "cell_type": "code",
   "execution_count": 148,
   "metadata": {
    "ExecuteTime": {
     "end_time": "2024-09-06T17:06:56.696955Z",
     "start_time": "2024-09-06T17:06:56.689427Z"
    }
   },
   "outputs": [
    {
     "data": {
      "text/plain": "     Launch Site        Lat       Long  class marker_color\n46    KSC LC-39A  28.573255 -80.646895      1        green\n47    KSC LC-39A  28.573255 -80.646895      1        green\n48    KSC LC-39A  28.573255 -80.646895      1        green\n49  CCAFS SLC-40  28.563197 -80.576820      1        green\n50  CCAFS SLC-40  28.563197 -80.576820      1        green\n51  CCAFS SLC-40  28.563197 -80.576820      0          red\n52  CCAFS SLC-40  28.563197 -80.576820      0          red\n53  CCAFS SLC-40  28.563197 -80.576820      0          red\n54  CCAFS SLC-40  28.563197 -80.576820      1        green\n55  CCAFS SLC-40  28.563197 -80.576820      0          red",
      "text/html": "<div>\n<style scoped>\n    .dataframe tbody tr th:only-of-type {\n        vertical-align: middle;\n    }\n\n    .dataframe tbody tr th {\n        vertical-align: top;\n    }\n\n    .dataframe thead th {\n        text-align: right;\n    }\n</style>\n<table border=\"1\" class=\"dataframe\">\n  <thead>\n    <tr style=\"text-align: right;\">\n      <th></th>\n      <th>Launch Site</th>\n      <th>Lat</th>\n      <th>Long</th>\n      <th>class</th>\n      <th>marker_color</th>\n    </tr>\n  </thead>\n  <tbody>\n    <tr>\n      <th>46</th>\n      <td>KSC LC-39A</td>\n      <td>28.573255</td>\n      <td>-80.646895</td>\n      <td>1</td>\n      <td>green</td>\n    </tr>\n    <tr>\n      <th>47</th>\n      <td>KSC LC-39A</td>\n      <td>28.573255</td>\n      <td>-80.646895</td>\n      <td>1</td>\n      <td>green</td>\n    </tr>\n    <tr>\n      <th>48</th>\n      <td>KSC LC-39A</td>\n      <td>28.573255</td>\n      <td>-80.646895</td>\n      <td>1</td>\n      <td>green</td>\n    </tr>\n    <tr>\n      <th>49</th>\n      <td>CCAFS SLC-40</td>\n      <td>28.563197</td>\n      <td>-80.576820</td>\n      <td>1</td>\n      <td>green</td>\n    </tr>\n    <tr>\n      <th>50</th>\n      <td>CCAFS SLC-40</td>\n      <td>28.563197</td>\n      <td>-80.576820</td>\n      <td>1</td>\n      <td>green</td>\n    </tr>\n    <tr>\n      <th>51</th>\n      <td>CCAFS SLC-40</td>\n      <td>28.563197</td>\n      <td>-80.576820</td>\n      <td>0</td>\n      <td>red</td>\n    </tr>\n    <tr>\n      <th>52</th>\n      <td>CCAFS SLC-40</td>\n      <td>28.563197</td>\n      <td>-80.576820</td>\n      <td>0</td>\n      <td>red</td>\n    </tr>\n    <tr>\n      <th>53</th>\n      <td>CCAFS SLC-40</td>\n      <td>28.563197</td>\n      <td>-80.576820</td>\n      <td>0</td>\n      <td>red</td>\n    </tr>\n    <tr>\n      <th>54</th>\n      <td>CCAFS SLC-40</td>\n      <td>28.563197</td>\n      <td>-80.576820</td>\n      <td>1</td>\n      <td>green</td>\n    </tr>\n    <tr>\n      <th>55</th>\n      <td>CCAFS SLC-40</td>\n      <td>28.563197</td>\n      <td>-80.576820</td>\n      <td>0</td>\n      <td>red</td>\n    </tr>\n  </tbody>\n</table>\n</div>"
     },
     "execution_count": 148,
     "metadata": {},
     "output_type": "execute_result"
    }
   ],
   "source": [
    "# Function to assign color to launch outcome\n",
    "def assign_marker_color(launch_outcome):\n",
    "    if launch_outcome == 1:\n",
    "        return 'green'\n",
    "    else:\n",
    "        return 'red'\n",
    "    \n",
    "spacex_df['marker_color'] = spacex_df['class'].apply(assign_marker_color)\n",
    "spacex_df.tail(10)"
   ]
  },
  {
   "cell_type": "markdown",
   "metadata": {},
   "source": [
    "_TODO:_ For each launch result in `spacex_df` data frame, add a `folium.Marker` to `marker_cluster`\n"
   ]
  },
  {
   "cell_type": "code",
   "execution_count": 149,
   "metadata": {
    "ExecuteTime": {
     "end_time": "2024-09-06T17:07:00.047460Z",
     "start_time": "2024-09-06T17:06:59.967025Z"
    }
   },
   "outputs": [
    {
     "data": {
      "text/plain": "<folium.folium.Map at 0x1f6628f71a0>",
      "text/html": "<div style=\"width:100%;\"><div style=\"position:relative;width:100%;height:0;padding-bottom:60%;\"><span style=\"color:#565656\">Make this Notebook Trusted to load map: File -> Trust Notebook</span><iframe srcdoc=\"&lt;!DOCTYPE html&gt;\n&lt;html&gt;\n&lt;head&gt;\n    \n    &lt;meta http-equiv=&quot;content-type&quot; content=&quot;text/html; charset=UTF-8&quot; /&gt;\n    \n        &lt;script&gt;\n            L_NO_TOUCH = false;\n            L_DISABLE_3D = false;\n        &lt;/script&gt;\n    \n    &lt;style&gt;html, body {width: 100%;height: 100%;margin: 0;padding: 0;}&lt;/style&gt;\n    &lt;style&gt;#map {position:absolute;top:0;bottom:0;right:0;left:0;}&lt;/style&gt;\n    &lt;script src=&quot;https://cdn.jsdelivr.net/npm/leaflet@1.9.3/dist/leaflet.js&quot;&gt;&lt;/script&gt;\n    &lt;script src=&quot;https://code.jquery.com/jquery-3.7.1.min.js&quot;&gt;&lt;/script&gt;\n    &lt;script src=&quot;https://cdn.jsdelivr.net/npm/bootstrap@5.2.2/dist/js/bootstrap.bundle.min.js&quot;&gt;&lt;/script&gt;\n    &lt;script src=&quot;https://cdnjs.cloudflare.com/ajax/libs/Leaflet.awesome-markers/2.0.2/leaflet.awesome-markers.js&quot;&gt;&lt;/script&gt;\n    &lt;link rel=&quot;stylesheet&quot; href=&quot;https://cdn.jsdelivr.net/npm/leaflet@1.9.3/dist/leaflet.css&quot;/&gt;\n    &lt;link rel=&quot;stylesheet&quot; href=&quot;https://cdn.jsdelivr.net/npm/bootstrap@5.2.2/dist/css/bootstrap.min.css&quot;/&gt;\n    &lt;link rel=&quot;stylesheet&quot; href=&quot;https://netdna.bootstrapcdn.com/bootstrap/3.0.0/css/bootstrap-glyphicons.css&quot;/&gt;\n    &lt;link rel=&quot;stylesheet&quot; href=&quot;https://cdn.jsdelivr.net/npm/@fortawesome/fontawesome-free@6.2.0/css/all.min.css&quot;/&gt;\n    &lt;link rel=&quot;stylesheet&quot; href=&quot;https://cdnjs.cloudflare.com/ajax/libs/Leaflet.awesome-markers/2.0.2/leaflet.awesome-markers.css&quot;/&gt;\n    &lt;link rel=&quot;stylesheet&quot; href=&quot;https://cdn.jsdelivr.net/gh/python-visualization/folium/folium/templates/leaflet.awesome.rotate.min.css&quot;/&gt;\n    \n            &lt;meta name=&quot;viewport&quot; content=&quot;width=device-width,\n                initial-scale=1.0, maximum-scale=1.0, user-scalable=no&quot; /&gt;\n            &lt;style&gt;\n                #map_1298baed41ed76cd537ab47a7301608c {\n                    position: relative;\n                    width: 100.0%;\n                    height: 100.0%;\n                    left: 0.0%;\n                    top: 0.0%;\n                }\n                .leaflet-container { font-size: 1rem; }\n            &lt;/style&gt;\n        \n    &lt;script src=&quot;https://cdnjs.cloudflare.com/ajax/libs/leaflet.markercluster/1.1.0/leaflet.markercluster.js&quot;&gt;&lt;/script&gt;\n    &lt;link rel=&quot;stylesheet&quot; href=&quot;https://cdnjs.cloudflare.com/ajax/libs/leaflet.markercluster/1.1.0/MarkerCluster.css&quot;/&gt;\n    &lt;link rel=&quot;stylesheet&quot; href=&quot;https://cdnjs.cloudflare.com/ajax/libs/leaflet.markercluster/1.1.0/MarkerCluster.Default.css&quot;/&gt;\n&lt;/head&gt;\n&lt;body&gt;\n    \n    \n            &lt;div class=&quot;folium-map&quot; id=&quot;map_1298baed41ed76cd537ab47a7301608c&quot; &gt;&lt;/div&gt;\n        \n&lt;/body&gt;\n&lt;script&gt;\n    \n    \n            var map_1298baed41ed76cd537ab47a7301608c = L.map(\n                &quot;map_1298baed41ed76cd537ab47a7301608c&quot;,\n                {\n                    center: [29.559684888503615, -95.0830971930759],\n                    crs: L.CRS.EPSG3857,\n                    zoom: 5,\n                    zoomControl: true,\n                    preferCanvas: false,\n                }\n            );\n\n            \n\n        \n    \n            var tile_layer_9365d3100fd9ccc282e33799c00cddc6 = L.tileLayer(\n                &quot;https://tile.openstreetmap.org/{z}/{x}/{y}.png&quot;,\n                {&quot;attribution&quot;: &quot;\\u0026copy; \\u003ca href=\\&quot;https://www.openstreetmap.org/copyright\\&quot;\\u003eOpenStreetMap\\u003c/a\\u003e contributors&quot;, &quot;detectRetina&quot;: false, &quot;maxNativeZoom&quot;: 19, &quot;maxZoom&quot;: 19, &quot;minZoom&quot;: 0, &quot;noWrap&quot;: false, &quot;opacity&quot;: 1, &quot;subdomains&quot;: &quot;abc&quot;, &quot;tms&quot;: false}\n            );\n        \n    \n            tile_layer_9365d3100fd9ccc282e33799c00cddc6.addTo(map_1298baed41ed76cd537ab47a7301608c);\n        \n    \n            var circle_b409720fbb27972a3f14e9edfff85998 = L.circle(\n                [28.56230197, -80.57735648],\n                {&quot;bubblingMouseEvents&quot;: true, &quot;color&quot;: &quot;#d35400&quot;, &quot;dashArray&quot;: null, &quot;dashOffset&quot;: null, &quot;fill&quot;: true, &quot;fillColor&quot;: &quot;#d35400&quot;, &quot;fillOpacity&quot;: 0.2, &quot;fillRule&quot;: &quot;evenodd&quot;, &quot;lineCap&quot;: &quot;round&quot;, &quot;lineJoin&quot;: &quot;round&quot;, &quot;opacity&quot;: 1.0, &quot;radius&quot;: 1000, &quot;stroke&quot;: true, &quot;weight&quot;: 3}\n            ).addTo(map_1298baed41ed76cd537ab47a7301608c);\n        \n    \n        var popup_f0f049354001b3501c34b039f2ff58f8 = L.popup({&quot;maxWidth&quot;: &quot;100%&quot;});\n\n        \n            \n                var html_c6765dee520ea92e0e9a4fc87e0e0560 = $(`&lt;div id=&quot;html_c6765dee520ea92e0e9a4fc87e0e0560&quot; style=&quot;width: 100.0%; height: 100.0%;&quot;&gt;[&#x27;CCAFS LC-40&#x27;]&lt;/div&gt;`)[0];\n                popup_f0f049354001b3501c34b039f2ff58f8.setContent(html_c6765dee520ea92e0e9a4fc87e0e0560);\n            \n        \n\n        circle_b409720fbb27972a3f14e9edfff85998.bindPopup(popup_f0f049354001b3501c34b039f2ff58f8)\n        ;\n\n        \n    \n    \n            var marker_a7983dc92d158acdeafcc740c4a5f621 = L.marker(\n                [28.56230197, -80.57735648],\n                {}\n            ).addTo(map_1298baed41ed76cd537ab47a7301608c);\n        \n    \n            var div_icon_0b1f96a08f21789852780e47a8b43908 = L.divIcon({&quot;className&quot;: &quot;empty&quot;, &quot;html&quot;: &quot;\\u003cdiv style=\\&quot;font-size: 12; color:#d35400;\\&quot;\\u003e\\u003cb\\u003eCCAFS LC-40\\u003c/b\\u003e\\u003c/div\\u003e&quot;, &quot;iconAnchor&quot;: [0, 0], &quot;iconSize&quot;: [20, 20]});\n            marker_a7983dc92d158acdeafcc740c4a5f621.setIcon(div_icon_0b1f96a08f21789852780e47a8b43908);\n        \n    \n            var circle_7343f6ceebf3d1ac7cdaca149d36999b = L.circle(\n                [28.56319718, -80.57682003],\n                {&quot;bubblingMouseEvents&quot;: true, &quot;color&quot;: &quot;#d35400&quot;, &quot;dashArray&quot;: null, &quot;dashOffset&quot;: null, &quot;fill&quot;: true, &quot;fillColor&quot;: &quot;#d35400&quot;, &quot;fillOpacity&quot;: 0.2, &quot;fillRule&quot;: &quot;evenodd&quot;, &quot;lineCap&quot;: &quot;round&quot;, &quot;lineJoin&quot;: &quot;round&quot;, &quot;opacity&quot;: 1.0, &quot;radius&quot;: 1000, &quot;stroke&quot;: true, &quot;weight&quot;: 3}\n            ).addTo(map_1298baed41ed76cd537ab47a7301608c);\n        \n    \n        var popup_f47f4fc18316c13cb6fa4ad2aaf64376 = L.popup({&quot;maxWidth&quot;: &quot;100%&quot;});\n\n        \n            \n                var html_005a61db319afb61c095cdd4c2d94211 = $(`&lt;div id=&quot;html_005a61db319afb61c095cdd4c2d94211&quot; style=&quot;width: 100.0%; height: 100.0%;&quot;&gt;[&#x27;CCAFS SLC-40&#x27;]&lt;/div&gt;`)[0];\n                popup_f47f4fc18316c13cb6fa4ad2aaf64376.setContent(html_005a61db319afb61c095cdd4c2d94211);\n            \n        \n\n        circle_7343f6ceebf3d1ac7cdaca149d36999b.bindPopup(popup_f47f4fc18316c13cb6fa4ad2aaf64376)\n        ;\n\n        \n    \n    \n            var marker_834771443481e04abe6ac2d3c62539d5 = L.marker(\n                [28.56319718, -80.57682003],\n                {}\n            ).addTo(map_1298baed41ed76cd537ab47a7301608c);\n        \n    \n            var div_icon_4a576a4f7e2a08159719fb7e48de56b4 = L.divIcon({&quot;className&quot;: &quot;empty&quot;, &quot;html&quot;: &quot;\\u003cdiv style=\\&quot;font-size: 12; color:#d35400;\\&quot;\\u003e\\u003cb\\u003eCCAFS SLC-40\\u003c/b\\u003e\\u003c/div\\u003e&quot;, &quot;iconAnchor&quot;: [0, 0], &quot;iconSize&quot;: [20, 20]});\n            marker_834771443481e04abe6ac2d3c62539d5.setIcon(div_icon_4a576a4f7e2a08159719fb7e48de56b4);\n        \n    \n            var circle_79b1406d0351c9685de7e040d877c13b = L.circle(\n                [28.57325457, -80.64689529],\n                {&quot;bubblingMouseEvents&quot;: true, &quot;color&quot;: &quot;#d35400&quot;, &quot;dashArray&quot;: null, &quot;dashOffset&quot;: null, &quot;fill&quot;: true, &quot;fillColor&quot;: &quot;#d35400&quot;, &quot;fillOpacity&quot;: 0.2, &quot;fillRule&quot;: &quot;evenodd&quot;, &quot;lineCap&quot;: &quot;round&quot;, &quot;lineJoin&quot;: &quot;round&quot;, &quot;opacity&quot;: 1.0, &quot;radius&quot;: 1000, &quot;stroke&quot;: true, &quot;weight&quot;: 3}\n            ).addTo(map_1298baed41ed76cd537ab47a7301608c);\n        \n    \n        var popup_f37cefe1f63a79098141cd4be145b147 = L.popup({&quot;maxWidth&quot;: &quot;100%&quot;});\n\n        \n            \n                var html_8e75a46cdb26cc99c4598ffd241f68bb = $(`&lt;div id=&quot;html_8e75a46cdb26cc99c4598ffd241f68bb&quot; style=&quot;width: 100.0%; height: 100.0%;&quot;&gt;[&#x27;KSC LC-39A&#x27;]&lt;/div&gt;`)[0];\n                popup_f37cefe1f63a79098141cd4be145b147.setContent(html_8e75a46cdb26cc99c4598ffd241f68bb);\n            \n        \n\n        circle_79b1406d0351c9685de7e040d877c13b.bindPopup(popup_f37cefe1f63a79098141cd4be145b147)\n        ;\n\n        \n    \n    \n            var marker_97e80de01a925b7db56b65021cfaeda2 = L.marker(\n                [28.57325457, -80.64689529],\n                {}\n            ).addTo(map_1298baed41ed76cd537ab47a7301608c);\n        \n    \n            var div_icon_1a882a098ad73f600fdf79ecc050c362 = L.divIcon({&quot;className&quot;: &quot;empty&quot;, &quot;html&quot;: &quot;\\u003cdiv style=\\&quot;font-size: 12; color:#d35400;\\&quot;\\u003e\\u003cb\\u003eKSC LC-39A\\u003c/b\\u003e\\u003c/div\\u003e&quot;, &quot;iconAnchor&quot;: [0, 0], &quot;iconSize&quot;: [20, 20]});\n            marker_97e80de01a925b7db56b65021cfaeda2.setIcon(div_icon_1a882a098ad73f600fdf79ecc050c362);\n        \n    \n            var circle_6a015ea5368cda5fbdf8339bee1dc00b = L.circle(\n                [34.63283416, -120.6107455],\n                {&quot;bubblingMouseEvents&quot;: true, &quot;color&quot;: &quot;#d35400&quot;, &quot;dashArray&quot;: null, &quot;dashOffset&quot;: null, &quot;fill&quot;: true, &quot;fillColor&quot;: &quot;#d35400&quot;, &quot;fillOpacity&quot;: 0.2, &quot;fillRule&quot;: &quot;evenodd&quot;, &quot;lineCap&quot;: &quot;round&quot;, &quot;lineJoin&quot;: &quot;round&quot;, &quot;opacity&quot;: 1.0, &quot;radius&quot;: 1000, &quot;stroke&quot;: true, &quot;weight&quot;: 3}\n            ).addTo(map_1298baed41ed76cd537ab47a7301608c);\n        \n    \n        var popup_177a63d6bc086966d6dbf51496992c20 = L.popup({&quot;maxWidth&quot;: &quot;100%&quot;});\n\n        \n            \n                var html_4f3cc8f605c8ebf9cc1883b11cedcf84 = $(`&lt;div id=&quot;html_4f3cc8f605c8ebf9cc1883b11cedcf84&quot; style=&quot;width: 100.0%; height: 100.0%;&quot;&gt;[&#x27;VAFB SLC-4E&#x27;]&lt;/div&gt;`)[0];\n                popup_177a63d6bc086966d6dbf51496992c20.setContent(html_4f3cc8f605c8ebf9cc1883b11cedcf84);\n            \n        \n\n        circle_6a015ea5368cda5fbdf8339bee1dc00b.bindPopup(popup_177a63d6bc086966d6dbf51496992c20)\n        ;\n\n        \n    \n    \n            var marker_2cf67a69f7547b943352a468d679525b = L.marker(\n                [34.63283416, -120.6107455],\n                {}\n            ).addTo(map_1298baed41ed76cd537ab47a7301608c);\n        \n    \n            var div_icon_921ec2acaef491f7161b14d06f63b916 = L.divIcon({&quot;className&quot;: &quot;empty&quot;, &quot;html&quot;: &quot;\\u003cdiv style=\\&quot;font-size: 12; color:#d35400;\\&quot;\\u003e\\u003cb\\u003eVAFB SLC-4E\\u003c/b\\u003e\\u003c/div\\u003e&quot;, &quot;iconAnchor&quot;: [0, 0], &quot;iconSize&quot;: [20, 20]});\n            marker_2cf67a69f7547b943352a468d679525b.setIcon(div_icon_921ec2acaef491f7161b14d06f63b916);\n        \n    \n            var circle_00b6529015a2e3c84bc77f545090a9c9 = L.circle(\n                [29.559684888503615, -95.0830971930759],\n                {&quot;bubblingMouseEvents&quot;: true, &quot;color&quot;: &quot;#d35400&quot;, &quot;dashArray&quot;: null, &quot;dashOffset&quot;: null, &quot;fill&quot;: true, &quot;fillColor&quot;: &quot;#d35400&quot;, &quot;fillOpacity&quot;: 0.2, &quot;fillRule&quot;: &quot;evenodd&quot;, &quot;lineCap&quot;: &quot;round&quot;, &quot;lineJoin&quot;: &quot;round&quot;, &quot;opacity&quot;: 1.0, &quot;radius&quot;: 1000, &quot;stroke&quot;: true, &quot;weight&quot;: 3}\n            ).addTo(map_1298baed41ed76cd537ab47a7301608c);\n        \n    \n        var popup_f45bbc01f6852b9a09b1d4935f2beb40 = L.popup({&quot;maxWidth&quot;: &quot;100%&quot;});\n\n        \n            \n                var html_356f6ed36b3ca906265844ecb1443b16 = $(`&lt;div id=&quot;html_356f6ed36b3ca906265844ecb1443b16&quot; style=&quot;width: 100.0%; height: 100.0%;&quot;&gt;[&#x27;Nasa Johnson Space Center&#x27;]&lt;/div&gt;`)[0];\n                popup_f45bbc01f6852b9a09b1d4935f2beb40.setContent(html_356f6ed36b3ca906265844ecb1443b16);\n            \n        \n\n        circle_00b6529015a2e3c84bc77f545090a9c9.bindPopup(popup_f45bbc01f6852b9a09b1d4935f2beb40)\n        ;\n\n        \n    \n    \n            var marker_0f00829319e9b0292ea567c466b15b3f = L.marker(\n                [29.559684888503615, -95.0830971930759],\n                {}\n            ).addTo(map_1298baed41ed76cd537ab47a7301608c);\n        \n    \n            var div_icon_048efba5508921ae3bc626fedfad194b = L.divIcon({&quot;className&quot;: &quot;empty&quot;, &quot;html&quot;: &quot;\\u003cdiv style=\\&quot;font-size: 12; color:#d35400;\\&quot;\\u003e\\u003cb\\u003eNasa Johnson Space Center\\u003c/b\\u003e\\u003c/div\\u003e&quot;, &quot;iconAnchor&quot;: [0, 0], &quot;iconSize&quot;: [20, 20]});\n            marker_0f00829319e9b0292ea567c466b15b3f.setIcon(div_icon_048efba5508921ae3bc626fedfad194b);\n        \n    \n            tile_layer_9365d3100fd9ccc282e33799c00cddc6.addTo(map_1298baed41ed76cd537ab47a7301608c);\n        \n    \n            var marker_cluster_514ff6287bfbea1b0eef854a2ceaee50 = L.markerClusterGroup(\n                {}\n            );\n        \n    \n            var marker_abb9b7d9ae065fd59347f4271300bfff = L.marker(\n                [28.56230197, -80.57735648],\n                {&quot;iconColor&quot;: &quot;[\\u0027red\\u0027]&quot;}\n            ).addTo(marker_cluster_514ff6287bfbea1b0eef854a2ceaee50);\n        \n    \n            var icon_19527f3efd346c8f3364cb09510a7b8c = L.AwesomeMarkers.icon(\n                {&quot;extraClasses&quot;: &quot;fa-rotate-0&quot;, &quot;icon&quot;: &quot;info-sign&quot;, &quot;iconColor&quot;: &quot;white&quot;, &quot;markerColor&quot;: &quot;red&quot;, &quot;prefix&quot;: &quot;glyphicon&quot;}\n            );\n            marker_abb9b7d9ae065fd59347f4271300bfff.setIcon(icon_19527f3efd346c8f3364cb09510a7b8c);\n        \n    \n            var marker_a757473d3e7a16b35a0acdf18a3e3af0 = L.marker(\n                [28.56230197, -80.57735648],\n                {&quot;iconColor&quot;: &quot;[\\u0027red\\u0027]&quot;}\n            ).addTo(marker_cluster_514ff6287bfbea1b0eef854a2ceaee50);\n        \n    \n            var icon_85dab0d54d7e2a6facaca8f8f8d679c0 = L.AwesomeMarkers.icon(\n                {&quot;extraClasses&quot;: &quot;fa-rotate-0&quot;, &quot;icon&quot;: &quot;info-sign&quot;, &quot;iconColor&quot;: &quot;white&quot;, &quot;markerColor&quot;: &quot;red&quot;, &quot;prefix&quot;: &quot;glyphicon&quot;}\n            );\n            marker_a757473d3e7a16b35a0acdf18a3e3af0.setIcon(icon_85dab0d54d7e2a6facaca8f8f8d679c0);\n        \n    \n            var marker_5695d8b1183a43f207906152f8dc58a1 = L.marker(\n                [28.56230197, -80.57735648],\n                {&quot;iconColor&quot;: &quot;[\\u0027red\\u0027]&quot;}\n            ).addTo(marker_cluster_514ff6287bfbea1b0eef854a2ceaee50);\n        \n    \n            var icon_a7026d1f909b576da900d7f556ec84bc = L.AwesomeMarkers.icon(\n                {&quot;extraClasses&quot;: &quot;fa-rotate-0&quot;, &quot;icon&quot;: &quot;info-sign&quot;, &quot;iconColor&quot;: &quot;white&quot;, &quot;markerColor&quot;: &quot;red&quot;, &quot;prefix&quot;: &quot;glyphicon&quot;}\n            );\n            marker_5695d8b1183a43f207906152f8dc58a1.setIcon(icon_a7026d1f909b576da900d7f556ec84bc);\n        \n    \n            var marker_07ca6d1899dc75bdc12c57443a8c8d29 = L.marker(\n                [28.56230197, -80.57735648],\n                {&quot;iconColor&quot;: &quot;[\\u0027red\\u0027]&quot;}\n            ).addTo(marker_cluster_514ff6287bfbea1b0eef854a2ceaee50);\n        \n    \n            var icon_fecbbbe9529449da79efa148eb8c74bc = L.AwesomeMarkers.icon(\n                {&quot;extraClasses&quot;: &quot;fa-rotate-0&quot;, &quot;icon&quot;: &quot;info-sign&quot;, &quot;iconColor&quot;: &quot;white&quot;, &quot;markerColor&quot;: &quot;red&quot;, &quot;prefix&quot;: &quot;glyphicon&quot;}\n            );\n            marker_07ca6d1899dc75bdc12c57443a8c8d29.setIcon(icon_fecbbbe9529449da79efa148eb8c74bc);\n        \n    \n            var marker_92ec02d8c14483f78b6712e557253b25 = L.marker(\n                [28.56230197, -80.57735648],\n                {&quot;iconColor&quot;: &quot;[\\u0027red\\u0027]&quot;}\n            ).addTo(marker_cluster_514ff6287bfbea1b0eef854a2ceaee50);\n        \n    \n            var icon_61972807cb6666ae5d7d2b4214f6a6ca = L.AwesomeMarkers.icon(\n                {&quot;extraClasses&quot;: &quot;fa-rotate-0&quot;, &quot;icon&quot;: &quot;info-sign&quot;, &quot;iconColor&quot;: &quot;white&quot;, &quot;markerColor&quot;: &quot;red&quot;, &quot;prefix&quot;: &quot;glyphicon&quot;}\n            );\n            marker_92ec02d8c14483f78b6712e557253b25.setIcon(icon_61972807cb6666ae5d7d2b4214f6a6ca);\n        \n    \n            var marker_039e0a03fb1b751160fc85add8b2ebd4 = L.marker(\n                [28.56230197, -80.57735648],\n                {&quot;iconColor&quot;: &quot;[\\u0027red\\u0027]&quot;}\n            ).addTo(marker_cluster_514ff6287bfbea1b0eef854a2ceaee50);\n        \n    \n            var icon_bd104e6d181e2e375cdc35618e4d9026 = L.AwesomeMarkers.icon(\n                {&quot;extraClasses&quot;: &quot;fa-rotate-0&quot;, &quot;icon&quot;: &quot;info-sign&quot;, &quot;iconColor&quot;: &quot;white&quot;, &quot;markerColor&quot;: &quot;red&quot;, &quot;prefix&quot;: &quot;glyphicon&quot;}\n            );\n            marker_039e0a03fb1b751160fc85add8b2ebd4.setIcon(icon_bd104e6d181e2e375cdc35618e4d9026);\n        \n    \n            var marker_25d08a6c6ad03034bb4e2d3ad9db9d87 = L.marker(\n                [28.56230197, -80.57735648],\n                {&quot;iconColor&quot;: &quot;[\\u0027red\\u0027]&quot;}\n            ).addTo(marker_cluster_514ff6287bfbea1b0eef854a2ceaee50);\n        \n    \n            var icon_761b24536fecb12a6b148266cdd7f86c = L.AwesomeMarkers.icon(\n                {&quot;extraClasses&quot;: &quot;fa-rotate-0&quot;, &quot;icon&quot;: &quot;info-sign&quot;, &quot;iconColor&quot;: &quot;white&quot;, &quot;markerColor&quot;: &quot;red&quot;, &quot;prefix&quot;: &quot;glyphicon&quot;}\n            );\n            marker_25d08a6c6ad03034bb4e2d3ad9db9d87.setIcon(icon_761b24536fecb12a6b148266cdd7f86c);\n        \n    \n            var marker_fb105ad85c2a34ff767a1db7eae944ec = L.marker(\n                [28.56230197, -80.57735648],\n                {&quot;iconColor&quot;: &quot;[\\u0027red\\u0027]&quot;}\n            ).addTo(marker_cluster_514ff6287bfbea1b0eef854a2ceaee50);\n        \n    \n            var icon_9a08b3e0822dd3117969cbda1c535f74 = L.AwesomeMarkers.icon(\n                {&quot;extraClasses&quot;: &quot;fa-rotate-0&quot;, &quot;icon&quot;: &quot;info-sign&quot;, &quot;iconColor&quot;: &quot;white&quot;, &quot;markerColor&quot;: &quot;red&quot;, &quot;prefix&quot;: &quot;glyphicon&quot;}\n            );\n            marker_fb105ad85c2a34ff767a1db7eae944ec.setIcon(icon_9a08b3e0822dd3117969cbda1c535f74);\n        \n    \n            var marker_20f108e590ad997bfd1499ae3a95bac8 = L.marker(\n                [28.56230197, -80.57735648],\n                {&quot;iconColor&quot;: &quot;[\\u0027red\\u0027]&quot;}\n            ).addTo(marker_cluster_514ff6287bfbea1b0eef854a2ceaee50);\n        \n    \n            var icon_30e12b10615b3a34fbcb52fdbbaf475d = L.AwesomeMarkers.icon(\n                {&quot;extraClasses&quot;: &quot;fa-rotate-0&quot;, &quot;icon&quot;: &quot;info-sign&quot;, &quot;iconColor&quot;: &quot;white&quot;, &quot;markerColor&quot;: &quot;red&quot;, &quot;prefix&quot;: &quot;glyphicon&quot;}\n            );\n            marker_20f108e590ad997bfd1499ae3a95bac8.setIcon(icon_30e12b10615b3a34fbcb52fdbbaf475d);\n        \n    \n            var marker_9d5d166ba66138babe0c32664215a14d = L.marker(\n                [28.56230197, -80.57735648],\n                {&quot;iconColor&quot;: &quot;[\\u0027red\\u0027]&quot;}\n            ).addTo(marker_cluster_514ff6287bfbea1b0eef854a2ceaee50);\n        \n    \n            var icon_1f1dd742bbd480b38f8349cdaa49e71d = L.AwesomeMarkers.icon(\n                {&quot;extraClasses&quot;: &quot;fa-rotate-0&quot;, &quot;icon&quot;: &quot;info-sign&quot;, &quot;iconColor&quot;: &quot;white&quot;, &quot;markerColor&quot;: &quot;red&quot;, &quot;prefix&quot;: &quot;glyphicon&quot;}\n            );\n            marker_9d5d166ba66138babe0c32664215a14d.setIcon(icon_1f1dd742bbd480b38f8349cdaa49e71d);\n        \n    \n            var marker_59fabcb5dc47bfc204ec8ff11c744fd2 = L.marker(\n                [28.56230197, -80.57735648],\n                {&quot;iconColor&quot;: &quot;[\\u0027red\\u0027]&quot;}\n            ).addTo(marker_cluster_514ff6287bfbea1b0eef854a2ceaee50);\n        \n    \n            var icon_664d322974464eb909ec5a418f33b596 = L.AwesomeMarkers.icon(\n                {&quot;extraClasses&quot;: &quot;fa-rotate-0&quot;, &quot;icon&quot;: &quot;info-sign&quot;, &quot;iconColor&quot;: &quot;white&quot;, &quot;markerColor&quot;: &quot;red&quot;, &quot;prefix&quot;: &quot;glyphicon&quot;}\n            );\n            marker_59fabcb5dc47bfc204ec8ff11c744fd2.setIcon(icon_664d322974464eb909ec5a418f33b596);\n        \n    \n            var marker_a5da1a7c65858962b1e4addce1cf5782 = L.marker(\n                [28.56230197, -80.57735648],\n                {&quot;iconColor&quot;: &quot;[\\u0027red\\u0027]&quot;}\n            ).addTo(marker_cluster_514ff6287bfbea1b0eef854a2ceaee50);\n        \n    \n            var icon_cd2dea39c6540c5b03875d0c6474df4e = L.AwesomeMarkers.icon(\n                {&quot;extraClasses&quot;: &quot;fa-rotate-0&quot;, &quot;icon&quot;: &quot;info-sign&quot;, &quot;iconColor&quot;: &quot;white&quot;, &quot;markerColor&quot;: &quot;red&quot;, &quot;prefix&quot;: &quot;glyphicon&quot;}\n            );\n            marker_a5da1a7c65858962b1e4addce1cf5782.setIcon(icon_cd2dea39c6540c5b03875d0c6474df4e);\n        \n    \n            var marker_74632dec50ba3d483508ac540aae742a = L.marker(\n                [28.56230197, -80.57735648],\n                {&quot;iconColor&quot;: &quot;[\\u0027red\\u0027]&quot;}\n            ).addTo(marker_cluster_514ff6287bfbea1b0eef854a2ceaee50);\n        \n    \n            var icon_a18effd1e5c94c49efe7e442f3f10740 = L.AwesomeMarkers.icon(\n                {&quot;extraClasses&quot;: &quot;fa-rotate-0&quot;, &quot;icon&quot;: &quot;info-sign&quot;, &quot;iconColor&quot;: &quot;white&quot;, &quot;markerColor&quot;: &quot;red&quot;, &quot;prefix&quot;: &quot;glyphicon&quot;}\n            );\n            marker_74632dec50ba3d483508ac540aae742a.setIcon(icon_a18effd1e5c94c49efe7e442f3f10740);\n        \n    \n            var marker_cf615ee3871aef394383958853ae30d3 = L.marker(\n                [28.56230197, -80.57735648],\n                {&quot;iconColor&quot;: &quot;[\\u0027red\\u0027]&quot;}\n            ).addTo(marker_cluster_514ff6287bfbea1b0eef854a2ceaee50);\n        \n    \n            var icon_2c115435cf25fee0a18a7b1e465a7542 = L.AwesomeMarkers.icon(\n                {&quot;extraClasses&quot;: &quot;fa-rotate-0&quot;, &quot;icon&quot;: &quot;info-sign&quot;, &quot;iconColor&quot;: &quot;white&quot;, &quot;markerColor&quot;: &quot;red&quot;, &quot;prefix&quot;: &quot;glyphicon&quot;}\n            );\n            marker_cf615ee3871aef394383958853ae30d3.setIcon(icon_2c115435cf25fee0a18a7b1e465a7542);\n        \n    \n            var marker_4c757ac233f15b4544cfead35ab31e16 = L.marker(\n                [28.56230197, -80.57735648],\n                {&quot;iconColor&quot;: &quot;[\\u0027red\\u0027]&quot;}\n            ).addTo(marker_cluster_514ff6287bfbea1b0eef854a2ceaee50);\n        \n    \n            var icon_6245a17492e65dc50e0fb51b3c504604 = L.AwesomeMarkers.icon(\n                {&quot;extraClasses&quot;: &quot;fa-rotate-0&quot;, &quot;icon&quot;: &quot;info-sign&quot;, &quot;iconColor&quot;: &quot;white&quot;, &quot;markerColor&quot;: &quot;red&quot;, &quot;prefix&quot;: &quot;glyphicon&quot;}\n            );\n            marker_4c757ac233f15b4544cfead35ab31e16.setIcon(icon_6245a17492e65dc50e0fb51b3c504604);\n        \n    \n            var marker_b11ac23cbc5dd1fd65469d113ee33b0e = L.marker(\n                [28.56230197, -80.57735648],\n                {&quot;iconColor&quot;: &quot;[\\u0027red\\u0027]&quot;}\n            ).addTo(marker_cluster_514ff6287bfbea1b0eef854a2ceaee50);\n        \n    \n            var icon_3ccc8a2a9f253ca36176b30daf109f93 = L.AwesomeMarkers.icon(\n                {&quot;extraClasses&quot;: &quot;fa-rotate-0&quot;, &quot;icon&quot;: &quot;info-sign&quot;, &quot;iconColor&quot;: &quot;white&quot;, &quot;markerColor&quot;: &quot;red&quot;, &quot;prefix&quot;: &quot;glyphicon&quot;}\n            );\n            marker_b11ac23cbc5dd1fd65469d113ee33b0e.setIcon(icon_3ccc8a2a9f253ca36176b30daf109f93);\n        \n    \n            var marker_cd47121270fea025162c40053d4ee27e = L.marker(\n                [28.56230197, -80.57735648],\n                {&quot;iconColor&quot;: &quot;[\\u0027red\\u0027]&quot;}\n            ).addTo(marker_cluster_514ff6287bfbea1b0eef854a2ceaee50);\n        \n    \n            var icon_57bcb6e6be9fe0b06b1c2d1428a4c5fb = L.AwesomeMarkers.icon(\n                {&quot;extraClasses&quot;: &quot;fa-rotate-0&quot;, &quot;icon&quot;: &quot;info-sign&quot;, &quot;iconColor&quot;: &quot;white&quot;, &quot;markerColor&quot;: &quot;red&quot;, &quot;prefix&quot;: &quot;glyphicon&quot;}\n            );\n            marker_cd47121270fea025162c40053d4ee27e.setIcon(icon_57bcb6e6be9fe0b06b1c2d1428a4c5fb);\n        \n    \n            var marker_a855c564ce3afc94eb34c6929ee675f1 = L.marker(\n                [28.56230197, -80.57735648],\n                {&quot;iconColor&quot;: &quot;[\\u0027green\\u0027]&quot;}\n            ).addTo(marker_cluster_514ff6287bfbea1b0eef854a2ceaee50);\n        \n    \n            var icon_d3b716a1e9982e29f4fe1b2cf2841c9f = L.AwesomeMarkers.icon(\n                {&quot;extraClasses&quot;: &quot;fa-rotate-0&quot;, &quot;icon&quot;: &quot;info-sign&quot;, &quot;iconColor&quot;: &quot;white&quot;, &quot;markerColor&quot;: &quot;green&quot;, &quot;prefix&quot;: &quot;glyphicon&quot;}\n            );\n            marker_a855c564ce3afc94eb34c6929ee675f1.setIcon(icon_d3b716a1e9982e29f4fe1b2cf2841c9f);\n        \n    \n            var marker_01bbed07c697d3a101635600f18e7793 = L.marker(\n                [28.56230197, -80.57735648],\n                {&quot;iconColor&quot;: &quot;[\\u0027green\\u0027]&quot;}\n            ).addTo(marker_cluster_514ff6287bfbea1b0eef854a2ceaee50);\n        \n    \n            var icon_e13b0623a645ae30522b6256a9bdbf62 = L.AwesomeMarkers.icon(\n                {&quot;extraClasses&quot;: &quot;fa-rotate-0&quot;, &quot;icon&quot;: &quot;info-sign&quot;, &quot;iconColor&quot;: &quot;white&quot;, &quot;markerColor&quot;: &quot;green&quot;, &quot;prefix&quot;: &quot;glyphicon&quot;}\n            );\n            marker_01bbed07c697d3a101635600f18e7793.setIcon(icon_e13b0623a645ae30522b6256a9bdbf62);\n        \n    \n            var marker_d216c48f6a5e2a2eb83a5c1161fb6bc3 = L.marker(\n                [28.56230197, -80.57735648],\n                {&quot;iconColor&quot;: &quot;[\\u0027red\\u0027]&quot;}\n            ).addTo(marker_cluster_514ff6287bfbea1b0eef854a2ceaee50);\n        \n    \n            var icon_6f71e9bece0663d0c805d49a066f05d7 = L.AwesomeMarkers.icon(\n                {&quot;extraClasses&quot;: &quot;fa-rotate-0&quot;, &quot;icon&quot;: &quot;info-sign&quot;, &quot;iconColor&quot;: &quot;white&quot;, &quot;markerColor&quot;: &quot;red&quot;, &quot;prefix&quot;: &quot;glyphicon&quot;}\n            );\n            marker_d216c48f6a5e2a2eb83a5c1161fb6bc3.setIcon(icon_6f71e9bece0663d0c805d49a066f05d7);\n        \n    \n            var marker_f7e8b155a3f52f9070c92b2d2f2a93e2 = L.marker(\n                [28.56230197, -80.57735648],\n                {&quot;iconColor&quot;: &quot;[\\u0027green\\u0027]&quot;}\n            ).addTo(marker_cluster_514ff6287bfbea1b0eef854a2ceaee50);\n        \n    \n            var icon_5554cb5c0a531520c80512bdbbc1918a = L.AwesomeMarkers.icon(\n                {&quot;extraClasses&quot;: &quot;fa-rotate-0&quot;, &quot;icon&quot;: &quot;info-sign&quot;, &quot;iconColor&quot;: &quot;white&quot;, &quot;markerColor&quot;: &quot;green&quot;, &quot;prefix&quot;: &quot;glyphicon&quot;}\n            );\n            marker_f7e8b155a3f52f9070c92b2d2f2a93e2.setIcon(icon_5554cb5c0a531520c80512bdbbc1918a);\n        \n    \n            var marker_e43f36cd81224d74c8bbaf43c3459369 = L.marker(\n                [28.56230197, -80.57735648],\n                {&quot;iconColor&quot;: &quot;[\\u0027green\\u0027]&quot;}\n            ).addTo(marker_cluster_514ff6287bfbea1b0eef854a2ceaee50);\n        \n    \n            var icon_c125cf8ee200201f12c1a32cae9ebfc0 = L.AwesomeMarkers.icon(\n                {&quot;extraClasses&quot;: &quot;fa-rotate-0&quot;, &quot;icon&quot;: &quot;info-sign&quot;, &quot;iconColor&quot;: &quot;white&quot;, &quot;markerColor&quot;: &quot;green&quot;, &quot;prefix&quot;: &quot;glyphicon&quot;}\n            );\n            marker_e43f36cd81224d74c8bbaf43c3459369.setIcon(icon_c125cf8ee200201f12c1a32cae9ebfc0);\n        \n    \n            var marker_ff4e2b8ed67252f40aa484179858bd3b = L.marker(\n                [28.56230197, -80.57735648],\n                {&quot;iconColor&quot;: &quot;[\\u0027green\\u0027]&quot;}\n            ).addTo(marker_cluster_514ff6287bfbea1b0eef854a2ceaee50);\n        \n    \n            var icon_d0df23b30cbd95663f79d4ee04d65b00 = L.AwesomeMarkers.icon(\n                {&quot;extraClasses&quot;: &quot;fa-rotate-0&quot;, &quot;icon&quot;: &quot;info-sign&quot;, &quot;iconColor&quot;: &quot;white&quot;, &quot;markerColor&quot;: &quot;green&quot;, &quot;prefix&quot;: &quot;glyphicon&quot;}\n            );\n            marker_ff4e2b8ed67252f40aa484179858bd3b.setIcon(icon_d0df23b30cbd95663f79d4ee04d65b00);\n        \n    \n            var marker_53156e82d04d30abbe827e3eef52f4ec = L.marker(\n                [28.56230197, -80.57735648],\n                {&quot;iconColor&quot;: &quot;[\\u0027red\\u0027]&quot;}\n            ).addTo(marker_cluster_514ff6287bfbea1b0eef854a2ceaee50);\n        \n    \n            var icon_bbec04f0773647c96a0caff5427859bf = L.AwesomeMarkers.icon(\n                {&quot;extraClasses&quot;: &quot;fa-rotate-0&quot;, &quot;icon&quot;: &quot;info-sign&quot;, &quot;iconColor&quot;: &quot;white&quot;, &quot;markerColor&quot;: &quot;red&quot;, &quot;prefix&quot;: &quot;glyphicon&quot;}\n            );\n            marker_53156e82d04d30abbe827e3eef52f4ec.setIcon(icon_bbec04f0773647c96a0caff5427859bf);\n        \n    \n            var marker_e0558b4881222c1df5b3c6751a50227c = L.marker(\n                [28.56230197, -80.57735648],\n                {&quot;iconColor&quot;: &quot;[\\u0027green\\u0027]&quot;}\n            ).addTo(marker_cluster_514ff6287bfbea1b0eef854a2ceaee50);\n        \n    \n            var icon_1ee3d5403fe67188bee11f07178826d0 = L.AwesomeMarkers.icon(\n                {&quot;extraClasses&quot;: &quot;fa-rotate-0&quot;, &quot;icon&quot;: &quot;info-sign&quot;, &quot;iconColor&quot;: &quot;white&quot;, &quot;markerColor&quot;: &quot;green&quot;, &quot;prefix&quot;: &quot;glyphicon&quot;}\n            );\n            marker_e0558b4881222c1df5b3c6751a50227c.setIcon(icon_1ee3d5403fe67188bee11f07178826d0);\n        \n    \n            var marker_75fa3d5e7cebcb11a34dabdcc26961d5 = L.marker(\n                [28.56230197, -80.57735648],\n                {&quot;iconColor&quot;: &quot;[\\u0027green\\u0027]&quot;}\n            ).addTo(marker_cluster_514ff6287bfbea1b0eef854a2ceaee50);\n        \n    \n            var icon_31141417eae5727b328de48d19404f3a = L.AwesomeMarkers.icon(\n                {&quot;extraClasses&quot;: &quot;fa-rotate-0&quot;, &quot;icon&quot;: &quot;info-sign&quot;, &quot;iconColor&quot;: &quot;white&quot;, &quot;markerColor&quot;: &quot;green&quot;, &quot;prefix&quot;: &quot;glyphicon&quot;}\n            );\n            marker_75fa3d5e7cebcb11a34dabdcc26961d5.setIcon(icon_31141417eae5727b328de48d19404f3a);\n        \n    \n            var marker_e53b0d841e3f15afb40f532f7fb18605 = L.marker(\n                [34.63283416, -120.6107455],\n                {&quot;iconColor&quot;: &quot;[\\u0027red\\u0027]&quot;}\n            ).addTo(marker_cluster_514ff6287bfbea1b0eef854a2ceaee50);\n        \n    \n            var icon_004b8d9028ded372a882c50035eb1f5a = L.AwesomeMarkers.icon(\n                {&quot;extraClasses&quot;: &quot;fa-rotate-0&quot;, &quot;icon&quot;: &quot;info-sign&quot;, &quot;iconColor&quot;: &quot;white&quot;, &quot;markerColor&quot;: &quot;red&quot;, &quot;prefix&quot;: &quot;glyphicon&quot;}\n            );\n            marker_e53b0d841e3f15afb40f532f7fb18605.setIcon(icon_004b8d9028ded372a882c50035eb1f5a);\n        \n    \n            var marker_c75b1247e9b68194f6bd3d8991750707 = L.marker(\n                [34.63283416, -120.6107455],\n                {&quot;iconColor&quot;: &quot;[\\u0027red\\u0027]&quot;}\n            ).addTo(marker_cluster_514ff6287bfbea1b0eef854a2ceaee50);\n        \n    \n            var icon_3c5293df96a764590109e361ebbacac5 = L.AwesomeMarkers.icon(\n                {&quot;extraClasses&quot;: &quot;fa-rotate-0&quot;, &quot;icon&quot;: &quot;info-sign&quot;, &quot;iconColor&quot;: &quot;white&quot;, &quot;markerColor&quot;: &quot;red&quot;, &quot;prefix&quot;: &quot;glyphicon&quot;}\n            );\n            marker_c75b1247e9b68194f6bd3d8991750707.setIcon(icon_3c5293df96a764590109e361ebbacac5);\n        \n    \n            var marker_a2266ebc6bd0ff6c922f86974e0d8143 = L.marker(\n                [34.63283416, -120.6107455],\n                {&quot;iconColor&quot;: &quot;[\\u0027green\\u0027]&quot;}\n            ).addTo(marker_cluster_514ff6287bfbea1b0eef854a2ceaee50);\n        \n    \n            var icon_d4a233df10187cfeaa53188f1324126b = L.AwesomeMarkers.icon(\n                {&quot;extraClasses&quot;: &quot;fa-rotate-0&quot;, &quot;icon&quot;: &quot;info-sign&quot;, &quot;iconColor&quot;: &quot;white&quot;, &quot;markerColor&quot;: &quot;green&quot;, &quot;prefix&quot;: &quot;glyphicon&quot;}\n            );\n            marker_a2266ebc6bd0ff6c922f86974e0d8143.setIcon(icon_d4a233df10187cfeaa53188f1324126b);\n        \n    \n            var marker_113bfa1daeb2e2f42cee80af5646e8dd = L.marker(\n                [34.63283416, -120.6107455],\n                {&quot;iconColor&quot;: &quot;[\\u0027green\\u0027]&quot;}\n            ).addTo(marker_cluster_514ff6287bfbea1b0eef854a2ceaee50);\n        \n    \n            var icon_9dd2184516fa075efc9d1b70df3c52dc = L.AwesomeMarkers.icon(\n                {&quot;extraClasses&quot;: &quot;fa-rotate-0&quot;, &quot;icon&quot;: &quot;info-sign&quot;, &quot;iconColor&quot;: &quot;white&quot;, &quot;markerColor&quot;: &quot;green&quot;, &quot;prefix&quot;: &quot;glyphicon&quot;}\n            );\n            marker_113bfa1daeb2e2f42cee80af5646e8dd.setIcon(icon_9dd2184516fa075efc9d1b70df3c52dc);\n        \n    \n            var marker_a8568ed91d648b12e7665fba0d28e68a = L.marker(\n                [34.63283416, -120.6107455],\n                {&quot;iconColor&quot;: &quot;[\\u0027green\\u0027]&quot;}\n            ).addTo(marker_cluster_514ff6287bfbea1b0eef854a2ceaee50);\n        \n    \n            var icon_2efb1c276ef795b947a59059e7ed37a8 = L.AwesomeMarkers.icon(\n                {&quot;extraClasses&quot;: &quot;fa-rotate-0&quot;, &quot;icon&quot;: &quot;info-sign&quot;, &quot;iconColor&quot;: &quot;white&quot;, &quot;markerColor&quot;: &quot;green&quot;, &quot;prefix&quot;: &quot;glyphicon&quot;}\n            );\n            marker_a8568ed91d648b12e7665fba0d28e68a.setIcon(icon_2efb1c276ef795b947a59059e7ed37a8);\n        \n    \n            var marker_fadd5ebea0558c67fe753ca93cd31748 = L.marker(\n                [34.63283416, -120.6107455],\n                {&quot;iconColor&quot;: &quot;[\\u0027green\\u0027]&quot;}\n            ).addTo(marker_cluster_514ff6287bfbea1b0eef854a2ceaee50);\n        \n    \n            var icon_91d67778a351fbe00f8fdcbf8a76568b = L.AwesomeMarkers.icon(\n                {&quot;extraClasses&quot;: &quot;fa-rotate-0&quot;, &quot;icon&quot;: &quot;info-sign&quot;, &quot;iconColor&quot;: &quot;white&quot;, &quot;markerColor&quot;: &quot;green&quot;, &quot;prefix&quot;: &quot;glyphicon&quot;}\n            );\n            marker_fadd5ebea0558c67fe753ca93cd31748.setIcon(icon_91d67778a351fbe00f8fdcbf8a76568b);\n        \n    \n            var marker_c10182ea45e1134064b23a0f7762ca71 = L.marker(\n                [34.63283416, -120.6107455],\n                {&quot;iconColor&quot;: &quot;[\\u0027red\\u0027]&quot;}\n            ).addTo(marker_cluster_514ff6287bfbea1b0eef854a2ceaee50);\n        \n    \n            var icon_678b27ae1389f989e15fe5262a94bb96 = L.AwesomeMarkers.icon(\n                {&quot;extraClasses&quot;: &quot;fa-rotate-0&quot;, &quot;icon&quot;: &quot;info-sign&quot;, &quot;iconColor&quot;: &quot;white&quot;, &quot;markerColor&quot;: &quot;red&quot;, &quot;prefix&quot;: &quot;glyphicon&quot;}\n            );\n            marker_c10182ea45e1134064b23a0f7762ca71.setIcon(icon_678b27ae1389f989e15fe5262a94bb96);\n        \n    \n            var marker_a205f7f4d5d8359cee83d20c54303e62 = L.marker(\n                [34.63283416, -120.6107455],\n                {&quot;iconColor&quot;: &quot;[\\u0027red\\u0027]&quot;}\n            ).addTo(marker_cluster_514ff6287bfbea1b0eef854a2ceaee50);\n        \n    \n            var icon_0bf8c67ae8bca42e7e3fbe9b010a7646 = L.AwesomeMarkers.icon(\n                {&quot;extraClasses&quot;: &quot;fa-rotate-0&quot;, &quot;icon&quot;: &quot;info-sign&quot;, &quot;iconColor&quot;: &quot;white&quot;, &quot;markerColor&quot;: &quot;red&quot;, &quot;prefix&quot;: &quot;glyphicon&quot;}\n            );\n            marker_a205f7f4d5d8359cee83d20c54303e62.setIcon(icon_0bf8c67ae8bca42e7e3fbe9b010a7646);\n        \n    \n            var marker_da67616ce8765f7543508730aa5ba630 = L.marker(\n                [34.63283416, -120.6107455],\n                {&quot;iconColor&quot;: &quot;[\\u0027red\\u0027]&quot;}\n            ).addTo(marker_cluster_514ff6287bfbea1b0eef854a2ceaee50);\n        \n    \n            var icon_ed9ce44e1fb8daac15aa64bd918160be = L.AwesomeMarkers.icon(\n                {&quot;extraClasses&quot;: &quot;fa-rotate-0&quot;, &quot;icon&quot;: &quot;info-sign&quot;, &quot;iconColor&quot;: &quot;white&quot;, &quot;markerColor&quot;: &quot;red&quot;, &quot;prefix&quot;: &quot;glyphicon&quot;}\n            );\n            marker_da67616ce8765f7543508730aa5ba630.setIcon(icon_ed9ce44e1fb8daac15aa64bd918160be);\n        \n    \n            var marker_0b59efc1c8fda201fdef0047b1ca00ef = L.marker(\n                [34.63283416, -120.6107455],\n                {&quot;iconColor&quot;: &quot;[\\u0027red\\u0027]&quot;}\n            ).addTo(marker_cluster_514ff6287bfbea1b0eef854a2ceaee50);\n        \n    \n            var icon_38e1c0d705349c6ffabe0797c7f1d955 = L.AwesomeMarkers.icon(\n                {&quot;extraClasses&quot;: &quot;fa-rotate-0&quot;, &quot;icon&quot;: &quot;info-sign&quot;, &quot;iconColor&quot;: &quot;white&quot;, &quot;markerColor&quot;: &quot;red&quot;, &quot;prefix&quot;: &quot;glyphicon&quot;}\n            );\n            marker_0b59efc1c8fda201fdef0047b1ca00ef.setIcon(icon_38e1c0d705349c6ffabe0797c7f1d955);\n        \n    \n            var marker_605448af04b2c2b83c4e5ec0b162a490 = L.marker(\n                [28.57325457, -80.64689529],\n                {&quot;iconColor&quot;: &quot;[\\u0027green\\u0027]&quot;}\n            ).addTo(marker_cluster_514ff6287bfbea1b0eef854a2ceaee50);\n        \n    \n            var icon_a094dd9172911179e74055aed8bc8d35 = L.AwesomeMarkers.icon(\n                {&quot;extraClasses&quot;: &quot;fa-rotate-0&quot;, &quot;icon&quot;: &quot;info-sign&quot;, &quot;iconColor&quot;: &quot;white&quot;, &quot;markerColor&quot;: &quot;green&quot;, &quot;prefix&quot;: &quot;glyphicon&quot;}\n            );\n            marker_605448af04b2c2b83c4e5ec0b162a490.setIcon(icon_a094dd9172911179e74055aed8bc8d35);\n        \n    \n            var marker_27f3c7fcce2a438255d0fc63415bf177 = L.marker(\n                [28.57325457, -80.64689529],\n                {&quot;iconColor&quot;: &quot;[\\u0027red\\u0027]&quot;}\n            ).addTo(marker_cluster_514ff6287bfbea1b0eef854a2ceaee50);\n        \n    \n            var icon_e649b40687c3fbe7822f1e0f45f78f2d = L.AwesomeMarkers.icon(\n                {&quot;extraClasses&quot;: &quot;fa-rotate-0&quot;, &quot;icon&quot;: &quot;info-sign&quot;, &quot;iconColor&quot;: &quot;white&quot;, &quot;markerColor&quot;: &quot;red&quot;, &quot;prefix&quot;: &quot;glyphicon&quot;}\n            );\n            marker_27f3c7fcce2a438255d0fc63415bf177.setIcon(icon_e649b40687c3fbe7822f1e0f45f78f2d);\n        \n    \n            var marker_8fc4e3e801b31615b7d0180669159732 = L.marker(\n                [28.57325457, -80.64689529],\n                {&quot;iconColor&quot;: &quot;[\\u0027green\\u0027]&quot;}\n            ).addTo(marker_cluster_514ff6287bfbea1b0eef854a2ceaee50);\n        \n    \n            var icon_021f1696c3b9bf01d523eb728556ce45 = L.AwesomeMarkers.icon(\n                {&quot;extraClasses&quot;: &quot;fa-rotate-0&quot;, &quot;icon&quot;: &quot;info-sign&quot;, &quot;iconColor&quot;: &quot;white&quot;, &quot;markerColor&quot;: &quot;green&quot;, &quot;prefix&quot;: &quot;glyphicon&quot;}\n            );\n            marker_8fc4e3e801b31615b7d0180669159732.setIcon(icon_021f1696c3b9bf01d523eb728556ce45);\n        \n    \n            var marker_15180689d3c00fb50474935a70c6cbde = L.marker(\n                [28.57325457, -80.64689529],\n                {&quot;iconColor&quot;: &quot;[\\u0027green\\u0027]&quot;}\n            ).addTo(marker_cluster_514ff6287bfbea1b0eef854a2ceaee50);\n        \n    \n            var icon_bb5c1847e26f87284f2960f2eaebb31b = L.AwesomeMarkers.icon(\n                {&quot;extraClasses&quot;: &quot;fa-rotate-0&quot;, &quot;icon&quot;: &quot;info-sign&quot;, &quot;iconColor&quot;: &quot;white&quot;, &quot;markerColor&quot;: &quot;green&quot;, &quot;prefix&quot;: &quot;glyphicon&quot;}\n            );\n            marker_15180689d3c00fb50474935a70c6cbde.setIcon(icon_bb5c1847e26f87284f2960f2eaebb31b);\n        \n    \n            var marker_6e899b90a9e56fef058e651b70c43a45 = L.marker(\n                [28.57325457, -80.64689529],\n                {&quot;iconColor&quot;: &quot;[\\u0027red\\u0027]&quot;}\n            ).addTo(marker_cluster_514ff6287bfbea1b0eef854a2ceaee50);\n        \n    \n            var icon_53b742182071aeb3b77173e03f3ee10f = L.AwesomeMarkers.icon(\n                {&quot;extraClasses&quot;: &quot;fa-rotate-0&quot;, &quot;icon&quot;: &quot;info-sign&quot;, &quot;iconColor&quot;: &quot;white&quot;, &quot;markerColor&quot;: &quot;red&quot;, &quot;prefix&quot;: &quot;glyphicon&quot;}\n            );\n            marker_6e899b90a9e56fef058e651b70c43a45.setIcon(icon_53b742182071aeb3b77173e03f3ee10f);\n        \n    \n            var marker_75a42660cdc7346f60128879611eb059 = L.marker(\n                [28.57325457, -80.64689529],\n                {&quot;iconColor&quot;: &quot;[\\u0027green\\u0027]&quot;}\n            ).addTo(marker_cluster_514ff6287bfbea1b0eef854a2ceaee50);\n        \n    \n            var icon_b6c995ce3b9c7524028ae1ebed207115 = L.AwesomeMarkers.icon(\n                {&quot;extraClasses&quot;: &quot;fa-rotate-0&quot;, &quot;icon&quot;: &quot;info-sign&quot;, &quot;iconColor&quot;: &quot;white&quot;, &quot;markerColor&quot;: &quot;green&quot;, &quot;prefix&quot;: &quot;glyphicon&quot;}\n            );\n            marker_75a42660cdc7346f60128879611eb059.setIcon(icon_b6c995ce3b9c7524028ae1ebed207115);\n        \n    \n            var marker_c2f78d1e2854d9441dae701c78d6738a = L.marker(\n                [28.57325457, -80.64689529],\n                {&quot;iconColor&quot;: &quot;[\\u0027green\\u0027]&quot;}\n            ).addTo(marker_cluster_514ff6287bfbea1b0eef854a2ceaee50);\n        \n    \n            var icon_9cc3b331411e035ede5d1b0a3ed45a4f = L.AwesomeMarkers.icon(\n                {&quot;extraClasses&quot;: &quot;fa-rotate-0&quot;, &quot;icon&quot;: &quot;info-sign&quot;, &quot;iconColor&quot;: &quot;white&quot;, &quot;markerColor&quot;: &quot;green&quot;, &quot;prefix&quot;: &quot;glyphicon&quot;}\n            );\n            marker_c2f78d1e2854d9441dae701c78d6738a.setIcon(icon_9cc3b331411e035ede5d1b0a3ed45a4f);\n        \n    \n            var marker_fff574eb0684bcff8be9096f8c699a0e = L.marker(\n                [28.57325457, -80.64689529],\n                {&quot;iconColor&quot;: &quot;[\\u0027red\\u0027]&quot;}\n            ).addTo(marker_cluster_514ff6287bfbea1b0eef854a2ceaee50);\n        \n    \n            var icon_bd18be40c73ec10e1b1c67330b8d5e6b = L.AwesomeMarkers.icon(\n                {&quot;extraClasses&quot;: &quot;fa-rotate-0&quot;, &quot;icon&quot;: &quot;info-sign&quot;, &quot;iconColor&quot;: &quot;white&quot;, &quot;markerColor&quot;: &quot;red&quot;, &quot;prefix&quot;: &quot;glyphicon&quot;}\n            );\n            marker_fff574eb0684bcff8be9096f8c699a0e.setIcon(icon_bd18be40c73ec10e1b1c67330b8d5e6b);\n        \n    \n            var marker_240380f156b4cdc9c4a836ae946457f9 = L.marker(\n                [28.57325457, -80.64689529],\n                {&quot;iconColor&quot;: &quot;[\\u0027green\\u0027]&quot;}\n            ).addTo(marker_cluster_514ff6287bfbea1b0eef854a2ceaee50);\n        \n    \n            var icon_a18ed61fd9536585adbf719652daca90 = L.AwesomeMarkers.icon(\n                {&quot;extraClasses&quot;: &quot;fa-rotate-0&quot;, &quot;icon&quot;: &quot;info-sign&quot;, &quot;iconColor&quot;: &quot;white&quot;, &quot;markerColor&quot;: &quot;green&quot;, &quot;prefix&quot;: &quot;glyphicon&quot;}\n            );\n            marker_240380f156b4cdc9c4a836ae946457f9.setIcon(icon_a18ed61fd9536585adbf719652daca90);\n        \n    \n            var marker_89e595a4938b8044a9ce3fecd706e67d = L.marker(\n                [28.57325457, -80.64689529],\n                {&quot;iconColor&quot;: &quot;[\\u0027green\\u0027]&quot;}\n            ).addTo(marker_cluster_514ff6287bfbea1b0eef854a2ceaee50);\n        \n    \n            var icon_75d130a46c83d29b321d8029e97400f4 = L.AwesomeMarkers.icon(\n                {&quot;extraClasses&quot;: &quot;fa-rotate-0&quot;, &quot;icon&quot;: &quot;info-sign&quot;, &quot;iconColor&quot;: &quot;white&quot;, &quot;markerColor&quot;: &quot;green&quot;, &quot;prefix&quot;: &quot;glyphicon&quot;}\n            );\n            marker_89e595a4938b8044a9ce3fecd706e67d.setIcon(icon_75d130a46c83d29b321d8029e97400f4);\n        \n    \n            var marker_8fef01e786d747c9f77dc319db9c7114 = L.marker(\n                [28.57325457, -80.64689529],\n                {&quot;iconColor&quot;: &quot;[\\u0027green\\u0027]&quot;}\n            ).addTo(marker_cluster_514ff6287bfbea1b0eef854a2ceaee50);\n        \n    \n            var icon_e862ca2539af05e87486ded630c936f5 = L.AwesomeMarkers.icon(\n                {&quot;extraClasses&quot;: &quot;fa-rotate-0&quot;, &quot;icon&quot;: &quot;info-sign&quot;, &quot;iconColor&quot;: &quot;white&quot;, &quot;markerColor&quot;: &quot;green&quot;, &quot;prefix&quot;: &quot;glyphicon&quot;}\n            );\n            marker_8fef01e786d747c9f77dc319db9c7114.setIcon(icon_e862ca2539af05e87486ded630c936f5);\n        \n    \n            var marker_146a21f3cc15118fd96f67d67adf1c23 = L.marker(\n                [28.57325457, -80.64689529],\n                {&quot;iconColor&quot;: &quot;[\\u0027green\\u0027]&quot;}\n            ).addTo(marker_cluster_514ff6287bfbea1b0eef854a2ceaee50);\n        \n    \n            var icon_80778eaf5c7026194cd49f7d22dc0bf5 = L.AwesomeMarkers.icon(\n                {&quot;extraClasses&quot;: &quot;fa-rotate-0&quot;, &quot;icon&quot;: &quot;info-sign&quot;, &quot;iconColor&quot;: &quot;white&quot;, &quot;markerColor&quot;: &quot;green&quot;, &quot;prefix&quot;: &quot;glyphicon&quot;}\n            );\n            marker_146a21f3cc15118fd96f67d67adf1c23.setIcon(icon_80778eaf5c7026194cd49f7d22dc0bf5);\n        \n    \n            var marker_0ea8ad2bda8389558ff2c9f22472c25b = L.marker(\n                [28.57325457, -80.64689529],\n                {&quot;iconColor&quot;: &quot;[\\u0027green\\u0027]&quot;}\n            ).addTo(marker_cluster_514ff6287bfbea1b0eef854a2ceaee50);\n        \n    \n            var icon_3683958deb0956f68b7561d79dd2386a = L.AwesomeMarkers.icon(\n                {&quot;extraClasses&quot;: &quot;fa-rotate-0&quot;, &quot;icon&quot;: &quot;info-sign&quot;, &quot;iconColor&quot;: &quot;white&quot;, &quot;markerColor&quot;: &quot;green&quot;, &quot;prefix&quot;: &quot;glyphicon&quot;}\n            );\n            marker_0ea8ad2bda8389558ff2c9f22472c25b.setIcon(icon_3683958deb0956f68b7561d79dd2386a);\n        \n    \n            var marker_915c5181d31b92bba187f33d048df77e = L.marker(\n                [28.56319718, -80.57682003],\n                {&quot;iconColor&quot;: &quot;[\\u0027green\\u0027]&quot;}\n            ).addTo(marker_cluster_514ff6287bfbea1b0eef854a2ceaee50);\n        \n    \n            var icon_d0e94684553a9cb56c1f47dd3735e4a4 = L.AwesomeMarkers.icon(\n                {&quot;extraClasses&quot;: &quot;fa-rotate-0&quot;, &quot;icon&quot;: &quot;info-sign&quot;, &quot;iconColor&quot;: &quot;white&quot;, &quot;markerColor&quot;: &quot;green&quot;, &quot;prefix&quot;: &quot;glyphicon&quot;}\n            );\n            marker_915c5181d31b92bba187f33d048df77e.setIcon(icon_d0e94684553a9cb56c1f47dd3735e4a4);\n        \n    \n            var marker_dd63f52c80902a06e99a1cb5ff6eaba2 = L.marker(\n                [28.56319718, -80.57682003],\n                {&quot;iconColor&quot;: &quot;[\\u0027green\\u0027]&quot;}\n            ).addTo(marker_cluster_514ff6287bfbea1b0eef854a2ceaee50);\n        \n    \n            var icon_a196aafe5a28a45f1c99f51514891f22 = L.AwesomeMarkers.icon(\n                {&quot;extraClasses&quot;: &quot;fa-rotate-0&quot;, &quot;icon&quot;: &quot;info-sign&quot;, &quot;iconColor&quot;: &quot;white&quot;, &quot;markerColor&quot;: &quot;green&quot;, &quot;prefix&quot;: &quot;glyphicon&quot;}\n            );\n            marker_dd63f52c80902a06e99a1cb5ff6eaba2.setIcon(icon_a196aafe5a28a45f1c99f51514891f22);\n        \n    \n            var marker_0c7b162654d8a58551d2fd7447c3c769 = L.marker(\n                [28.56319718, -80.57682003],\n                {&quot;iconColor&quot;: &quot;[\\u0027red\\u0027]&quot;}\n            ).addTo(marker_cluster_514ff6287bfbea1b0eef854a2ceaee50);\n        \n    \n            var icon_cf4b41d79a412636a474b67d29cda437 = L.AwesomeMarkers.icon(\n                {&quot;extraClasses&quot;: &quot;fa-rotate-0&quot;, &quot;icon&quot;: &quot;info-sign&quot;, &quot;iconColor&quot;: &quot;white&quot;, &quot;markerColor&quot;: &quot;red&quot;, &quot;prefix&quot;: &quot;glyphicon&quot;}\n            );\n            marker_0c7b162654d8a58551d2fd7447c3c769.setIcon(icon_cf4b41d79a412636a474b67d29cda437);\n        \n    \n            var marker_562d4da55b5864e47bdedd7d509ea4b8 = L.marker(\n                [28.56319718, -80.57682003],\n                {&quot;iconColor&quot;: &quot;[\\u0027red\\u0027]&quot;}\n            ).addTo(marker_cluster_514ff6287bfbea1b0eef854a2ceaee50);\n        \n    \n            var icon_244f762a0654dc01d5107fcef3176f83 = L.AwesomeMarkers.icon(\n                {&quot;extraClasses&quot;: &quot;fa-rotate-0&quot;, &quot;icon&quot;: &quot;info-sign&quot;, &quot;iconColor&quot;: &quot;white&quot;, &quot;markerColor&quot;: &quot;red&quot;, &quot;prefix&quot;: &quot;glyphicon&quot;}\n            );\n            marker_562d4da55b5864e47bdedd7d509ea4b8.setIcon(icon_244f762a0654dc01d5107fcef3176f83);\n        \n    \n            var marker_d69671dc6a29db49c83baa6ada4b5b4c = L.marker(\n                [28.56319718, -80.57682003],\n                {&quot;iconColor&quot;: &quot;[\\u0027red\\u0027]&quot;}\n            ).addTo(marker_cluster_514ff6287bfbea1b0eef854a2ceaee50);\n        \n    \n            var icon_f531874d5eb2b7eefb19a59003b8363b = L.AwesomeMarkers.icon(\n                {&quot;extraClasses&quot;: &quot;fa-rotate-0&quot;, &quot;icon&quot;: &quot;info-sign&quot;, &quot;iconColor&quot;: &quot;white&quot;, &quot;markerColor&quot;: &quot;red&quot;, &quot;prefix&quot;: &quot;glyphicon&quot;}\n            );\n            marker_d69671dc6a29db49c83baa6ada4b5b4c.setIcon(icon_f531874d5eb2b7eefb19a59003b8363b);\n        \n    \n            var marker_001b820ee0f237a5c06373d708fcf4d2 = L.marker(\n                [28.56319718, -80.57682003],\n                {&quot;iconColor&quot;: &quot;[\\u0027green\\u0027]&quot;}\n            ).addTo(marker_cluster_514ff6287bfbea1b0eef854a2ceaee50);\n        \n    \n            var icon_355b569edfeb5ccd93dd55a65825cd43 = L.AwesomeMarkers.icon(\n                {&quot;extraClasses&quot;: &quot;fa-rotate-0&quot;, &quot;icon&quot;: &quot;info-sign&quot;, &quot;iconColor&quot;: &quot;white&quot;, &quot;markerColor&quot;: &quot;green&quot;, &quot;prefix&quot;: &quot;glyphicon&quot;}\n            );\n            marker_001b820ee0f237a5c06373d708fcf4d2.setIcon(icon_355b569edfeb5ccd93dd55a65825cd43);\n        \n    \n            var marker_9a0f85c17285a630e3b96a447bbaf500 = L.marker(\n                [28.56319718, -80.57682003],\n                {&quot;iconColor&quot;: &quot;[\\u0027red\\u0027]&quot;}\n            ).addTo(marker_cluster_514ff6287bfbea1b0eef854a2ceaee50);\n        \n    \n            var icon_9688390ff9800cc50e42d7646316b1b7 = L.AwesomeMarkers.icon(\n                {&quot;extraClasses&quot;: &quot;fa-rotate-0&quot;, &quot;icon&quot;: &quot;info-sign&quot;, &quot;iconColor&quot;: &quot;white&quot;, &quot;markerColor&quot;: &quot;red&quot;, &quot;prefix&quot;: &quot;glyphicon&quot;}\n            );\n            marker_9a0f85c17285a630e3b96a447bbaf500.setIcon(icon_9688390ff9800cc50e42d7646316b1b7);\n        \n    \n            marker_cluster_514ff6287bfbea1b0eef854a2ceaee50.addTo(map_1298baed41ed76cd537ab47a7301608c);\n        \n&lt;/script&gt;\n&lt;/html&gt;\" style=\"position:absolute;width:100%;height:100%;left:0;top:0;border:none !important;\" allowfullscreen webkitallowfullscreen mozallowfullscreen></iframe></div></div>"
     },
     "execution_count": 149,
     "metadata": {},
     "output_type": "execute_result"
    }
   ],
   "source": [
    "# Add marker_cluster to current site_map\n",
    "site_map.add_child(marker_cluster)\n",
    "\n",
    "# for each row in spacex_df data frame\n",
    "# create a Marker object with its coordinate\n",
    "# and customize the Marker's icon property to indicate if this launch was successed or failed, \n",
    "# e.g., icon=folium.Icon(color='white', icon_color=row['marker_color']\n",
    "for index, record in spacex_df.iterrows():\n",
    "    coordinates = list(spacex_df.loc[index,['Lat','Long']].values)\n",
    "    # TODO: Create and add a Marker cluster to the site map\n",
    "    marker = folium.Marker(coordinates, icon=folium.Icon(color=str(spacex_df.loc[index,['marker_color']].values ).strip(\"['']\")), icon_color=str(spacex_df.loc[index,['marker_color']].values ))\n",
    "    marker_cluster.add_child(marker)\n",
    "\n",
    "site_map"
   ]
  },
  {
   "cell_type": "code",
   "outputs": [],
   "source": [],
   "metadata": {
    "collapsed": false
   }
  },
  {
   "cell_type": "markdown",
   "metadata": {},
   "source": [
    "Your updated map may look like the following screenshots:\n"
   ]
  },
  {
   "cell_type": "markdown",
   "metadata": {},
   "source": [
    "<center>\n",
    "    <img src=\"https://cf-courses-data.s3.us.cloud-object-storage.appdomain.cloud/IBM-DS0321EN-SkillsNetwork/labs/module_3/images/launch_site_marker_cluster.png\">\n",
    "</center>\n"
   ]
  },
  {
   "cell_type": "markdown",
   "metadata": {},
   "source": [
    "<center>\n",
    "    <img src=\"https://cf-courses-data.s3.us.cloud-object-storage.appdomain.cloud/IBM-DS0321EN-SkillsNetwork/labs/module_3/images/launch_site_marker_cluster_zoomed.png\">\n",
    "</center>\n"
   ]
  },
  {
   "cell_type": "markdown",
   "metadata": {},
   "source": [
    "From the color-labeled markers in marker clusters, you should be able to easily identify which launch sites have relatively high success rates.\n"
   ]
  },
  {
   "cell_type": "markdown",
   "metadata": {},
   "source": [
    "# TASK 3: Calculate the distances between a launch site to its proximities\n"
   ]
  },
  {
   "cell_type": "markdown",
   "metadata": {},
   "source": [
    "Next, we need to explore and analyze the proximities of launch sites.\n"
   ]
  },
  {
   "cell_type": "markdown",
   "metadata": {},
   "source": [
    "Let's first add a `MousePosition` on the map to get coordinate for a mouse over a point on the map. As such, while you are exploring the map, you can easily find the coordinates of any points of interests (such as railway)\n"
   ]
  },
  {
   "cell_type": "code",
   "execution_count": 152,
   "metadata": {
    "ExecuteTime": {
     "end_time": "2024-09-06T17:10:34.244389Z",
     "start_time": "2024-09-06T17:10:34.186374Z"
    }
   },
   "outputs": [
    {
     "data": {
      "text/plain": "<folium.folium.Map at 0x1f6628f71a0>",
      "text/html": "<div style=\"width:100%;\"><div style=\"position:relative;width:100%;height:0;padding-bottom:60%;\"><span style=\"color:#565656\">Make this Notebook Trusted to load map: File -> Trust Notebook</span><iframe srcdoc=\"&lt;!DOCTYPE html&gt;\n&lt;html&gt;\n&lt;head&gt;\n    \n    &lt;meta http-equiv=&quot;content-type&quot; content=&quot;text/html; charset=UTF-8&quot; /&gt;\n    \n        &lt;script&gt;\n            L_NO_TOUCH = false;\n            L_DISABLE_3D = false;\n        &lt;/script&gt;\n    \n    &lt;style&gt;html, body {width: 100%;height: 100%;margin: 0;padding: 0;}&lt;/style&gt;\n    &lt;style&gt;#map {position:absolute;top:0;bottom:0;right:0;left:0;}&lt;/style&gt;\n    &lt;script src=&quot;https://cdn.jsdelivr.net/npm/leaflet@1.9.3/dist/leaflet.js&quot;&gt;&lt;/script&gt;\n    &lt;script src=&quot;https://code.jquery.com/jquery-3.7.1.min.js&quot;&gt;&lt;/script&gt;\n    &lt;script src=&quot;https://cdn.jsdelivr.net/npm/bootstrap@5.2.2/dist/js/bootstrap.bundle.min.js&quot;&gt;&lt;/script&gt;\n    &lt;script src=&quot;https://cdnjs.cloudflare.com/ajax/libs/Leaflet.awesome-markers/2.0.2/leaflet.awesome-markers.js&quot;&gt;&lt;/script&gt;\n    &lt;link rel=&quot;stylesheet&quot; href=&quot;https://cdn.jsdelivr.net/npm/leaflet@1.9.3/dist/leaflet.css&quot;/&gt;\n    &lt;link rel=&quot;stylesheet&quot; href=&quot;https://cdn.jsdelivr.net/npm/bootstrap@5.2.2/dist/css/bootstrap.min.css&quot;/&gt;\n    &lt;link rel=&quot;stylesheet&quot; href=&quot;https://netdna.bootstrapcdn.com/bootstrap/3.0.0/css/bootstrap-glyphicons.css&quot;/&gt;\n    &lt;link rel=&quot;stylesheet&quot; href=&quot;https://cdn.jsdelivr.net/npm/@fortawesome/fontawesome-free@6.2.0/css/all.min.css&quot;/&gt;\n    &lt;link rel=&quot;stylesheet&quot; href=&quot;https://cdnjs.cloudflare.com/ajax/libs/Leaflet.awesome-markers/2.0.2/leaflet.awesome-markers.css&quot;/&gt;\n    &lt;link rel=&quot;stylesheet&quot; href=&quot;https://cdn.jsdelivr.net/gh/python-visualization/folium/folium/templates/leaflet.awesome.rotate.min.css&quot;/&gt;\n    \n            &lt;meta name=&quot;viewport&quot; content=&quot;width=device-width,\n                initial-scale=1.0, maximum-scale=1.0, user-scalable=no&quot; /&gt;\n            &lt;style&gt;\n                #map_1298baed41ed76cd537ab47a7301608c {\n                    position: relative;\n                    width: 100.0%;\n                    height: 100.0%;\n                    left: 0.0%;\n                    top: 0.0%;\n                }\n                .leaflet-container { font-size: 1rem; }\n            &lt;/style&gt;\n        \n    &lt;script src=&quot;https://cdnjs.cloudflare.com/ajax/libs/leaflet.markercluster/1.1.0/leaflet.markercluster.js&quot;&gt;&lt;/script&gt;\n    &lt;link rel=&quot;stylesheet&quot; href=&quot;https://cdnjs.cloudflare.com/ajax/libs/leaflet.markercluster/1.1.0/MarkerCluster.css&quot;/&gt;\n    &lt;link rel=&quot;stylesheet&quot; href=&quot;https://cdnjs.cloudflare.com/ajax/libs/leaflet.markercluster/1.1.0/MarkerCluster.Default.css&quot;/&gt;\n    &lt;script src=&quot;https://cdn.jsdelivr.net/gh/ardhi/Leaflet.MousePosition/src/L.Control.MousePosition.min.js&quot;&gt;&lt;/script&gt;\n    &lt;link rel=&quot;stylesheet&quot; href=&quot;https://cdn.jsdelivr.net/gh/ardhi/Leaflet.MousePosition/src/L.Control.MousePosition.min.css&quot;/&gt;\n&lt;/head&gt;\n&lt;body&gt;\n    \n    \n            &lt;div class=&quot;folium-map&quot; id=&quot;map_1298baed41ed76cd537ab47a7301608c&quot; &gt;&lt;/div&gt;\n        \n&lt;/body&gt;\n&lt;script&gt;\n    \n    \n            var map_1298baed41ed76cd537ab47a7301608c = L.map(\n                &quot;map_1298baed41ed76cd537ab47a7301608c&quot;,\n                {\n                    center: [29.559684888503615, -95.0830971930759],\n                    crs: L.CRS.EPSG3857,\n                    zoom: 5,\n                    zoomControl: true,\n                    preferCanvas: false,\n                }\n            );\n\n            \n\n        \n    \n            var tile_layer_9365d3100fd9ccc282e33799c00cddc6 = L.tileLayer(\n                &quot;https://tile.openstreetmap.org/{z}/{x}/{y}.png&quot;,\n                {&quot;attribution&quot;: &quot;\\u0026copy; \\u003ca href=\\&quot;https://www.openstreetmap.org/copyright\\&quot;\\u003eOpenStreetMap\\u003c/a\\u003e contributors&quot;, &quot;detectRetina&quot;: false, &quot;maxNativeZoom&quot;: 19, &quot;maxZoom&quot;: 19, &quot;minZoom&quot;: 0, &quot;noWrap&quot;: false, &quot;opacity&quot;: 1, &quot;subdomains&quot;: &quot;abc&quot;, &quot;tms&quot;: false}\n            );\n        \n    \n            tile_layer_9365d3100fd9ccc282e33799c00cddc6.addTo(map_1298baed41ed76cd537ab47a7301608c);\n        \n    \n            var circle_b409720fbb27972a3f14e9edfff85998 = L.circle(\n                [28.56230197, -80.57735648],\n                {&quot;bubblingMouseEvents&quot;: true, &quot;color&quot;: &quot;#d35400&quot;, &quot;dashArray&quot;: null, &quot;dashOffset&quot;: null, &quot;fill&quot;: true, &quot;fillColor&quot;: &quot;#d35400&quot;, &quot;fillOpacity&quot;: 0.2, &quot;fillRule&quot;: &quot;evenodd&quot;, &quot;lineCap&quot;: &quot;round&quot;, &quot;lineJoin&quot;: &quot;round&quot;, &quot;opacity&quot;: 1.0, &quot;radius&quot;: 1000, &quot;stroke&quot;: true, &quot;weight&quot;: 3}\n            ).addTo(map_1298baed41ed76cd537ab47a7301608c);\n        \n    \n        var popup_f0f049354001b3501c34b039f2ff58f8 = L.popup({&quot;maxWidth&quot;: &quot;100%&quot;});\n\n        \n            \n                var html_c6765dee520ea92e0e9a4fc87e0e0560 = $(`&lt;div id=&quot;html_c6765dee520ea92e0e9a4fc87e0e0560&quot; style=&quot;width: 100.0%; height: 100.0%;&quot;&gt;[&#x27;CCAFS LC-40&#x27;]&lt;/div&gt;`)[0];\n                popup_f0f049354001b3501c34b039f2ff58f8.setContent(html_c6765dee520ea92e0e9a4fc87e0e0560);\n            \n        \n\n        circle_b409720fbb27972a3f14e9edfff85998.bindPopup(popup_f0f049354001b3501c34b039f2ff58f8)\n        ;\n\n        \n    \n    \n            var marker_a7983dc92d158acdeafcc740c4a5f621 = L.marker(\n                [28.56230197, -80.57735648],\n                {}\n            ).addTo(map_1298baed41ed76cd537ab47a7301608c);\n        \n    \n            var div_icon_0b1f96a08f21789852780e47a8b43908 = L.divIcon({&quot;className&quot;: &quot;empty&quot;, &quot;html&quot;: &quot;\\u003cdiv style=\\&quot;font-size: 12; color:#d35400;\\&quot;\\u003e\\u003cb\\u003eCCAFS LC-40\\u003c/b\\u003e\\u003c/div\\u003e&quot;, &quot;iconAnchor&quot;: [0, 0], &quot;iconSize&quot;: [20, 20]});\n            marker_a7983dc92d158acdeafcc740c4a5f621.setIcon(div_icon_0b1f96a08f21789852780e47a8b43908);\n        \n    \n            var circle_7343f6ceebf3d1ac7cdaca149d36999b = L.circle(\n                [28.56319718, -80.57682003],\n                {&quot;bubblingMouseEvents&quot;: true, &quot;color&quot;: &quot;#d35400&quot;, &quot;dashArray&quot;: null, &quot;dashOffset&quot;: null, &quot;fill&quot;: true, &quot;fillColor&quot;: &quot;#d35400&quot;, &quot;fillOpacity&quot;: 0.2, &quot;fillRule&quot;: &quot;evenodd&quot;, &quot;lineCap&quot;: &quot;round&quot;, &quot;lineJoin&quot;: &quot;round&quot;, &quot;opacity&quot;: 1.0, &quot;radius&quot;: 1000, &quot;stroke&quot;: true, &quot;weight&quot;: 3}\n            ).addTo(map_1298baed41ed76cd537ab47a7301608c);\n        \n    \n        var popup_f47f4fc18316c13cb6fa4ad2aaf64376 = L.popup({&quot;maxWidth&quot;: &quot;100%&quot;});\n\n        \n            \n                var html_005a61db319afb61c095cdd4c2d94211 = $(`&lt;div id=&quot;html_005a61db319afb61c095cdd4c2d94211&quot; style=&quot;width: 100.0%; height: 100.0%;&quot;&gt;[&#x27;CCAFS SLC-40&#x27;]&lt;/div&gt;`)[0];\n                popup_f47f4fc18316c13cb6fa4ad2aaf64376.setContent(html_005a61db319afb61c095cdd4c2d94211);\n            \n        \n\n        circle_7343f6ceebf3d1ac7cdaca149d36999b.bindPopup(popup_f47f4fc18316c13cb6fa4ad2aaf64376)\n        ;\n\n        \n    \n    \n            var marker_834771443481e04abe6ac2d3c62539d5 = L.marker(\n                [28.56319718, -80.57682003],\n                {}\n            ).addTo(map_1298baed41ed76cd537ab47a7301608c);\n        \n    \n            var div_icon_4a576a4f7e2a08159719fb7e48de56b4 = L.divIcon({&quot;className&quot;: &quot;empty&quot;, &quot;html&quot;: &quot;\\u003cdiv style=\\&quot;font-size: 12; color:#d35400;\\&quot;\\u003e\\u003cb\\u003eCCAFS SLC-40\\u003c/b\\u003e\\u003c/div\\u003e&quot;, &quot;iconAnchor&quot;: [0, 0], &quot;iconSize&quot;: [20, 20]});\n            marker_834771443481e04abe6ac2d3c62539d5.setIcon(div_icon_4a576a4f7e2a08159719fb7e48de56b4);\n        \n    \n            var circle_79b1406d0351c9685de7e040d877c13b = L.circle(\n                [28.57325457, -80.64689529],\n                {&quot;bubblingMouseEvents&quot;: true, &quot;color&quot;: &quot;#d35400&quot;, &quot;dashArray&quot;: null, &quot;dashOffset&quot;: null, &quot;fill&quot;: true, &quot;fillColor&quot;: &quot;#d35400&quot;, &quot;fillOpacity&quot;: 0.2, &quot;fillRule&quot;: &quot;evenodd&quot;, &quot;lineCap&quot;: &quot;round&quot;, &quot;lineJoin&quot;: &quot;round&quot;, &quot;opacity&quot;: 1.0, &quot;radius&quot;: 1000, &quot;stroke&quot;: true, &quot;weight&quot;: 3}\n            ).addTo(map_1298baed41ed76cd537ab47a7301608c);\n        \n    \n        var popup_f37cefe1f63a79098141cd4be145b147 = L.popup({&quot;maxWidth&quot;: &quot;100%&quot;});\n\n        \n            \n                var html_8e75a46cdb26cc99c4598ffd241f68bb = $(`&lt;div id=&quot;html_8e75a46cdb26cc99c4598ffd241f68bb&quot; style=&quot;width: 100.0%; height: 100.0%;&quot;&gt;[&#x27;KSC LC-39A&#x27;]&lt;/div&gt;`)[0];\n                popup_f37cefe1f63a79098141cd4be145b147.setContent(html_8e75a46cdb26cc99c4598ffd241f68bb);\n            \n        \n\n        circle_79b1406d0351c9685de7e040d877c13b.bindPopup(popup_f37cefe1f63a79098141cd4be145b147)\n        ;\n\n        \n    \n    \n            var marker_97e80de01a925b7db56b65021cfaeda2 = L.marker(\n                [28.57325457, -80.64689529],\n                {}\n            ).addTo(map_1298baed41ed76cd537ab47a7301608c);\n        \n    \n            var div_icon_1a882a098ad73f600fdf79ecc050c362 = L.divIcon({&quot;className&quot;: &quot;empty&quot;, &quot;html&quot;: &quot;\\u003cdiv style=\\&quot;font-size: 12; color:#d35400;\\&quot;\\u003e\\u003cb\\u003eKSC LC-39A\\u003c/b\\u003e\\u003c/div\\u003e&quot;, &quot;iconAnchor&quot;: [0, 0], &quot;iconSize&quot;: [20, 20]});\n            marker_97e80de01a925b7db56b65021cfaeda2.setIcon(div_icon_1a882a098ad73f600fdf79ecc050c362);\n        \n    \n            var circle_6a015ea5368cda5fbdf8339bee1dc00b = L.circle(\n                [34.63283416, -120.6107455],\n                {&quot;bubblingMouseEvents&quot;: true, &quot;color&quot;: &quot;#d35400&quot;, &quot;dashArray&quot;: null, &quot;dashOffset&quot;: null, &quot;fill&quot;: true, &quot;fillColor&quot;: &quot;#d35400&quot;, &quot;fillOpacity&quot;: 0.2, &quot;fillRule&quot;: &quot;evenodd&quot;, &quot;lineCap&quot;: &quot;round&quot;, &quot;lineJoin&quot;: &quot;round&quot;, &quot;opacity&quot;: 1.0, &quot;radius&quot;: 1000, &quot;stroke&quot;: true, &quot;weight&quot;: 3}\n            ).addTo(map_1298baed41ed76cd537ab47a7301608c);\n        \n    \n        var popup_177a63d6bc086966d6dbf51496992c20 = L.popup({&quot;maxWidth&quot;: &quot;100%&quot;});\n\n        \n            \n                var html_4f3cc8f605c8ebf9cc1883b11cedcf84 = $(`&lt;div id=&quot;html_4f3cc8f605c8ebf9cc1883b11cedcf84&quot; style=&quot;width: 100.0%; height: 100.0%;&quot;&gt;[&#x27;VAFB SLC-4E&#x27;]&lt;/div&gt;`)[0];\n                popup_177a63d6bc086966d6dbf51496992c20.setContent(html_4f3cc8f605c8ebf9cc1883b11cedcf84);\n            \n        \n\n        circle_6a015ea5368cda5fbdf8339bee1dc00b.bindPopup(popup_177a63d6bc086966d6dbf51496992c20)\n        ;\n\n        \n    \n    \n            var marker_2cf67a69f7547b943352a468d679525b = L.marker(\n                [34.63283416, -120.6107455],\n                {}\n            ).addTo(map_1298baed41ed76cd537ab47a7301608c);\n        \n    \n            var div_icon_921ec2acaef491f7161b14d06f63b916 = L.divIcon({&quot;className&quot;: &quot;empty&quot;, &quot;html&quot;: &quot;\\u003cdiv style=\\&quot;font-size: 12; color:#d35400;\\&quot;\\u003e\\u003cb\\u003eVAFB SLC-4E\\u003c/b\\u003e\\u003c/div\\u003e&quot;, &quot;iconAnchor&quot;: [0, 0], &quot;iconSize&quot;: [20, 20]});\n            marker_2cf67a69f7547b943352a468d679525b.setIcon(div_icon_921ec2acaef491f7161b14d06f63b916);\n        \n    \n            var circle_00b6529015a2e3c84bc77f545090a9c9 = L.circle(\n                [29.559684888503615, -95.0830971930759],\n                {&quot;bubblingMouseEvents&quot;: true, &quot;color&quot;: &quot;#d35400&quot;, &quot;dashArray&quot;: null, &quot;dashOffset&quot;: null, &quot;fill&quot;: true, &quot;fillColor&quot;: &quot;#d35400&quot;, &quot;fillOpacity&quot;: 0.2, &quot;fillRule&quot;: &quot;evenodd&quot;, &quot;lineCap&quot;: &quot;round&quot;, &quot;lineJoin&quot;: &quot;round&quot;, &quot;opacity&quot;: 1.0, &quot;radius&quot;: 1000, &quot;stroke&quot;: true, &quot;weight&quot;: 3}\n            ).addTo(map_1298baed41ed76cd537ab47a7301608c);\n        \n    \n        var popup_f45bbc01f6852b9a09b1d4935f2beb40 = L.popup({&quot;maxWidth&quot;: &quot;100%&quot;});\n\n        \n            \n                var html_356f6ed36b3ca906265844ecb1443b16 = $(`&lt;div id=&quot;html_356f6ed36b3ca906265844ecb1443b16&quot; style=&quot;width: 100.0%; height: 100.0%;&quot;&gt;[&#x27;Nasa Johnson Space Center&#x27;]&lt;/div&gt;`)[0];\n                popup_f45bbc01f6852b9a09b1d4935f2beb40.setContent(html_356f6ed36b3ca906265844ecb1443b16);\n            \n        \n\n        circle_00b6529015a2e3c84bc77f545090a9c9.bindPopup(popup_f45bbc01f6852b9a09b1d4935f2beb40)\n        ;\n\n        \n    \n    \n            var marker_0f00829319e9b0292ea567c466b15b3f = L.marker(\n                [29.559684888503615, -95.0830971930759],\n                {}\n            ).addTo(map_1298baed41ed76cd537ab47a7301608c);\n        \n    \n            var div_icon_048efba5508921ae3bc626fedfad194b = L.divIcon({&quot;className&quot;: &quot;empty&quot;, &quot;html&quot;: &quot;\\u003cdiv style=\\&quot;font-size: 12; color:#d35400;\\&quot;\\u003e\\u003cb\\u003eNasa Johnson Space Center\\u003c/b\\u003e\\u003c/div\\u003e&quot;, &quot;iconAnchor&quot;: [0, 0], &quot;iconSize&quot;: [20, 20]});\n            marker_0f00829319e9b0292ea567c466b15b3f.setIcon(div_icon_048efba5508921ae3bc626fedfad194b);\n        \n    \n            tile_layer_9365d3100fd9ccc282e33799c00cddc6.addTo(map_1298baed41ed76cd537ab47a7301608c);\n        \n    \n            var marker_cluster_514ff6287bfbea1b0eef854a2ceaee50 = L.markerClusterGroup(\n                {}\n            );\n        \n    \n            var marker_abb9b7d9ae065fd59347f4271300bfff = L.marker(\n                [28.56230197, -80.57735648],\n                {&quot;iconColor&quot;: &quot;[\\u0027red\\u0027]&quot;}\n            ).addTo(marker_cluster_514ff6287bfbea1b0eef854a2ceaee50);\n        \n    \n            var icon_19527f3efd346c8f3364cb09510a7b8c = L.AwesomeMarkers.icon(\n                {&quot;extraClasses&quot;: &quot;fa-rotate-0&quot;, &quot;icon&quot;: &quot;info-sign&quot;, &quot;iconColor&quot;: &quot;white&quot;, &quot;markerColor&quot;: &quot;red&quot;, &quot;prefix&quot;: &quot;glyphicon&quot;}\n            );\n            marker_abb9b7d9ae065fd59347f4271300bfff.setIcon(icon_19527f3efd346c8f3364cb09510a7b8c);\n        \n    \n            var marker_a757473d3e7a16b35a0acdf18a3e3af0 = L.marker(\n                [28.56230197, -80.57735648],\n                {&quot;iconColor&quot;: &quot;[\\u0027red\\u0027]&quot;}\n            ).addTo(marker_cluster_514ff6287bfbea1b0eef854a2ceaee50);\n        \n    \n            var icon_85dab0d54d7e2a6facaca8f8f8d679c0 = L.AwesomeMarkers.icon(\n                {&quot;extraClasses&quot;: &quot;fa-rotate-0&quot;, &quot;icon&quot;: &quot;info-sign&quot;, &quot;iconColor&quot;: &quot;white&quot;, &quot;markerColor&quot;: &quot;red&quot;, &quot;prefix&quot;: &quot;glyphicon&quot;}\n            );\n            marker_a757473d3e7a16b35a0acdf18a3e3af0.setIcon(icon_85dab0d54d7e2a6facaca8f8f8d679c0);\n        \n    \n            var marker_5695d8b1183a43f207906152f8dc58a1 = L.marker(\n                [28.56230197, -80.57735648],\n                {&quot;iconColor&quot;: &quot;[\\u0027red\\u0027]&quot;}\n            ).addTo(marker_cluster_514ff6287bfbea1b0eef854a2ceaee50);\n        \n    \n            var icon_a7026d1f909b576da900d7f556ec84bc = L.AwesomeMarkers.icon(\n                {&quot;extraClasses&quot;: &quot;fa-rotate-0&quot;, &quot;icon&quot;: &quot;info-sign&quot;, &quot;iconColor&quot;: &quot;white&quot;, &quot;markerColor&quot;: &quot;red&quot;, &quot;prefix&quot;: &quot;glyphicon&quot;}\n            );\n            marker_5695d8b1183a43f207906152f8dc58a1.setIcon(icon_a7026d1f909b576da900d7f556ec84bc);\n        \n    \n            var marker_07ca6d1899dc75bdc12c57443a8c8d29 = L.marker(\n                [28.56230197, -80.57735648],\n                {&quot;iconColor&quot;: &quot;[\\u0027red\\u0027]&quot;}\n            ).addTo(marker_cluster_514ff6287bfbea1b0eef854a2ceaee50);\n        \n    \n            var icon_fecbbbe9529449da79efa148eb8c74bc = L.AwesomeMarkers.icon(\n                {&quot;extraClasses&quot;: &quot;fa-rotate-0&quot;, &quot;icon&quot;: &quot;info-sign&quot;, &quot;iconColor&quot;: &quot;white&quot;, &quot;markerColor&quot;: &quot;red&quot;, &quot;prefix&quot;: &quot;glyphicon&quot;}\n            );\n            marker_07ca6d1899dc75bdc12c57443a8c8d29.setIcon(icon_fecbbbe9529449da79efa148eb8c74bc);\n        \n    \n            var marker_92ec02d8c14483f78b6712e557253b25 = L.marker(\n                [28.56230197, -80.57735648],\n                {&quot;iconColor&quot;: &quot;[\\u0027red\\u0027]&quot;}\n            ).addTo(marker_cluster_514ff6287bfbea1b0eef854a2ceaee50);\n        \n    \n            var icon_61972807cb6666ae5d7d2b4214f6a6ca = L.AwesomeMarkers.icon(\n                {&quot;extraClasses&quot;: &quot;fa-rotate-0&quot;, &quot;icon&quot;: &quot;info-sign&quot;, &quot;iconColor&quot;: &quot;white&quot;, &quot;markerColor&quot;: &quot;red&quot;, &quot;prefix&quot;: &quot;glyphicon&quot;}\n            );\n            marker_92ec02d8c14483f78b6712e557253b25.setIcon(icon_61972807cb6666ae5d7d2b4214f6a6ca);\n        \n    \n            var marker_039e0a03fb1b751160fc85add8b2ebd4 = L.marker(\n                [28.56230197, -80.57735648],\n                {&quot;iconColor&quot;: &quot;[\\u0027red\\u0027]&quot;}\n            ).addTo(marker_cluster_514ff6287bfbea1b0eef854a2ceaee50);\n        \n    \n            var icon_bd104e6d181e2e375cdc35618e4d9026 = L.AwesomeMarkers.icon(\n                {&quot;extraClasses&quot;: &quot;fa-rotate-0&quot;, &quot;icon&quot;: &quot;info-sign&quot;, &quot;iconColor&quot;: &quot;white&quot;, &quot;markerColor&quot;: &quot;red&quot;, &quot;prefix&quot;: &quot;glyphicon&quot;}\n            );\n            marker_039e0a03fb1b751160fc85add8b2ebd4.setIcon(icon_bd104e6d181e2e375cdc35618e4d9026);\n        \n    \n            var marker_25d08a6c6ad03034bb4e2d3ad9db9d87 = L.marker(\n                [28.56230197, -80.57735648],\n                {&quot;iconColor&quot;: &quot;[\\u0027red\\u0027]&quot;}\n            ).addTo(marker_cluster_514ff6287bfbea1b0eef854a2ceaee50);\n        \n    \n            var icon_761b24536fecb12a6b148266cdd7f86c = L.AwesomeMarkers.icon(\n                {&quot;extraClasses&quot;: &quot;fa-rotate-0&quot;, &quot;icon&quot;: &quot;info-sign&quot;, &quot;iconColor&quot;: &quot;white&quot;, &quot;markerColor&quot;: &quot;red&quot;, &quot;prefix&quot;: &quot;glyphicon&quot;}\n            );\n            marker_25d08a6c6ad03034bb4e2d3ad9db9d87.setIcon(icon_761b24536fecb12a6b148266cdd7f86c);\n        \n    \n            var marker_fb105ad85c2a34ff767a1db7eae944ec = L.marker(\n                [28.56230197, -80.57735648],\n                {&quot;iconColor&quot;: &quot;[\\u0027red\\u0027]&quot;}\n            ).addTo(marker_cluster_514ff6287bfbea1b0eef854a2ceaee50);\n        \n    \n            var icon_9a08b3e0822dd3117969cbda1c535f74 = L.AwesomeMarkers.icon(\n                {&quot;extraClasses&quot;: &quot;fa-rotate-0&quot;, &quot;icon&quot;: &quot;info-sign&quot;, &quot;iconColor&quot;: &quot;white&quot;, &quot;markerColor&quot;: &quot;red&quot;, &quot;prefix&quot;: &quot;glyphicon&quot;}\n            );\n            marker_fb105ad85c2a34ff767a1db7eae944ec.setIcon(icon_9a08b3e0822dd3117969cbda1c535f74);\n        \n    \n            var marker_20f108e590ad997bfd1499ae3a95bac8 = L.marker(\n                [28.56230197, -80.57735648],\n                {&quot;iconColor&quot;: &quot;[\\u0027red\\u0027]&quot;}\n            ).addTo(marker_cluster_514ff6287bfbea1b0eef854a2ceaee50);\n        \n    \n            var icon_30e12b10615b3a34fbcb52fdbbaf475d = L.AwesomeMarkers.icon(\n                {&quot;extraClasses&quot;: &quot;fa-rotate-0&quot;, &quot;icon&quot;: &quot;info-sign&quot;, &quot;iconColor&quot;: &quot;white&quot;, &quot;markerColor&quot;: &quot;red&quot;, &quot;prefix&quot;: &quot;glyphicon&quot;}\n            );\n            marker_20f108e590ad997bfd1499ae3a95bac8.setIcon(icon_30e12b10615b3a34fbcb52fdbbaf475d);\n        \n    \n            var marker_9d5d166ba66138babe0c32664215a14d = L.marker(\n                [28.56230197, -80.57735648],\n                {&quot;iconColor&quot;: &quot;[\\u0027red\\u0027]&quot;}\n            ).addTo(marker_cluster_514ff6287bfbea1b0eef854a2ceaee50);\n        \n    \n            var icon_1f1dd742bbd480b38f8349cdaa49e71d = L.AwesomeMarkers.icon(\n                {&quot;extraClasses&quot;: &quot;fa-rotate-0&quot;, &quot;icon&quot;: &quot;info-sign&quot;, &quot;iconColor&quot;: &quot;white&quot;, &quot;markerColor&quot;: &quot;red&quot;, &quot;prefix&quot;: &quot;glyphicon&quot;}\n            );\n            marker_9d5d166ba66138babe0c32664215a14d.setIcon(icon_1f1dd742bbd480b38f8349cdaa49e71d);\n        \n    \n            var marker_59fabcb5dc47bfc204ec8ff11c744fd2 = L.marker(\n                [28.56230197, -80.57735648],\n                {&quot;iconColor&quot;: &quot;[\\u0027red\\u0027]&quot;}\n            ).addTo(marker_cluster_514ff6287bfbea1b0eef854a2ceaee50);\n        \n    \n            var icon_664d322974464eb909ec5a418f33b596 = L.AwesomeMarkers.icon(\n                {&quot;extraClasses&quot;: &quot;fa-rotate-0&quot;, &quot;icon&quot;: &quot;info-sign&quot;, &quot;iconColor&quot;: &quot;white&quot;, &quot;markerColor&quot;: &quot;red&quot;, &quot;prefix&quot;: &quot;glyphicon&quot;}\n            );\n            marker_59fabcb5dc47bfc204ec8ff11c744fd2.setIcon(icon_664d322974464eb909ec5a418f33b596);\n        \n    \n            var marker_a5da1a7c65858962b1e4addce1cf5782 = L.marker(\n                [28.56230197, -80.57735648],\n                {&quot;iconColor&quot;: &quot;[\\u0027red\\u0027]&quot;}\n            ).addTo(marker_cluster_514ff6287bfbea1b0eef854a2ceaee50);\n        \n    \n            var icon_cd2dea39c6540c5b03875d0c6474df4e = L.AwesomeMarkers.icon(\n                {&quot;extraClasses&quot;: &quot;fa-rotate-0&quot;, &quot;icon&quot;: &quot;info-sign&quot;, &quot;iconColor&quot;: &quot;white&quot;, &quot;markerColor&quot;: &quot;red&quot;, &quot;prefix&quot;: &quot;glyphicon&quot;}\n            );\n            marker_a5da1a7c65858962b1e4addce1cf5782.setIcon(icon_cd2dea39c6540c5b03875d0c6474df4e);\n        \n    \n            var marker_74632dec50ba3d483508ac540aae742a = L.marker(\n                [28.56230197, -80.57735648],\n                {&quot;iconColor&quot;: &quot;[\\u0027red\\u0027]&quot;}\n            ).addTo(marker_cluster_514ff6287bfbea1b0eef854a2ceaee50);\n        \n    \n            var icon_a18effd1e5c94c49efe7e442f3f10740 = L.AwesomeMarkers.icon(\n                {&quot;extraClasses&quot;: &quot;fa-rotate-0&quot;, &quot;icon&quot;: &quot;info-sign&quot;, &quot;iconColor&quot;: &quot;white&quot;, &quot;markerColor&quot;: &quot;red&quot;, &quot;prefix&quot;: &quot;glyphicon&quot;}\n            );\n            marker_74632dec50ba3d483508ac540aae742a.setIcon(icon_a18effd1e5c94c49efe7e442f3f10740);\n        \n    \n            var marker_cf615ee3871aef394383958853ae30d3 = L.marker(\n                [28.56230197, -80.57735648],\n                {&quot;iconColor&quot;: &quot;[\\u0027red\\u0027]&quot;}\n            ).addTo(marker_cluster_514ff6287bfbea1b0eef854a2ceaee50);\n        \n    \n            var icon_2c115435cf25fee0a18a7b1e465a7542 = L.AwesomeMarkers.icon(\n                {&quot;extraClasses&quot;: &quot;fa-rotate-0&quot;, &quot;icon&quot;: &quot;info-sign&quot;, &quot;iconColor&quot;: &quot;white&quot;, &quot;markerColor&quot;: &quot;red&quot;, &quot;prefix&quot;: &quot;glyphicon&quot;}\n            );\n            marker_cf615ee3871aef394383958853ae30d3.setIcon(icon_2c115435cf25fee0a18a7b1e465a7542);\n        \n    \n            var marker_4c757ac233f15b4544cfead35ab31e16 = L.marker(\n                [28.56230197, -80.57735648],\n                {&quot;iconColor&quot;: &quot;[\\u0027red\\u0027]&quot;}\n            ).addTo(marker_cluster_514ff6287bfbea1b0eef854a2ceaee50);\n        \n    \n            var icon_6245a17492e65dc50e0fb51b3c504604 = L.AwesomeMarkers.icon(\n                {&quot;extraClasses&quot;: &quot;fa-rotate-0&quot;, &quot;icon&quot;: &quot;info-sign&quot;, &quot;iconColor&quot;: &quot;white&quot;, &quot;markerColor&quot;: &quot;red&quot;, &quot;prefix&quot;: &quot;glyphicon&quot;}\n            );\n            marker_4c757ac233f15b4544cfead35ab31e16.setIcon(icon_6245a17492e65dc50e0fb51b3c504604);\n        \n    \n            var marker_b11ac23cbc5dd1fd65469d113ee33b0e = L.marker(\n                [28.56230197, -80.57735648],\n                {&quot;iconColor&quot;: &quot;[\\u0027red\\u0027]&quot;}\n            ).addTo(marker_cluster_514ff6287bfbea1b0eef854a2ceaee50);\n        \n    \n            var icon_3ccc8a2a9f253ca36176b30daf109f93 = L.AwesomeMarkers.icon(\n                {&quot;extraClasses&quot;: &quot;fa-rotate-0&quot;, &quot;icon&quot;: &quot;info-sign&quot;, &quot;iconColor&quot;: &quot;white&quot;, &quot;markerColor&quot;: &quot;red&quot;, &quot;prefix&quot;: &quot;glyphicon&quot;}\n            );\n            marker_b11ac23cbc5dd1fd65469d113ee33b0e.setIcon(icon_3ccc8a2a9f253ca36176b30daf109f93);\n        \n    \n            var marker_cd47121270fea025162c40053d4ee27e = L.marker(\n                [28.56230197, -80.57735648],\n                {&quot;iconColor&quot;: &quot;[\\u0027red\\u0027]&quot;}\n            ).addTo(marker_cluster_514ff6287bfbea1b0eef854a2ceaee50);\n        \n    \n            var icon_57bcb6e6be9fe0b06b1c2d1428a4c5fb = L.AwesomeMarkers.icon(\n                {&quot;extraClasses&quot;: &quot;fa-rotate-0&quot;, &quot;icon&quot;: &quot;info-sign&quot;, &quot;iconColor&quot;: &quot;white&quot;, &quot;markerColor&quot;: &quot;red&quot;, &quot;prefix&quot;: &quot;glyphicon&quot;}\n            );\n            marker_cd47121270fea025162c40053d4ee27e.setIcon(icon_57bcb6e6be9fe0b06b1c2d1428a4c5fb);\n        \n    \n            var marker_a855c564ce3afc94eb34c6929ee675f1 = L.marker(\n                [28.56230197, -80.57735648],\n                {&quot;iconColor&quot;: &quot;[\\u0027green\\u0027]&quot;}\n            ).addTo(marker_cluster_514ff6287bfbea1b0eef854a2ceaee50);\n        \n    \n            var icon_d3b716a1e9982e29f4fe1b2cf2841c9f = L.AwesomeMarkers.icon(\n                {&quot;extraClasses&quot;: &quot;fa-rotate-0&quot;, &quot;icon&quot;: &quot;info-sign&quot;, &quot;iconColor&quot;: &quot;white&quot;, &quot;markerColor&quot;: &quot;green&quot;, &quot;prefix&quot;: &quot;glyphicon&quot;}\n            );\n            marker_a855c564ce3afc94eb34c6929ee675f1.setIcon(icon_d3b716a1e9982e29f4fe1b2cf2841c9f);\n        \n    \n            var marker_01bbed07c697d3a101635600f18e7793 = L.marker(\n                [28.56230197, -80.57735648],\n                {&quot;iconColor&quot;: &quot;[\\u0027green\\u0027]&quot;}\n            ).addTo(marker_cluster_514ff6287bfbea1b0eef854a2ceaee50);\n        \n    \n            var icon_e13b0623a645ae30522b6256a9bdbf62 = L.AwesomeMarkers.icon(\n                {&quot;extraClasses&quot;: &quot;fa-rotate-0&quot;, &quot;icon&quot;: &quot;info-sign&quot;, &quot;iconColor&quot;: &quot;white&quot;, &quot;markerColor&quot;: &quot;green&quot;, &quot;prefix&quot;: &quot;glyphicon&quot;}\n            );\n            marker_01bbed07c697d3a101635600f18e7793.setIcon(icon_e13b0623a645ae30522b6256a9bdbf62);\n        \n    \n            var marker_d216c48f6a5e2a2eb83a5c1161fb6bc3 = L.marker(\n                [28.56230197, -80.57735648],\n                {&quot;iconColor&quot;: &quot;[\\u0027red\\u0027]&quot;}\n            ).addTo(marker_cluster_514ff6287bfbea1b0eef854a2ceaee50);\n        \n    \n            var icon_6f71e9bece0663d0c805d49a066f05d7 = L.AwesomeMarkers.icon(\n                {&quot;extraClasses&quot;: &quot;fa-rotate-0&quot;, &quot;icon&quot;: &quot;info-sign&quot;, &quot;iconColor&quot;: &quot;white&quot;, &quot;markerColor&quot;: &quot;red&quot;, &quot;prefix&quot;: &quot;glyphicon&quot;}\n            );\n            marker_d216c48f6a5e2a2eb83a5c1161fb6bc3.setIcon(icon_6f71e9bece0663d0c805d49a066f05d7);\n        \n    \n            var marker_f7e8b155a3f52f9070c92b2d2f2a93e2 = L.marker(\n                [28.56230197, -80.57735648],\n                {&quot;iconColor&quot;: &quot;[\\u0027green\\u0027]&quot;}\n            ).addTo(marker_cluster_514ff6287bfbea1b0eef854a2ceaee50);\n        \n    \n            var icon_5554cb5c0a531520c80512bdbbc1918a = L.AwesomeMarkers.icon(\n                {&quot;extraClasses&quot;: &quot;fa-rotate-0&quot;, &quot;icon&quot;: &quot;info-sign&quot;, &quot;iconColor&quot;: &quot;white&quot;, &quot;markerColor&quot;: &quot;green&quot;, &quot;prefix&quot;: &quot;glyphicon&quot;}\n            );\n            marker_f7e8b155a3f52f9070c92b2d2f2a93e2.setIcon(icon_5554cb5c0a531520c80512bdbbc1918a);\n        \n    \n            var marker_e43f36cd81224d74c8bbaf43c3459369 = L.marker(\n                [28.56230197, -80.57735648],\n                {&quot;iconColor&quot;: &quot;[\\u0027green\\u0027]&quot;}\n            ).addTo(marker_cluster_514ff6287bfbea1b0eef854a2ceaee50);\n        \n    \n            var icon_c125cf8ee200201f12c1a32cae9ebfc0 = L.AwesomeMarkers.icon(\n                {&quot;extraClasses&quot;: &quot;fa-rotate-0&quot;, &quot;icon&quot;: &quot;info-sign&quot;, &quot;iconColor&quot;: &quot;white&quot;, &quot;markerColor&quot;: &quot;green&quot;, &quot;prefix&quot;: &quot;glyphicon&quot;}\n            );\n            marker_e43f36cd81224d74c8bbaf43c3459369.setIcon(icon_c125cf8ee200201f12c1a32cae9ebfc0);\n        \n    \n            var marker_ff4e2b8ed67252f40aa484179858bd3b = L.marker(\n                [28.56230197, -80.57735648],\n                {&quot;iconColor&quot;: &quot;[\\u0027green\\u0027]&quot;}\n            ).addTo(marker_cluster_514ff6287bfbea1b0eef854a2ceaee50);\n        \n    \n            var icon_d0df23b30cbd95663f79d4ee04d65b00 = L.AwesomeMarkers.icon(\n                {&quot;extraClasses&quot;: &quot;fa-rotate-0&quot;, &quot;icon&quot;: &quot;info-sign&quot;, &quot;iconColor&quot;: &quot;white&quot;, &quot;markerColor&quot;: &quot;green&quot;, &quot;prefix&quot;: &quot;glyphicon&quot;}\n            );\n            marker_ff4e2b8ed67252f40aa484179858bd3b.setIcon(icon_d0df23b30cbd95663f79d4ee04d65b00);\n        \n    \n            var marker_53156e82d04d30abbe827e3eef52f4ec = L.marker(\n                [28.56230197, -80.57735648],\n                {&quot;iconColor&quot;: &quot;[\\u0027red\\u0027]&quot;}\n            ).addTo(marker_cluster_514ff6287bfbea1b0eef854a2ceaee50);\n        \n    \n            var icon_bbec04f0773647c96a0caff5427859bf = L.AwesomeMarkers.icon(\n                {&quot;extraClasses&quot;: &quot;fa-rotate-0&quot;, &quot;icon&quot;: &quot;info-sign&quot;, &quot;iconColor&quot;: &quot;white&quot;, &quot;markerColor&quot;: &quot;red&quot;, &quot;prefix&quot;: &quot;glyphicon&quot;}\n            );\n            marker_53156e82d04d30abbe827e3eef52f4ec.setIcon(icon_bbec04f0773647c96a0caff5427859bf);\n        \n    \n            var marker_e0558b4881222c1df5b3c6751a50227c = L.marker(\n                [28.56230197, -80.57735648],\n                {&quot;iconColor&quot;: &quot;[\\u0027green\\u0027]&quot;}\n            ).addTo(marker_cluster_514ff6287bfbea1b0eef854a2ceaee50);\n        \n    \n            var icon_1ee3d5403fe67188bee11f07178826d0 = L.AwesomeMarkers.icon(\n                {&quot;extraClasses&quot;: &quot;fa-rotate-0&quot;, &quot;icon&quot;: &quot;info-sign&quot;, &quot;iconColor&quot;: &quot;white&quot;, &quot;markerColor&quot;: &quot;green&quot;, &quot;prefix&quot;: &quot;glyphicon&quot;}\n            );\n            marker_e0558b4881222c1df5b3c6751a50227c.setIcon(icon_1ee3d5403fe67188bee11f07178826d0);\n        \n    \n            var marker_75fa3d5e7cebcb11a34dabdcc26961d5 = L.marker(\n                [28.56230197, -80.57735648],\n                {&quot;iconColor&quot;: &quot;[\\u0027green\\u0027]&quot;}\n            ).addTo(marker_cluster_514ff6287bfbea1b0eef854a2ceaee50);\n        \n    \n            var icon_31141417eae5727b328de48d19404f3a = L.AwesomeMarkers.icon(\n                {&quot;extraClasses&quot;: &quot;fa-rotate-0&quot;, &quot;icon&quot;: &quot;info-sign&quot;, &quot;iconColor&quot;: &quot;white&quot;, &quot;markerColor&quot;: &quot;green&quot;, &quot;prefix&quot;: &quot;glyphicon&quot;}\n            );\n            marker_75fa3d5e7cebcb11a34dabdcc26961d5.setIcon(icon_31141417eae5727b328de48d19404f3a);\n        \n    \n            var marker_e53b0d841e3f15afb40f532f7fb18605 = L.marker(\n                [34.63283416, -120.6107455],\n                {&quot;iconColor&quot;: &quot;[\\u0027red\\u0027]&quot;}\n            ).addTo(marker_cluster_514ff6287bfbea1b0eef854a2ceaee50);\n        \n    \n            var icon_004b8d9028ded372a882c50035eb1f5a = L.AwesomeMarkers.icon(\n                {&quot;extraClasses&quot;: &quot;fa-rotate-0&quot;, &quot;icon&quot;: &quot;info-sign&quot;, &quot;iconColor&quot;: &quot;white&quot;, &quot;markerColor&quot;: &quot;red&quot;, &quot;prefix&quot;: &quot;glyphicon&quot;}\n            );\n            marker_e53b0d841e3f15afb40f532f7fb18605.setIcon(icon_004b8d9028ded372a882c50035eb1f5a);\n        \n    \n            var marker_c75b1247e9b68194f6bd3d8991750707 = L.marker(\n                [34.63283416, -120.6107455],\n                {&quot;iconColor&quot;: &quot;[\\u0027red\\u0027]&quot;}\n            ).addTo(marker_cluster_514ff6287bfbea1b0eef854a2ceaee50);\n        \n    \n            var icon_3c5293df96a764590109e361ebbacac5 = L.AwesomeMarkers.icon(\n                {&quot;extraClasses&quot;: &quot;fa-rotate-0&quot;, &quot;icon&quot;: &quot;info-sign&quot;, &quot;iconColor&quot;: &quot;white&quot;, &quot;markerColor&quot;: &quot;red&quot;, &quot;prefix&quot;: &quot;glyphicon&quot;}\n            );\n            marker_c75b1247e9b68194f6bd3d8991750707.setIcon(icon_3c5293df96a764590109e361ebbacac5);\n        \n    \n            var marker_a2266ebc6bd0ff6c922f86974e0d8143 = L.marker(\n                [34.63283416, -120.6107455],\n                {&quot;iconColor&quot;: &quot;[\\u0027green\\u0027]&quot;}\n            ).addTo(marker_cluster_514ff6287bfbea1b0eef854a2ceaee50);\n        \n    \n            var icon_d4a233df10187cfeaa53188f1324126b = L.AwesomeMarkers.icon(\n                {&quot;extraClasses&quot;: &quot;fa-rotate-0&quot;, &quot;icon&quot;: &quot;info-sign&quot;, &quot;iconColor&quot;: &quot;white&quot;, &quot;markerColor&quot;: &quot;green&quot;, &quot;prefix&quot;: &quot;glyphicon&quot;}\n            );\n            marker_a2266ebc6bd0ff6c922f86974e0d8143.setIcon(icon_d4a233df10187cfeaa53188f1324126b);\n        \n    \n            var marker_113bfa1daeb2e2f42cee80af5646e8dd = L.marker(\n                [34.63283416, -120.6107455],\n                {&quot;iconColor&quot;: &quot;[\\u0027green\\u0027]&quot;}\n            ).addTo(marker_cluster_514ff6287bfbea1b0eef854a2ceaee50);\n        \n    \n            var icon_9dd2184516fa075efc9d1b70df3c52dc = L.AwesomeMarkers.icon(\n                {&quot;extraClasses&quot;: &quot;fa-rotate-0&quot;, &quot;icon&quot;: &quot;info-sign&quot;, &quot;iconColor&quot;: &quot;white&quot;, &quot;markerColor&quot;: &quot;green&quot;, &quot;prefix&quot;: &quot;glyphicon&quot;}\n            );\n            marker_113bfa1daeb2e2f42cee80af5646e8dd.setIcon(icon_9dd2184516fa075efc9d1b70df3c52dc);\n        \n    \n            var marker_a8568ed91d648b12e7665fba0d28e68a = L.marker(\n                [34.63283416, -120.6107455],\n                {&quot;iconColor&quot;: &quot;[\\u0027green\\u0027]&quot;}\n            ).addTo(marker_cluster_514ff6287bfbea1b0eef854a2ceaee50);\n        \n    \n            var icon_2efb1c276ef795b947a59059e7ed37a8 = L.AwesomeMarkers.icon(\n                {&quot;extraClasses&quot;: &quot;fa-rotate-0&quot;, &quot;icon&quot;: &quot;info-sign&quot;, &quot;iconColor&quot;: &quot;white&quot;, &quot;markerColor&quot;: &quot;green&quot;, &quot;prefix&quot;: &quot;glyphicon&quot;}\n            );\n            marker_a8568ed91d648b12e7665fba0d28e68a.setIcon(icon_2efb1c276ef795b947a59059e7ed37a8);\n        \n    \n            var marker_fadd5ebea0558c67fe753ca93cd31748 = L.marker(\n                [34.63283416, -120.6107455],\n                {&quot;iconColor&quot;: &quot;[\\u0027green\\u0027]&quot;}\n            ).addTo(marker_cluster_514ff6287bfbea1b0eef854a2ceaee50);\n        \n    \n            var icon_91d67778a351fbe00f8fdcbf8a76568b = L.AwesomeMarkers.icon(\n                {&quot;extraClasses&quot;: &quot;fa-rotate-0&quot;, &quot;icon&quot;: &quot;info-sign&quot;, &quot;iconColor&quot;: &quot;white&quot;, &quot;markerColor&quot;: &quot;green&quot;, &quot;prefix&quot;: &quot;glyphicon&quot;}\n            );\n            marker_fadd5ebea0558c67fe753ca93cd31748.setIcon(icon_91d67778a351fbe00f8fdcbf8a76568b);\n        \n    \n            var marker_c10182ea45e1134064b23a0f7762ca71 = L.marker(\n                [34.63283416, -120.6107455],\n                {&quot;iconColor&quot;: &quot;[\\u0027red\\u0027]&quot;}\n            ).addTo(marker_cluster_514ff6287bfbea1b0eef854a2ceaee50);\n        \n    \n            var icon_678b27ae1389f989e15fe5262a94bb96 = L.AwesomeMarkers.icon(\n                {&quot;extraClasses&quot;: &quot;fa-rotate-0&quot;, &quot;icon&quot;: &quot;info-sign&quot;, &quot;iconColor&quot;: &quot;white&quot;, &quot;markerColor&quot;: &quot;red&quot;, &quot;prefix&quot;: &quot;glyphicon&quot;}\n            );\n            marker_c10182ea45e1134064b23a0f7762ca71.setIcon(icon_678b27ae1389f989e15fe5262a94bb96);\n        \n    \n            var marker_a205f7f4d5d8359cee83d20c54303e62 = L.marker(\n                [34.63283416, -120.6107455],\n                {&quot;iconColor&quot;: &quot;[\\u0027red\\u0027]&quot;}\n            ).addTo(marker_cluster_514ff6287bfbea1b0eef854a2ceaee50);\n        \n    \n            var icon_0bf8c67ae8bca42e7e3fbe9b010a7646 = L.AwesomeMarkers.icon(\n                {&quot;extraClasses&quot;: &quot;fa-rotate-0&quot;, &quot;icon&quot;: &quot;info-sign&quot;, &quot;iconColor&quot;: &quot;white&quot;, &quot;markerColor&quot;: &quot;red&quot;, &quot;prefix&quot;: &quot;glyphicon&quot;}\n            );\n            marker_a205f7f4d5d8359cee83d20c54303e62.setIcon(icon_0bf8c67ae8bca42e7e3fbe9b010a7646);\n        \n    \n            var marker_da67616ce8765f7543508730aa5ba630 = L.marker(\n                [34.63283416, -120.6107455],\n                {&quot;iconColor&quot;: &quot;[\\u0027red\\u0027]&quot;}\n            ).addTo(marker_cluster_514ff6287bfbea1b0eef854a2ceaee50);\n        \n    \n            var icon_ed9ce44e1fb8daac15aa64bd918160be = L.AwesomeMarkers.icon(\n                {&quot;extraClasses&quot;: &quot;fa-rotate-0&quot;, &quot;icon&quot;: &quot;info-sign&quot;, &quot;iconColor&quot;: &quot;white&quot;, &quot;markerColor&quot;: &quot;red&quot;, &quot;prefix&quot;: &quot;glyphicon&quot;}\n            );\n            marker_da67616ce8765f7543508730aa5ba630.setIcon(icon_ed9ce44e1fb8daac15aa64bd918160be);\n        \n    \n            var marker_0b59efc1c8fda201fdef0047b1ca00ef = L.marker(\n                [34.63283416, -120.6107455],\n                {&quot;iconColor&quot;: &quot;[\\u0027red\\u0027]&quot;}\n            ).addTo(marker_cluster_514ff6287bfbea1b0eef854a2ceaee50);\n        \n    \n            var icon_38e1c0d705349c6ffabe0797c7f1d955 = L.AwesomeMarkers.icon(\n                {&quot;extraClasses&quot;: &quot;fa-rotate-0&quot;, &quot;icon&quot;: &quot;info-sign&quot;, &quot;iconColor&quot;: &quot;white&quot;, &quot;markerColor&quot;: &quot;red&quot;, &quot;prefix&quot;: &quot;glyphicon&quot;}\n            );\n            marker_0b59efc1c8fda201fdef0047b1ca00ef.setIcon(icon_38e1c0d705349c6ffabe0797c7f1d955);\n        \n    \n            var marker_605448af04b2c2b83c4e5ec0b162a490 = L.marker(\n                [28.57325457, -80.64689529],\n                {&quot;iconColor&quot;: &quot;[\\u0027green\\u0027]&quot;}\n            ).addTo(marker_cluster_514ff6287bfbea1b0eef854a2ceaee50);\n        \n    \n            var icon_a094dd9172911179e74055aed8bc8d35 = L.AwesomeMarkers.icon(\n                {&quot;extraClasses&quot;: &quot;fa-rotate-0&quot;, &quot;icon&quot;: &quot;info-sign&quot;, &quot;iconColor&quot;: &quot;white&quot;, &quot;markerColor&quot;: &quot;green&quot;, &quot;prefix&quot;: &quot;glyphicon&quot;}\n            );\n            marker_605448af04b2c2b83c4e5ec0b162a490.setIcon(icon_a094dd9172911179e74055aed8bc8d35);\n        \n    \n            var marker_27f3c7fcce2a438255d0fc63415bf177 = L.marker(\n                [28.57325457, -80.64689529],\n                {&quot;iconColor&quot;: &quot;[\\u0027red\\u0027]&quot;}\n            ).addTo(marker_cluster_514ff6287bfbea1b0eef854a2ceaee50);\n        \n    \n            var icon_e649b40687c3fbe7822f1e0f45f78f2d = L.AwesomeMarkers.icon(\n                {&quot;extraClasses&quot;: &quot;fa-rotate-0&quot;, &quot;icon&quot;: &quot;info-sign&quot;, &quot;iconColor&quot;: &quot;white&quot;, &quot;markerColor&quot;: &quot;red&quot;, &quot;prefix&quot;: &quot;glyphicon&quot;}\n            );\n            marker_27f3c7fcce2a438255d0fc63415bf177.setIcon(icon_e649b40687c3fbe7822f1e0f45f78f2d);\n        \n    \n            var marker_8fc4e3e801b31615b7d0180669159732 = L.marker(\n                [28.57325457, -80.64689529],\n                {&quot;iconColor&quot;: &quot;[\\u0027green\\u0027]&quot;}\n            ).addTo(marker_cluster_514ff6287bfbea1b0eef854a2ceaee50);\n        \n    \n            var icon_021f1696c3b9bf01d523eb728556ce45 = L.AwesomeMarkers.icon(\n                {&quot;extraClasses&quot;: &quot;fa-rotate-0&quot;, &quot;icon&quot;: &quot;info-sign&quot;, &quot;iconColor&quot;: &quot;white&quot;, &quot;markerColor&quot;: &quot;green&quot;, &quot;prefix&quot;: &quot;glyphicon&quot;}\n            );\n            marker_8fc4e3e801b31615b7d0180669159732.setIcon(icon_021f1696c3b9bf01d523eb728556ce45);\n        \n    \n            var marker_15180689d3c00fb50474935a70c6cbde = L.marker(\n                [28.57325457, -80.64689529],\n                {&quot;iconColor&quot;: &quot;[\\u0027green\\u0027]&quot;}\n            ).addTo(marker_cluster_514ff6287bfbea1b0eef854a2ceaee50);\n        \n    \n            var icon_bb5c1847e26f87284f2960f2eaebb31b = L.AwesomeMarkers.icon(\n                {&quot;extraClasses&quot;: &quot;fa-rotate-0&quot;, &quot;icon&quot;: &quot;info-sign&quot;, &quot;iconColor&quot;: &quot;white&quot;, &quot;markerColor&quot;: &quot;green&quot;, &quot;prefix&quot;: &quot;glyphicon&quot;}\n            );\n            marker_15180689d3c00fb50474935a70c6cbde.setIcon(icon_bb5c1847e26f87284f2960f2eaebb31b);\n        \n    \n            var marker_6e899b90a9e56fef058e651b70c43a45 = L.marker(\n                [28.57325457, -80.64689529],\n                {&quot;iconColor&quot;: &quot;[\\u0027red\\u0027]&quot;}\n            ).addTo(marker_cluster_514ff6287bfbea1b0eef854a2ceaee50);\n        \n    \n            var icon_53b742182071aeb3b77173e03f3ee10f = L.AwesomeMarkers.icon(\n                {&quot;extraClasses&quot;: &quot;fa-rotate-0&quot;, &quot;icon&quot;: &quot;info-sign&quot;, &quot;iconColor&quot;: &quot;white&quot;, &quot;markerColor&quot;: &quot;red&quot;, &quot;prefix&quot;: &quot;glyphicon&quot;}\n            );\n            marker_6e899b90a9e56fef058e651b70c43a45.setIcon(icon_53b742182071aeb3b77173e03f3ee10f);\n        \n    \n            var marker_75a42660cdc7346f60128879611eb059 = L.marker(\n                [28.57325457, -80.64689529],\n                {&quot;iconColor&quot;: &quot;[\\u0027green\\u0027]&quot;}\n            ).addTo(marker_cluster_514ff6287bfbea1b0eef854a2ceaee50);\n        \n    \n            var icon_b6c995ce3b9c7524028ae1ebed207115 = L.AwesomeMarkers.icon(\n                {&quot;extraClasses&quot;: &quot;fa-rotate-0&quot;, &quot;icon&quot;: &quot;info-sign&quot;, &quot;iconColor&quot;: &quot;white&quot;, &quot;markerColor&quot;: &quot;green&quot;, &quot;prefix&quot;: &quot;glyphicon&quot;}\n            );\n            marker_75a42660cdc7346f60128879611eb059.setIcon(icon_b6c995ce3b9c7524028ae1ebed207115);\n        \n    \n            var marker_c2f78d1e2854d9441dae701c78d6738a = L.marker(\n                [28.57325457, -80.64689529],\n                {&quot;iconColor&quot;: &quot;[\\u0027green\\u0027]&quot;}\n            ).addTo(marker_cluster_514ff6287bfbea1b0eef854a2ceaee50);\n        \n    \n            var icon_9cc3b331411e035ede5d1b0a3ed45a4f = L.AwesomeMarkers.icon(\n                {&quot;extraClasses&quot;: &quot;fa-rotate-0&quot;, &quot;icon&quot;: &quot;info-sign&quot;, &quot;iconColor&quot;: &quot;white&quot;, &quot;markerColor&quot;: &quot;green&quot;, &quot;prefix&quot;: &quot;glyphicon&quot;}\n            );\n            marker_c2f78d1e2854d9441dae701c78d6738a.setIcon(icon_9cc3b331411e035ede5d1b0a3ed45a4f);\n        \n    \n            var marker_fff574eb0684bcff8be9096f8c699a0e = L.marker(\n                [28.57325457, -80.64689529],\n                {&quot;iconColor&quot;: &quot;[\\u0027red\\u0027]&quot;}\n            ).addTo(marker_cluster_514ff6287bfbea1b0eef854a2ceaee50);\n        \n    \n            var icon_bd18be40c73ec10e1b1c67330b8d5e6b = L.AwesomeMarkers.icon(\n                {&quot;extraClasses&quot;: &quot;fa-rotate-0&quot;, &quot;icon&quot;: &quot;info-sign&quot;, &quot;iconColor&quot;: &quot;white&quot;, &quot;markerColor&quot;: &quot;red&quot;, &quot;prefix&quot;: &quot;glyphicon&quot;}\n            );\n            marker_fff574eb0684bcff8be9096f8c699a0e.setIcon(icon_bd18be40c73ec10e1b1c67330b8d5e6b);\n        \n    \n            var marker_240380f156b4cdc9c4a836ae946457f9 = L.marker(\n                [28.57325457, -80.64689529],\n                {&quot;iconColor&quot;: &quot;[\\u0027green\\u0027]&quot;}\n            ).addTo(marker_cluster_514ff6287bfbea1b0eef854a2ceaee50);\n        \n    \n            var icon_a18ed61fd9536585adbf719652daca90 = L.AwesomeMarkers.icon(\n                {&quot;extraClasses&quot;: &quot;fa-rotate-0&quot;, &quot;icon&quot;: &quot;info-sign&quot;, &quot;iconColor&quot;: &quot;white&quot;, &quot;markerColor&quot;: &quot;green&quot;, &quot;prefix&quot;: &quot;glyphicon&quot;}\n            );\n            marker_240380f156b4cdc9c4a836ae946457f9.setIcon(icon_a18ed61fd9536585adbf719652daca90);\n        \n    \n            var marker_89e595a4938b8044a9ce3fecd706e67d = L.marker(\n                [28.57325457, -80.64689529],\n                {&quot;iconColor&quot;: &quot;[\\u0027green\\u0027]&quot;}\n            ).addTo(marker_cluster_514ff6287bfbea1b0eef854a2ceaee50);\n        \n    \n            var icon_75d130a46c83d29b321d8029e97400f4 = L.AwesomeMarkers.icon(\n                {&quot;extraClasses&quot;: &quot;fa-rotate-0&quot;, &quot;icon&quot;: &quot;info-sign&quot;, &quot;iconColor&quot;: &quot;white&quot;, &quot;markerColor&quot;: &quot;green&quot;, &quot;prefix&quot;: &quot;glyphicon&quot;}\n            );\n            marker_89e595a4938b8044a9ce3fecd706e67d.setIcon(icon_75d130a46c83d29b321d8029e97400f4);\n        \n    \n            var marker_8fef01e786d747c9f77dc319db9c7114 = L.marker(\n                [28.57325457, -80.64689529],\n                {&quot;iconColor&quot;: &quot;[\\u0027green\\u0027]&quot;}\n            ).addTo(marker_cluster_514ff6287bfbea1b0eef854a2ceaee50);\n        \n    \n            var icon_e862ca2539af05e87486ded630c936f5 = L.AwesomeMarkers.icon(\n                {&quot;extraClasses&quot;: &quot;fa-rotate-0&quot;, &quot;icon&quot;: &quot;info-sign&quot;, &quot;iconColor&quot;: &quot;white&quot;, &quot;markerColor&quot;: &quot;green&quot;, &quot;prefix&quot;: &quot;glyphicon&quot;}\n            );\n            marker_8fef01e786d747c9f77dc319db9c7114.setIcon(icon_e862ca2539af05e87486ded630c936f5);\n        \n    \n            var marker_146a21f3cc15118fd96f67d67adf1c23 = L.marker(\n                [28.57325457, -80.64689529],\n                {&quot;iconColor&quot;: &quot;[\\u0027green\\u0027]&quot;}\n            ).addTo(marker_cluster_514ff6287bfbea1b0eef854a2ceaee50);\n        \n    \n            var icon_80778eaf5c7026194cd49f7d22dc0bf5 = L.AwesomeMarkers.icon(\n                {&quot;extraClasses&quot;: &quot;fa-rotate-0&quot;, &quot;icon&quot;: &quot;info-sign&quot;, &quot;iconColor&quot;: &quot;white&quot;, &quot;markerColor&quot;: &quot;green&quot;, &quot;prefix&quot;: &quot;glyphicon&quot;}\n            );\n            marker_146a21f3cc15118fd96f67d67adf1c23.setIcon(icon_80778eaf5c7026194cd49f7d22dc0bf5);\n        \n    \n            var marker_0ea8ad2bda8389558ff2c9f22472c25b = L.marker(\n                [28.57325457, -80.64689529],\n                {&quot;iconColor&quot;: &quot;[\\u0027green\\u0027]&quot;}\n            ).addTo(marker_cluster_514ff6287bfbea1b0eef854a2ceaee50);\n        \n    \n            var icon_3683958deb0956f68b7561d79dd2386a = L.AwesomeMarkers.icon(\n                {&quot;extraClasses&quot;: &quot;fa-rotate-0&quot;, &quot;icon&quot;: &quot;info-sign&quot;, &quot;iconColor&quot;: &quot;white&quot;, &quot;markerColor&quot;: &quot;green&quot;, &quot;prefix&quot;: &quot;glyphicon&quot;}\n            );\n            marker_0ea8ad2bda8389558ff2c9f22472c25b.setIcon(icon_3683958deb0956f68b7561d79dd2386a);\n        \n    \n            var marker_915c5181d31b92bba187f33d048df77e = L.marker(\n                [28.56319718, -80.57682003],\n                {&quot;iconColor&quot;: &quot;[\\u0027green\\u0027]&quot;}\n            ).addTo(marker_cluster_514ff6287bfbea1b0eef854a2ceaee50);\n        \n    \n            var icon_d0e94684553a9cb56c1f47dd3735e4a4 = L.AwesomeMarkers.icon(\n                {&quot;extraClasses&quot;: &quot;fa-rotate-0&quot;, &quot;icon&quot;: &quot;info-sign&quot;, &quot;iconColor&quot;: &quot;white&quot;, &quot;markerColor&quot;: &quot;green&quot;, &quot;prefix&quot;: &quot;glyphicon&quot;}\n            );\n            marker_915c5181d31b92bba187f33d048df77e.setIcon(icon_d0e94684553a9cb56c1f47dd3735e4a4);\n        \n    \n            var marker_dd63f52c80902a06e99a1cb5ff6eaba2 = L.marker(\n                [28.56319718, -80.57682003],\n                {&quot;iconColor&quot;: &quot;[\\u0027green\\u0027]&quot;}\n            ).addTo(marker_cluster_514ff6287bfbea1b0eef854a2ceaee50);\n        \n    \n            var icon_a196aafe5a28a45f1c99f51514891f22 = L.AwesomeMarkers.icon(\n                {&quot;extraClasses&quot;: &quot;fa-rotate-0&quot;, &quot;icon&quot;: &quot;info-sign&quot;, &quot;iconColor&quot;: &quot;white&quot;, &quot;markerColor&quot;: &quot;green&quot;, &quot;prefix&quot;: &quot;glyphicon&quot;}\n            );\n            marker_dd63f52c80902a06e99a1cb5ff6eaba2.setIcon(icon_a196aafe5a28a45f1c99f51514891f22);\n        \n    \n            var marker_0c7b162654d8a58551d2fd7447c3c769 = L.marker(\n                [28.56319718, -80.57682003],\n                {&quot;iconColor&quot;: &quot;[\\u0027red\\u0027]&quot;}\n            ).addTo(marker_cluster_514ff6287bfbea1b0eef854a2ceaee50);\n        \n    \n            var icon_cf4b41d79a412636a474b67d29cda437 = L.AwesomeMarkers.icon(\n                {&quot;extraClasses&quot;: &quot;fa-rotate-0&quot;, &quot;icon&quot;: &quot;info-sign&quot;, &quot;iconColor&quot;: &quot;white&quot;, &quot;markerColor&quot;: &quot;red&quot;, &quot;prefix&quot;: &quot;glyphicon&quot;}\n            );\n            marker_0c7b162654d8a58551d2fd7447c3c769.setIcon(icon_cf4b41d79a412636a474b67d29cda437);\n        \n    \n            var marker_562d4da55b5864e47bdedd7d509ea4b8 = L.marker(\n                [28.56319718, -80.57682003],\n                {&quot;iconColor&quot;: &quot;[\\u0027red\\u0027]&quot;}\n            ).addTo(marker_cluster_514ff6287bfbea1b0eef854a2ceaee50);\n        \n    \n            var icon_244f762a0654dc01d5107fcef3176f83 = L.AwesomeMarkers.icon(\n                {&quot;extraClasses&quot;: &quot;fa-rotate-0&quot;, &quot;icon&quot;: &quot;info-sign&quot;, &quot;iconColor&quot;: &quot;white&quot;, &quot;markerColor&quot;: &quot;red&quot;, &quot;prefix&quot;: &quot;glyphicon&quot;}\n            );\n            marker_562d4da55b5864e47bdedd7d509ea4b8.setIcon(icon_244f762a0654dc01d5107fcef3176f83);\n        \n    \n            var marker_d69671dc6a29db49c83baa6ada4b5b4c = L.marker(\n                [28.56319718, -80.57682003],\n                {&quot;iconColor&quot;: &quot;[\\u0027red\\u0027]&quot;}\n            ).addTo(marker_cluster_514ff6287bfbea1b0eef854a2ceaee50);\n        \n    \n            var icon_f531874d5eb2b7eefb19a59003b8363b = L.AwesomeMarkers.icon(\n                {&quot;extraClasses&quot;: &quot;fa-rotate-0&quot;, &quot;icon&quot;: &quot;info-sign&quot;, &quot;iconColor&quot;: &quot;white&quot;, &quot;markerColor&quot;: &quot;red&quot;, &quot;prefix&quot;: &quot;glyphicon&quot;}\n            );\n            marker_d69671dc6a29db49c83baa6ada4b5b4c.setIcon(icon_f531874d5eb2b7eefb19a59003b8363b);\n        \n    \n            var marker_001b820ee0f237a5c06373d708fcf4d2 = L.marker(\n                [28.56319718, -80.57682003],\n                {&quot;iconColor&quot;: &quot;[\\u0027green\\u0027]&quot;}\n            ).addTo(marker_cluster_514ff6287bfbea1b0eef854a2ceaee50);\n        \n    \n            var icon_355b569edfeb5ccd93dd55a65825cd43 = L.AwesomeMarkers.icon(\n                {&quot;extraClasses&quot;: &quot;fa-rotate-0&quot;, &quot;icon&quot;: &quot;info-sign&quot;, &quot;iconColor&quot;: &quot;white&quot;, &quot;markerColor&quot;: &quot;green&quot;, &quot;prefix&quot;: &quot;glyphicon&quot;}\n            );\n            marker_001b820ee0f237a5c06373d708fcf4d2.setIcon(icon_355b569edfeb5ccd93dd55a65825cd43);\n        \n    \n            var marker_9a0f85c17285a630e3b96a447bbaf500 = L.marker(\n                [28.56319718, -80.57682003],\n                {&quot;iconColor&quot;: &quot;[\\u0027red\\u0027]&quot;}\n            ).addTo(marker_cluster_514ff6287bfbea1b0eef854a2ceaee50);\n        \n    \n            var icon_9688390ff9800cc50e42d7646316b1b7 = L.AwesomeMarkers.icon(\n                {&quot;extraClasses&quot;: &quot;fa-rotate-0&quot;, &quot;icon&quot;: &quot;info-sign&quot;, &quot;iconColor&quot;: &quot;white&quot;, &quot;markerColor&quot;: &quot;red&quot;, &quot;prefix&quot;: &quot;glyphicon&quot;}\n            );\n            marker_9a0f85c17285a630e3b96a447bbaf500.setIcon(icon_9688390ff9800cc50e42d7646316b1b7);\n        \n    \n            marker_cluster_514ff6287bfbea1b0eef854a2ceaee50.addTo(map_1298baed41ed76cd537ab47a7301608c);\n        \n    \n            tile_layer_9365d3100fd9ccc282e33799c00cddc6.addTo(map_1298baed41ed76cd537ab47a7301608c);\n        \n    \n            marker_cluster_514ff6287bfbea1b0eef854a2ceaee50.addTo(map_1298baed41ed76cd537ab47a7301608c);\n        \n    \n            var mouse_position_3ef79de82b525315ae4623bbb8f44cb6 = new L.Control.MousePosition(\n                {&quot;emptyString&quot;: &quot;NaN&quot;, &quot;lngFirst&quot;: false, &quot;numDigits&quot;: 20, &quot;position&quot;: &quot;topright&quot;, &quot;prefix&quot;: &quot;Lat:&quot;, &quot;separator&quot;: &quot; Long: &quot;}\n            );\n            mouse_position_3ef79de82b525315ae4623bbb8f44cb6.options[&quot;latFormatter&quot;] =\n                function(num) {return L.Util.formatNum(num, 5);};;\n            mouse_position_3ef79de82b525315ae4623bbb8f44cb6.options[&quot;lngFormatter&quot;] =\n                function(num) {return L.Util.formatNum(num, 5);};;\n            map_1298baed41ed76cd537ab47a7301608c.addControl(mouse_position_3ef79de82b525315ae4623bbb8f44cb6);\n        \n    \n            tile_layer_9365d3100fd9ccc282e33799c00cddc6.addTo(map_1298baed41ed76cd537ab47a7301608c);\n        \n    \n            marker_cluster_514ff6287bfbea1b0eef854a2ceaee50.addTo(map_1298baed41ed76cd537ab47a7301608c);\n        \n    \n            var mouse_position_7dd755ab269f89ad6cf2f0054b045c82 = new L.Control.MousePosition(\n                {&quot;emptyString&quot;: &quot;NaN&quot;, &quot;lngFirst&quot;: false, &quot;numDigits&quot;: 20, &quot;position&quot;: &quot;topright&quot;, &quot;prefix&quot;: &quot;Lat:&quot;, &quot;separator&quot;: &quot; Long: &quot;}\n            );\n            mouse_position_7dd755ab269f89ad6cf2f0054b045c82.options[&quot;latFormatter&quot;] =\n                function(num) {return L.Util.formatNum(num, 5);};;\n            mouse_position_7dd755ab269f89ad6cf2f0054b045c82.options[&quot;lngFormatter&quot;] =\n                function(num) {return L.Util.formatNum(num, 5);};;\n            map_1298baed41ed76cd537ab47a7301608c.addControl(mouse_position_7dd755ab269f89ad6cf2f0054b045c82);\n        \n    \n            tile_layer_9365d3100fd9ccc282e33799c00cddc6.addTo(map_1298baed41ed76cd537ab47a7301608c);\n        \n    \n            marker_cluster_514ff6287bfbea1b0eef854a2ceaee50.addTo(map_1298baed41ed76cd537ab47a7301608c);\n        \n    \n            var mouse_position_d67bfed977435504654f8c7b7a3d6d9a = new L.Control.MousePosition(\n                {&quot;emptyString&quot;: &quot;NaN&quot;, &quot;lngFirst&quot;: false, &quot;numDigits&quot;: 20, &quot;position&quot;: &quot;toplrft&quot;, &quot;prefix&quot;: &quot;Lat:&quot;, &quot;separator&quot;: &quot; Long: &quot;}\n            );\n            mouse_position_d67bfed977435504654f8c7b7a3d6d9a.options[&quot;latFormatter&quot;] =\n                function(num) {return L.Util.formatNum(num, 5);};;\n            mouse_position_d67bfed977435504654f8c7b7a3d6d9a.options[&quot;lngFormatter&quot;] =\n                function(num) {return L.Util.formatNum(num, 5);};;\n            map_1298baed41ed76cd537ab47a7301608c.addControl(mouse_position_d67bfed977435504654f8c7b7a3d6d9a);\n        \n&lt;/script&gt;\n&lt;/html&gt;\" style=\"position:absolute;width:100%;height:100%;left:0;top:0;border:none !important;\" allowfullscreen webkitallowfullscreen mozallowfullscreen></iframe></div></div>"
     },
     "execution_count": 152,
     "metadata": {},
     "output_type": "execute_result"
    }
   ],
   "source": [
    "# Add Mouse Position to get the coordinate (Lat, Long) for a mouse over on the map\n",
    "formatter = \"function(num) {return L.Util.formatNum(num, 5);};\"\n",
    "mouse_position = MousePosition(\n",
    "    position='toplrft',\n",
    "    separator=' Long: ',\n",
    "    empty_string='NaN',\n",
    "    lng_first=False,\n",
    "    num_digits=20,\n",
    "    prefix='Lat:',\n",
    "    lat_formatter=formatter,\n",
    "    lng_formatter=formatter,\n",
    ")\n",
    "\n",
    "site_map.add_child(mouse_position)\n",
    "site_map"
   ]
  },
  {
   "cell_type": "markdown",
   "metadata": {},
   "source": [
    "Now zoom in to a launch site and explore its proximity to see if you can easily find any railway, highway, coastline, etc. Move your mouse to these points and mark down their coordinates (shown on the top-left) in order to the distance to the launch site.\n"
   ]
  },
  {
   "cell_type": "markdown",
   "metadata": {},
   "source": [
    "You can calculate the distance between two points on the map based on their `Lat` and `Long` values using the following method:\n"
   ]
  },
  {
   "cell_type": "code",
   "execution_count": null,
   "metadata": {},
   "outputs": [],
   "source": [
    "from math import sin, cos, sqrt, atan2, radians\n",
    "\n",
    "def calculate_distance(lat1, lon1, lat2, lon2):\n",
    "    # approximate radius of earth in km\n",
    "    R = 6373.0\n",
    "\n",
    "    lat1 = radians(lat1)\n",
    "    lon1 = radians(lon1)\n",
    "    lat2 = radians(lat2)\n",
    "    lon2 = radians(lon2)\n",
    "\n",
    "    dlon = lon2 - lon1\n",
    "    dlat = lat2 - lat1\n",
    "\n",
    "    a = sin(dlat / 2)**2 + cos(lat1) * cos(lat2) * sin(dlon / 2)**2\n",
    "    c = 2 * atan2(sqrt(a), sqrt(1 - a))\n",
    "\n",
    "    distance = R * c\n",
    "    return distance"
   ]
  },
  {
   "cell_type": "markdown",
   "metadata": {},
   "source": [
    "_TODO:_ Mark down a point on the closest coastline using MousePosition and calculate the distance between the coastline point and the launch site.\n"
   ]
  },
  {
   "cell_type": "code",
   "execution_count": null,
   "metadata": {},
   "outputs": [],
   "source": [
    "# find coordinate of the closet coastline\n",
    "# e.g.,: Lat: 28.56367  Lon: -80.57163\n",
    "# distance_coastline = calculate_distance(launch_site_lat, launch_site_lon, coastline_lat, coastline_lon)"
   ]
  },
  {
   "cell_type": "markdown",
   "metadata": {},
   "source": [
    "_TODO:_ After obtained its coordinate, create a `folium.Marker` to show the distance\n"
   ]
  },
  {
   "cell_type": "code",
   "execution_count": null,
   "metadata": {},
   "outputs": [],
   "source": [
    "# Create and add a folium.Marker on your selected closest coastline point on the map\n",
    "# Display the distance between coastline point and launch site using the icon property \n",
    "# for example\n",
    "# distance_marker = folium.Marker(\n",
    "#    coordinate,\n",
    "#    icon=DivIcon(\n",
    "#        icon_size=(20,20),\n",
    "#        icon_anchor=(0,0),\n",
    "#        html='<div style=\"font-size: 12; color:#d35400;\"><b>%s</b></div>' % \"{:10.2f} KM\".format(distance),\n",
    "#        )\n",
    "#    )"
   ]
  },
  {
   "cell_type": "markdown",
   "metadata": {},
   "source": [
    "_TODO:_ Draw a `PolyLine` between a launch site to the selected coastline point\n"
   ]
  },
  {
   "cell_type": "code",
   "execution_count": null,
   "metadata": {},
   "outputs": [],
   "source": [
    "# Create a `folium.PolyLine` object using the coastline coordinates and launch site coordinate\n",
    "# lines=folium.PolyLine(locations=coordinates, weight=1)\n",
    "site_map.add_child(lines)"
   ]
  },
  {
   "cell_type": "markdown",
   "metadata": {},
   "source": [
    "Your updated map with distance line should look like the following screenshot:\n"
   ]
  },
  {
   "cell_type": "markdown",
   "metadata": {},
   "source": [
    "<center>\n",
    "    <img src=\"https://cf-courses-data.s3.us.cloud-object-storage.appdomain.cloud/IBM-DS0321EN-SkillsNetwork/labs/module_3/images/launch_site_marker_distance.png\">\n",
    "</center>\n"
   ]
  },
  {
   "cell_type": "markdown",
   "metadata": {},
   "source": [
    "_TODO:_ Similarly, you can draw a line betwee a launch site to its closest city, railway, highway, etc. You need to use `MousePosition` to find the their coordinates on the map first\n"
   ]
  },
  {
   "cell_type": "markdown",
   "metadata": {},
   "source": [
    "A railway map symbol may look like this:\n"
   ]
  },
  {
   "cell_type": "markdown",
   "metadata": {},
   "source": [
    "<center>\n",
    "    <img src=\"https://cf-courses-data.s3.us.cloud-object-storage.appdomain.cloud/IBM-DS0321EN-SkillsNetwork/labs/module_3/images/railway.png\">\n",
    "</center>\n"
   ]
  },
  {
   "cell_type": "markdown",
   "metadata": {},
   "source": [
    "A highway map symbol may look like this:\n"
   ]
  },
  {
   "cell_type": "markdown",
   "metadata": {},
   "source": [
    "<center>\n",
    "    <img src=\"https://cf-courses-data.s3.us.cloud-object-storage.appdomain.cloud/IBM-DS0321EN-SkillsNetwork/labs/module_3/images/highway.png\">\n",
    "</center>\n"
   ]
  },
  {
   "cell_type": "markdown",
   "metadata": {},
   "source": [
    "A city map symbol may look like this:\n"
   ]
  },
  {
   "cell_type": "markdown",
   "metadata": {},
   "source": [
    "<center>\n",
    "    <img src=\"https://cf-courses-data.s3.us.cloud-object-storage.appdomain.cloud/IBM-DS0321EN-SkillsNetwork/labs/module_3/images/city.png\">\n",
    "</center>\n"
   ]
  },
  {
   "cell_type": "code",
   "execution_count": null,
   "metadata": {},
   "outputs": [],
   "source": [
    "# Create a marker with distance to a closest city, railway, highway, etc.\n",
    "# Draw a line between the marker to the launch site\n"
   ]
  },
  {
   "cell_type": "code",
   "execution_count": null,
   "metadata": {},
   "outputs": [],
   "source": []
  },
  {
   "cell_type": "code",
   "execution_count": null,
   "metadata": {},
   "outputs": [],
   "source": []
  },
  {
   "cell_type": "markdown",
   "metadata": {},
   "source": [
    "After you plot distance lines to the proximities, you can answer the following questions easily:\n",
    "- Are launch sites in close proximity to railways?\n",
    "- Are launch sites in close proximity to highways?\n",
    "- Are launch sites in close proximity to coastline?\n",
    "- Do launch sites keep certain distance away from cities?\n",
    "\n",
    "Also please try to explain your findings.\n"
   ]
  },
  {
   "cell_type": "markdown",
   "metadata": {},
   "source": [
    "# Next Steps:\n",
    "\n",
    "Now you have discovered many interesting insights related to the launch sites' location using folium, in a very interactive way. Next, you will need to build a dashboard using Ploty Dash on detailed launch records.\n"
   ]
  },
  {
   "cell_type": "markdown",
   "metadata": {},
   "source": [
    "## Authors\n"
   ]
  },
  {
   "cell_type": "markdown",
   "metadata": {},
   "source": [
    "[Yan Luo](https://www.linkedin.com/in/yan-luo-96288783/?utm_medium=Exinfluencer&utm_source=Exinfluencer&utm_content=000026UJ&utm_term=10006555&utm_id=NA-SkillsNetwork-Channel-SkillsNetworkCoursesIBMDS0321ENSkillsNetwork865-2023-01-01)\n"
   ]
  },
  {
   "cell_type": "markdown",
   "metadata": {},
   "source": [
    "### Other Contributors\n"
   ]
  },
  {
   "cell_type": "markdown",
   "metadata": {},
   "source": [
    "Joseph Santarcangelo\n"
   ]
  },
  {
   "cell_type": "markdown",
   "metadata": {},
   "source": [
    "## Change Log\n"
   ]
  },
  {
   "cell_type": "markdown",
   "metadata": {},
   "source": [
    "|Date (YYYY-MM-DD)|Version|Changed By|Change Description|\n",
    "|-|-|-|-|\n",
    "|2021-05-26|1.0|Yan|Created the initial version|\n"
   ]
  },
  {
   "cell_type": "markdown",
   "metadata": {},
   "source": [
    "Copyright © 2021 IBM Corporation. All rights reserved.\n"
   ]
  }
 ],
 "metadata": {
  "kernelspec": {
   "name": "python3",
   "language": "python",
   "display_name": "Python 3 (ipykernel)"
  },
  "language_info": {
   "name": ""
  }
 },
 "nbformat": 4,
 "nbformat_minor": 4
}
